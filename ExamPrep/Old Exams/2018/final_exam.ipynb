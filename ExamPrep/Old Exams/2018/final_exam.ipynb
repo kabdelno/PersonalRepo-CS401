{
 "cells": [
  {
   "cell_type": "code",
   "execution_count": 47,
   "metadata": {
    "collapsed": true
   },
   "outputs": [],
   "source": [
    "import numpy as np\n",
    "import pandas as pd\n",
    "import matplotlib.pyplot as plt\n",
    "from helpers.helper_functions import *\n",
    "import networkx as nx"
   ]
  },
  {
   "cell_type": "code",
   "execution_count": 3,
   "metadata": {},
   "outputs": [],
   "source": [
    "from string import punctuation\n",
    "\n",
    "EXCLUDE_CHARS = set(punctuation).union(set('’'))\n",
    "def simple_tokeniser(text):\n",
    "    return text.split()"
   ]
  },
  {
   "cell_type": "markdown",
   "metadata": {},
   "source": [
    "# The Significant Bang Theory\n",
    "\n",
    "Attention, ADA students!\n",
    "\n",
    "The Sheldon Cooper we all know and love (OK, some of us might not know him, and some might not love him) from the TV series \"The Big Bang Theory\" has gotten into an argument with Leonard from the same TV show. Sheldon insists that he knows the show better than anyone, and keeps making various claims about the show, which neither of them know how to prove or disprove. The two of them have reached out to you ladies and gentlemen, as data scientists, to help them. You will be given the full script of the series, with information on the episode, the scene, the person saying each dialogue line, and the dialogue lines themselves.\n",
    "\n",
    "Leonard has challenged several of Sheldon's claims about the show, and throughout this exam you will see some of those and you will get to prove or disprove them, but remember: sometimes, we can neither prove a claim, nor disprove it!\n",
    "\n",
    "## Deadline\n",
    "Wednesday, January 30th, 2019; 11:15 A.M. (Swiss time)\n",
    "\n",
    "_For the deadline for extramural exams, see the submission subsection._\n",
    "\n",
    "## Important notes\n",
    "* Don't forget to add a textual description of your thought process, the assumptions you made, and your results!\n",
    "* Please write all your comments in English, and use meaningful variable names in your code.\n",
    "* As we have seen during the semester, data science is all about multiple iterations on the same dataset. Do not obsess over small details in the beginning, and try to complete as many tasks as possible during the first 2 hours. Then, go back to the obtained results, write meaningful comments, and debug your code if you have found any glaring mistake.\n",
    "* Fully read the instructions for each question before starting to solve it to avoid misunderstandings, and remember to save your notebook often!\n",
    "* The exam contains **15 questions organised into 4 tasks**, and is designed for more than 3 hours. **You do not need to solve everything in order to get a 6**, and you have some freedom is choosing the tasks you wish to solve.\n",
    "* You cannot leave the room in the first and last 15 minutes.\n",
    "* You can use all the online resources you want except for communication tools (emails, web chats, forums, phone, etc.). We will be monitoring the network for unusual activity.\n",
    "* Remember, this is not a homework assignment -- no teamwork allowed!\n",
    "\n",
    "## Submission\n",
    "* Your file has to be named as \"NameSurname_SCIPER.ipynb\".\n",
    "* Make sure you upload your Jupyter Notebook (1 file) to [this](https://goo.gl/forms/7GLvYl94uSOn54jH2) Google form at the end of the exam, with all the cells already evaluated (except for the Spark-related question, Q7). You need to sign in to Google using your EPFL credentials in order to submit the form.\n",
    "* In case of problems with the form, send your Jupyter Notebook (along with your name and SCIPER number) as a direct message to @ramtin on Mattermost. This is reserved only for those who encounter problems with the submission -- you need to have a reasonable justification for using this back-up.\n",
    "* You will have until 11:20 (strict deadline) to turn in your submission. **Late submissions will not be accepted.** This deadline is for the students taking the exam at EPFL -- students taking the exam extramurally will have their submission deadline as the starting time of the exam plus 3 hours and 5 minutes."
   ]
  },
  {
   "cell_type": "markdown",
   "metadata": {
    "collapsed": true
   },
   "source": [
    "## Task A: Picking up the shovel (10 points)\n",
    "\n",
    "**Note: You will use the data you preprocess in this task in all the subsequent ones.**\n",
    "\n",
    "Our friends' argument concerns the entire show. We have given you a file in the `data/` folder that contains the script of every single episode. New episodes are indicated by '>>', new scenes by '>', and the rest of the lines are dialogue lines. Some lines are said by multiple people (for example, lines indicated by 'All' or 'Together'); **you must discard these lines**, for the sake of simplicity. However, you do not need to do it for Q1 in this task -- you'll take care of it when you solve Q2.\n",
    "\n",
    "**Q1**. (5 points) Your first task is to extract all lines of dialogue in each scene and episode, creating a dataframe where each row has the episode and scene where a dialogue line was said, the character who said it, and the line itself. You do not need to extract the proper name of the episode (e.g. episode 1 can appear as \"Series 01 Episode 01 - Pilot Episode\", and doesn't need to appear as \"Pilot Episode\"). Then, answer the following question: In total, how many scenes are there in each season? We're not asking about unique scenes; the same location appearing in two episodes counts as two scenes. You can use a Pandas dataframe with a season column and a scene count column as the response.\n",
    "\n",
    "**Note: The data refers to seasons as \"series\".**"
   ]
  },
  {
   "cell_type": "code",
   "execution_count": 4,
   "metadata": {},
   "outputs": [
    {
     "data": {
      "text/html": [
       "<div>\n",
       "<style scoped>\n",
       "    .dataframe tbody tr th:only-of-type {\n",
       "        vertical-align: middle;\n",
       "    }\n",
       "\n",
       "    .dataframe tbody tr th {\n",
       "        vertical-align: top;\n",
       "    }\n",
       "\n",
       "    .dataframe thead th {\n",
       "        text-align: right;\n",
       "    }\n",
       "</style>\n",
       "<table border=\"1\" class=\"dataframe\">\n",
       "  <thead>\n",
       "    <tr style=\"text-align: right;\">\n",
       "      <th></th>\n",
       "      <th>Season</th>\n",
       "      <th>Episode</th>\n",
       "      <th>Scene</th>\n",
       "      <th>Speaker</th>\n",
       "      <th>Line</th>\n",
       "    </tr>\n",
       "  </thead>\n",
       "  <tbody>\n",
       "    <tr>\n",
       "      <th>0</th>\n",
       "      <td>01</td>\n",
       "      <td>Episode 01 – Pilot Episode</td>\n",
       "      <td>A corridor at a sperm bank.</td>\n",
       "      <td>Sheldon</td>\n",
       "      <td>So if a photon is directed through a plane wit...</td>\n",
       "    </tr>\n",
       "    <tr>\n",
       "      <th>1</th>\n",
       "      <td>01</td>\n",
       "      <td>Episode 01 – Pilot Episode</td>\n",
       "      <td>A corridor at a sperm bank.</td>\n",
       "      <td>Leonard</td>\n",
       "      <td>Agreed, what’s your point?</td>\n",
       "    </tr>\n",
       "    <tr>\n",
       "      <th>2</th>\n",
       "      <td>01</td>\n",
       "      <td>Episode 01 – Pilot Episode</td>\n",
       "      <td>A corridor at a sperm bank.</td>\n",
       "      <td>Sheldon</td>\n",
       "      <td>There’s no point, I just think it’s a good ide...</td>\n",
       "    </tr>\n",
       "    <tr>\n",
       "      <th>3</th>\n",
       "      <td>01</td>\n",
       "      <td>Episode 01 – Pilot Episode</td>\n",
       "      <td>A corridor at a sperm bank.</td>\n",
       "      <td>Leonard</td>\n",
       "      <td>Excuse me?</td>\n",
       "    </tr>\n",
       "    <tr>\n",
       "      <th>4</th>\n",
       "      <td>01</td>\n",
       "      <td>Episode 01 – Pilot Episode</td>\n",
       "      <td>A corridor at a sperm bank.</td>\n",
       "      <td>Receptionist</td>\n",
       "      <td>Hang on.</td>\n",
       "    </tr>\n",
       "    <tr>\n",
       "      <th>5</th>\n",
       "      <td>01</td>\n",
       "      <td>Episode 01 – Pilot Episode</td>\n",
       "      <td>A corridor at a sperm bank.</td>\n",
       "      <td>Leonard</td>\n",
       "      <td>One across is Aegean, eight down is Nabakov, t...</td>\n",
       "    </tr>\n",
       "    <tr>\n",
       "      <th>6</th>\n",
       "      <td>01</td>\n",
       "      <td>Episode 01 – Pilot Episode</td>\n",
       "      <td>A corridor at a sperm bank.</td>\n",
       "      <td>Receptionist</td>\n",
       "      <td>Can I help you?</td>\n",
       "    </tr>\n",
       "    <tr>\n",
       "      <th>7</th>\n",
       "      <td>01</td>\n",
       "      <td>Episode 01 – Pilot Episode</td>\n",
       "      <td>A corridor at a sperm bank.</td>\n",
       "      <td>Leonard</td>\n",
       "      <td>Yes. Um, is this the High IQ sperm bank?</td>\n",
       "    </tr>\n",
       "    <tr>\n",
       "      <th>8</th>\n",
       "      <td>01</td>\n",
       "      <td>Episode 01 – Pilot Episode</td>\n",
       "      <td>A corridor at a sperm bank.</td>\n",
       "      <td>Receptionist</td>\n",
       "      <td>If you have to ask, maybe you shouldn’t be here.</td>\n",
       "    </tr>\n",
       "    <tr>\n",
       "      <th>9</th>\n",
       "      <td>01</td>\n",
       "      <td>Episode 01 – Pilot Episode</td>\n",
       "      <td>A corridor at a sperm bank.</td>\n",
       "      <td>Sheldon</td>\n",
       "      <td>I think this is the place.</td>\n",
       "    </tr>\n",
       "  </tbody>\n",
       "</table>\n",
       "</div>"
      ],
      "text/plain": [
       "  Season                      Episode                        Scene  \\\n",
       "0     01   Episode 01 – Pilot Episode  A corridor at a sperm bank.   \n",
       "1     01   Episode 01 – Pilot Episode  A corridor at a sperm bank.   \n",
       "2     01   Episode 01 – Pilot Episode  A corridor at a sperm bank.   \n",
       "3     01   Episode 01 – Pilot Episode  A corridor at a sperm bank.   \n",
       "4     01   Episode 01 – Pilot Episode  A corridor at a sperm bank.   \n",
       "5     01   Episode 01 – Pilot Episode  A corridor at a sperm bank.   \n",
       "6     01   Episode 01 – Pilot Episode  A corridor at a sperm bank.   \n",
       "7     01   Episode 01 – Pilot Episode  A corridor at a sperm bank.   \n",
       "8     01   Episode 01 – Pilot Episode  A corridor at a sperm bank.   \n",
       "9     01   Episode 01 – Pilot Episode  A corridor at a sperm bank.   \n",
       "\n",
       "        Speaker                                               Line  \n",
       "0       Sheldon  So if a photon is directed through a plane wit...  \n",
       "1       Leonard                         Agreed, what’s your point?  \n",
       "2       Sheldon  There’s no point, I just think it’s a good ide...  \n",
       "3       Leonard                                         Excuse me?  \n",
       "4  Receptionist                                           Hang on.  \n",
       "5       Leonard  One across is Aegean, eight down is Nabakov, t...  \n",
       "6  Receptionist                                    Can I help you?  \n",
       "7       Leonard           Yes. Um, is this the High IQ sperm bank?  \n",
       "8  Receptionist   If you have to ask, maybe you shouldn’t be here.  \n",
       "9       Sheldon                         I think this is the place.  "
      ]
     },
     "execution_count": 4,
     "metadata": {},
     "output_type": "execute_result"
    }
   ],
   "source": [
    "season = \"\"\n",
    "episode = \"\"\n",
    "scene = \"\"\n",
    "speaker =\"\"\n",
    "dialogue =\"\"\n",
    "data = []\n",
    "with open(\"all_scripts.txt\") as f:\n",
    "    for line in f.readlines():\n",
    "        line = line[:-1]\n",
    "        if line.startswith(\">>\"):\n",
    "            season = line[10:12]\n",
    "            episode = line[12:]\n",
    "            continue\n",
    "        if line.startswith(\">\"):\n",
    "            scene = line[2:]\n",
    "            continue\n",
    "        speaker, line= line.split(\": \", 1)\n",
    "        line = str(line)\n",
    "        data.append([season, episode, scene, speaker, line])\n",
    "lines_df = pd.DataFrame(data, columns=[\"Season\", \"Episode\", \"Scene\", \"Speaker\", \"Line\"])\n",
    "lines_df.head(10)"
   ]
  },
  {
   "cell_type": "code",
   "execution_count": 5,
   "metadata": {},
   "outputs": [
    {
     "name": "stdout",
     "output_type": "stream",
     "text": [
      "Season\n",
      "01    157\n",
      "02    205\n",
      "03    193\n",
      "04    219\n",
      "05    198\n",
      "06    211\n",
      "07    207\n",
      "08    191\n",
      "09    177\n",
      "10    189\n",
      "Name: Scene, dtype: int64\n"
     ]
    }
   ],
   "source": [
    "scene_count = lines_df.groupby([\"Season\", \"Episode\", \"Scene\"]).count().reset_index().groupby(\"Season\")['Scene'].count()\n",
    "print(scene_count)\n",
    "## first get the individual and unique season, episode and scene combinations, count then converts it into a dataframe\n",
    "## reset index gets rid of the heirarchical index that was created by the group by and then you simply group by season and count scenes"
   ]
  },
  {
   "cell_type": "markdown",
   "metadata": {},
   "source": [
    "**Q2**. (5 points) Now, let's define two sets of characters: all the characters, and recurrent characters. Recurrent characters are those who appear in more than one episode. For the subsequent sections, you will need to have a list of recurrent characters. Assume that there are no two _named characters_ (i.e. characters who have actual names and aren't referred to generically as \"little girl\", \"grumpy grandpa\", etc.) with the same name, i.e. there are no two Sheldons, etc. Generate a list of recurrent characters who have more than 90 dialogue lines in total, and then take a look at the list you have. If you've done this correctly, you should have a list of 20 names. However, one of these is clearly not a recurrent character. Manually remove that one, and print out your list of recurrent characters. To remove that character, pay attention to the _named character_ assumption we gave you earlier on. **For all the subsequent questions, you must only keep the dialogue lines said by the recurrent characters in your list.**\n",
    "\n",
    "_Hint: \"I know all the recurrent characters because I've watched the entire series five times\" is not an acceptable argument, so you need to actually generate the list._"
   ]
  },
  {
   "cell_type": "code",
   "execution_count": 29,
   "metadata": {},
   "outputs": [
    {
     "name": "stdout",
     "output_type": "stream",
     "text": [
      "         Speaker   Line\n",
      "0            Amy   3472\n",
      "1         Arthur    130\n",
      "2     Bernadette   2690\n",
      "3           Bert     95\n",
      "4       Beverley    162\n",
      "5          Emily    164\n",
      "6         Howard   5872\n",
      "7         Kripke    106\n",
      "8        Leonard   9829\n",
      "9         Leslie    116\n",
      "10    Mrs Cooper    213\n",
      "11  Mrs Wolowitz    136\n",
      "12         Penny   7677\n",
      "13         Priya    222\n",
      "14           Raj   4779\n",
      "15       Sheldon  11689\n",
      "16        Stuart    733\n",
      "17           Wil    126\n",
      "18          Zack    135\n"
     ]
    }
   ],
   "source": [
    "recurrent_characters = lines_df.groupby(['Speaker'])['Line'].count().reset_index()\n",
    "recurrent_characters = recurrent_characters[recurrent_characters['Line'] >90]\n",
    "print(recurrent_characters)"
   ]
  },
  {
   "cell_type": "markdown",
   "metadata": {},
   "source": [
    "Man is obviously not a recurrent character."
   ]
  },
  {
   "cell_type": "code",
   "execution_count": 7,
   "metadata": {},
   "outputs": [
    {
     "name": "stdout",
     "output_type": "stream",
     "text": [
      "          Speaker   Line\n",
      "10            Amy   3472\n",
      "13         Arthur    130\n",
      "20     Bernadette   2690\n",
      "21           Bert     95\n",
      "23       Beverley    162\n",
      "52          Emily    164\n",
      "71         Howard   5872\n",
      "90         Kripke    106\n",
      "95        Leonard   9829\n",
      "98         Leslie    116\n",
      "121    Mrs Cooper    213\n",
      "128  Mrs Wolowitz    136\n",
      "137         Penny   7677\n",
      "142         Priya    222\n",
      "147           Raj   4779\n",
      "160       Sheldon  11689\n",
      "173        Stuart    733\n",
      "191           Wil    126\n",
      "196          Zack    135\n"
     ]
    }
   ],
   "source": [
    "recurrent_characters.drop(recurrent_characters.loc[recurrent_characters['Speaker'] == 'Man'].index, \n",
    "                          axis=0, inplace=True)\n",
    "print(recurrent_characters)\n",
    "## or set index to speaker et tu ne te fais pas plus chier que ça"
   ]
  },
  {
   "cell_type": "code",
   "execution_count": 8,
   "metadata": {},
   "outputs": [
    {
     "data": {
      "text/plain": [
       "19"
      ]
     },
     "execution_count": 8,
     "metadata": {},
     "output_type": "execute_result"
    }
   ],
   "source": [
    "lines_df = lines_df[lines_df['Speaker'].isin(recurrent_characters['Speaker'])]\n",
    "lines_df['Speaker'].unique().shape[0] ## for verification"
   ]
  },
  {
   "cell_type": "markdown",
   "metadata": {},
   "source": [
    "## Task B: Read the ~~stats~~ scripts carefully (30 points)\n",
    "\n",
    "### Part 1: Don't put the shovel down just yet\n",
    "\n",
    "**Q3**. (2.5 points) From each dialogue line, replace punctuation marks (listed in the EXCLUDE_CHARS variable provided in `helpers/helper_functions.py`) with whitespaces, and lowercase all the text. **Do not remove any stopwords, leave them be for all the questions in this task.**"
   ]
  },
  {
   "cell_type": "code",
   "execution_count": 9,
   "metadata": {},
   "outputs": [
    {
     "data": {
      "text/html": [
       "<div>\n",
       "<style scoped>\n",
       "    .dataframe tbody tr th:only-of-type {\n",
       "        vertical-align: middle;\n",
       "    }\n",
       "\n",
       "    .dataframe tbody tr th {\n",
       "        vertical-align: top;\n",
       "    }\n",
       "\n",
       "    .dataframe thead th {\n",
       "        text-align: right;\n",
       "    }\n",
       "</style>\n",
       "<table border=\"1\" class=\"dataframe\">\n",
       "  <thead>\n",
       "    <tr style=\"text-align: right;\">\n",
       "      <th></th>\n",
       "      <th>Season</th>\n",
       "      <th>Episode</th>\n",
       "      <th>Scene</th>\n",
       "      <th>Speaker</th>\n",
       "      <th>Line</th>\n",
       "    </tr>\n",
       "  </thead>\n",
       "  <tbody>\n",
       "    <tr>\n",
       "      <th>0</th>\n",
       "      <td>01</td>\n",
       "      <td>Episode 01 – Pilot Episode</td>\n",
       "      <td>A corridor at a sperm bank.</td>\n",
       "      <td>Sheldon</td>\n",
       "      <td>so if a photon is directed through a plane wit...</td>\n",
       "    </tr>\n",
       "    <tr>\n",
       "      <th>1</th>\n",
       "      <td>01</td>\n",
       "      <td>Episode 01 – Pilot Episode</td>\n",
       "      <td>A corridor at a sperm bank.</td>\n",
       "      <td>Leonard</td>\n",
       "      <td>agreed  what s your point</td>\n",
       "    </tr>\n",
       "    <tr>\n",
       "      <th>2</th>\n",
       "      <td>01</td>\n",
       "      <td>Episode 01 – Pilot Episode</td>\n",
       "      <td>A corridor at a sperm bank.</td>\n",
       "      <td>Sheldon</td>\n",
       "      <td>there s no point  i just think it s a good ide...</td>\n",
       "    </tr>\n",
       "    <tr>\n",
       "      <th>3</th>\n",
       "      <td>01</td>\n",
       "      <td>Episode 01 – Pilot Episode</td>\n",
       "      <td>A corridor at a sperm bank.</td>\n",
       "      <td>Leonard</td>\n",
       "      <td>excuse me</td>\n",
       "    </tr>\n",
       "    <tr>\n",
       "      <th>5</th>\n",
       "      <td>01</td>\n",
       "      <td>Episode 01 – Pilot Episode</td>\n",
       "      <td>A corridor at a sperm bank.</td>\n",
       "      <td>Leonard</td>\n",
       "      <td>one across is aegean  eight down is nabakov  t...</td>\n",
       "    </tr>\n",
       "  </tbody>\n",
       "</table>\n",
       "</div>"
      ],
      "text/plain": [
       "  Season                      Episode                        Scene  Speaker  \\\n",
       "0     01   Episode 01 – Pilot Episode  A corridor at a sperm bank.  Sheldon   \n",
       "1     01   Episode 01 – Pilot Episode  A corridor at a sperm bank.  Leonard   \n",
       "2     01   Episode 01 – Pilot Episode  A corridor at a sperm bank.  Sheldon   \n",
       "3     01   Episode 01 – Pilot Episode  A corridor at a sperm bank.  Leonard   \n",
       "5     01   Episode 01 – Pilot Episode  A corridor at a sperm bank.  Leonard   \n",
       "\n",
       "                                                Line  \n",
       "0  so if a photon is directed through a plane wit...  \n",
       "1                         agreed  what s your point   \n",
       "2  there s no point  i just think it s a good ide...  \n",
       "3                                         excuse me   \n",
       "5  one across is aegean  eight down is nabakov  t...  "
      ]
     },
     "execution_count": 9,
     "metadata": {},
     "output_type": "execute_result"
    }
   ],
   "source": [
    "def clean_line(line):\n",
    "    for char in EXCLUDE_CHARS:\n",
    "        line = line.replace(char, \" \")\n",
    "        line = line.lower()\n",
    "    return line\n",
    "lines_df['Line'] = lines_df['Line'].apply(clean_line)\n",
    "lines_df.head()"
   ]
  },
  {
   "cell_type": "markdown",
   "metadata": {},
   "source": [
    "**Q4**. (5 points) For each term, calculate its \"corpus frequency\", i.e. its number of occurrences in the entire series. Visualize the distribution of corpus frequency using a histogram. Explain your observations. What are the appropriate x and y scales for this plot?"
   ]
  },
  {
   "cell_type": "code",
   "execution_count": 10,
   "metadata": {},
   "outputs": [],
   "source": [
    "word_df = pd.concat(pd.Series(row['Line'].split(' ')) for _, row in lines_df.iterrows()).reset_index()\n",
    "word_df.columns = [\"Frequency\", \"Word\"]\n",
    "word_counts = word_df.groupby('Word').count()"
   ]
  },
  {
   "cell_type": "code",
   "execution_count": 11,
   "metadata": {},
   "outputs": [
    {
     "data": {
      "text/plain": [
       "<AxesSubplot: title={'center': 'Frequency histogram (loglog scale)'}, ylabel='Frequency'>"
      ]
     },
     "execution_count": 11,
     "metadata": {},
     "output_type": "execute_result"
    },
    {
     "data": {
      "image/png": "[encoded data removed]",
      "text/plain": [
       "<Figure size 640x480 with 1 Axes>"
      ]
     },
     "metadata": {},
     "output_type": "display_data"
    }
   ],
   "source": [
    "word_counts.plot.hist(column=[\"Frequency\"], loglog=True, bins=np.logspace(0, 6, 100),\n",
    "                           title=\"Frequency histogram (loglog scale)\")"
   ]
  },
  {
   "cell_type": "markdown",
   "metadata": {},
   "source": [
    "### Part 2: Talkativity\n",
    "**Q5**. (2.5 points) For each of the recurrent characters, calculate their total number of words uttered across all episodes. Based on this, who seems to be the most talkative character?"
   ]
  },
  {
   "cell_type": "code",
   "execution_count": 12,
   "metadata": {},
   "outputs": [
    {
     "data": {
      "text/plain": [
       "Speaker\n",
       "Amy              39933\n",
       "Arthur            1451\n",
       "Bernadette       27726\n",
       "Bert              1146\n",
       "Beverley          2029\n",
       "Emily             1571\n",
       "Howard           69505\n",
       "Kripke            1246\n",
       "Leonard         102496\n",
       "Leslie            1249\n",
       "Mrs Cooper        3389\n",
       "Mrs Wolowitz      1459\n",
       "Penny            79270\n",
       "Priya             1940\n",
       "Raj              60099\n",
       "Sheldon         185388\n",
       "Stuart            7955\n",
       "Wil               1678\n",
       "Zack              1427\n",
       "Name: Words, dtype: int64"
      ]
     },
     "execution_count": 12,
     "metadata": {},
     "output_type": "execute_result"
    }
   ],
   "source": [
    "lines_df['Words'] = lines_df['Line'].apply(lambda x: len(x.split())) ## counts words per line then groups up and sums them\n",
    "## without len it would have worked but the code would have been longer and more annoying to write\n",
    "wpc = lines_df.groupby(['Speaker'])['Words'].sum()\n",
    "wpc"
   ]
  },
  {
   "cell_type": "markdown",
   "metadata": {},
   "source": [
    "**Q6**. (12.5 points) For each of the recurrent characters, calculate their total number of words uttered per episode (ignoring episodes that the character does not appear in), and calculate a **robust summary statistic** for the word count distribution of each person.\n",
    "\n",
    "&nbsp;&nbsp;&nbsp;&nbsp;&nbsp;&nbsp;**i)** (2.5 points) What changes do you observe, compared to the analysis in Q5?\n",
    "\n",
    "&nbsp;&nbsp;&nbsp;&nbsp;&nbsp;&nbsp;**ii)** (2.5 points) Why is this analysis an improvement over the previous one, and how could you improve it even further? _Hint: The improvement involves making your unit for word counts even more granular - you can go further down than episodes._\n",
    "\n",
    "&nbsp;&nbsp;&nbsp;&nbsp;&nbsp;&nbsp;**iii)** (7.5 points) Incorporate that improvement. Do you still see the same results? How **confident** can you be that the \"most talkative\" person given by this twice improved method is really more talkative than the second most talkative one? _Hint: Read the question again. A good idea would be to use bootstrapping and calculate your summary statistic on each bootstrapped set._"
   ]
  },
  {
   "cell_type": "code",
   "execution_count": 13,
   "metadata": {},
   "outputs": [
    {
     "data": {
      "text/plain": [
       "Speaker\n",
       "Amy             22.0\n",
       "Arthur          32.5\n",
       "Bernadette      15.0\n",
       "Bert            15.0\n",
       "Beverley        24.0\n",
       "Emily           10.0\n",
       "Howard          24.0\n",
       "Kripke          10.0\n",
       "Leonard         39.0\n",
       "Leslie          12.0\n",
       "Mrs Cooper      20.5\n",
       "Mrs Wolowitz     4.0\n",
       "Penny           32.0\n",
       "Priya           18.0\n",
       "Raj             18.0\n",
       "Sheldon         49.0\n",
       "Stuart          10.0\n",
       "Wil              8.5\n",
       "Zack            14.0\n",
       "Name: Words, dtype: float64"
      ]
     },
     "execution_count": 13,
     "metadata": {},
     "output_type": "execute_result"
    }
   ],
   "source": [
    "wpe=lines_df.groupby(['Episode', 'Speaker'])['Words'].count()\n",
    "wpe = pd.DataFrame(wpe)\n",
    "wpe.reset_index(inplace=True)\n",
    "wpe.groupby('Speaker')['Words'].median()"
   ]
  },
  {
   "cell_type": "markdown",
   "metadata": {},
   "source": [
    "Per episode count so shows more of the relative importance, especially when taking int account the inner quartiler range, could be improved by adding in information regarding scenes themselves.\n",
    "\n",
    "Bootstrapping would ensure that we would be certain of who is more talkative."
   ]
  },
  {
   "cell_type": "markdown",
   "metadata": {},
   "source": [
    "If the confidence intervals overlap, then bad."
   ]
  },
  {
   "cell_type": "markdown",
   "metadata": {
    "collapsed": true
   },
   "source": [
    "### Part 3: Obligatory Spark cameo\n",
    "**Q7**. (7.5 points) Write a Spark script that does the following: Given the raw input file and your list of recurrent characters, create an RDD containing (speaker, dialogue line) rows **only for the recurrent characters** (assume that you already have the list --  no need to calculate it using Spark), and then generate a vectorized bag of words representation for each dialogue line, thus generating an RDD with (speaker, bag of words vector) rows. Then, calculate an aggregated bag of words vector (sum of all vectors) for each person. The final output is therefore an RDD with each of its rows being (speaker, aggregated bag of words vector). For your bag of words vectors, you can use $1\\times|V|$ scipy CSR matrices (where $|V|$ is the size of the vocabulary). No filtering of the vocabulary is necessary for this part.\n",
    "\n",
    "You do not need to run this script, but you do need to use Spark logic and also, the syntax needs to be correct."
   ]
  },
  {
   "cell_type": "markdown",
   "metadata": {},
   "source": [
    "## Task C: The Gossip Graph (30 points)\n",
    "\n",
    "**Note: Only for this task, discard the recurrent characters whose names are not single words, e.g. Mrs. Cooper.**\n",
    "\n",
    "Let us define _gossip_ as follows: if a dialogue line of character A mentions B by name in a scene that does not involve character B, we say that “A gossips about B” in that line. Multiple mentions of the same person in a single line are counted once, but a character can gossip about several others in the same line. For the sake of simplicity, we only consider gossips where the name of the recurrent character is mentioned as it appears in our list of characters; for example, if someone says \"Cooper\" and they mean Sheldon, we discard that.\n",
    "\n",
    "**Q8**. (12.5 points) Create the two following graphs first:\n",
    "\n",
    "1. (5 points) Create the _familiarity graph_, an undirected weighted graph, in which there is a node for each recurrent character, and an edge between two characters if they appear together in at least one scene. The weight of the edge between them is the number of scenes they appear in together. If an edge exists between two people in the familiarity graph, we say that they \"know each other\".\n",
    "2. (7.5 points) Create the _gossip graph_, which is a directed weighted graph, in which there there is a node for each recurrent character, and a directed edge from the node for A to the node for B if A has gossiped about B at least once. The weight of the edge is the number of scenes in which A has gossiped about B.\n",
    "\n",
    "_Hint: You can create each graph first as an adjacency matrix and then create a networkx graph out of that._"
   ]
  },
  {
   "cell_type": "code",
   "execution_count": null,
   "metadata": {},
   "outputs": [
    {
     "name": "stdout",
     "output_type": "stream",
     "text": [
      "17\n"
     ]
    }
   ],
   "source": [
    "lines_df_C = lines_df[~((lines_df['Speaker'] == 'Mrs Cooper') | (lines_df['Speaker'] == 'Mrs Wolowitz'))]\n",
    "print(lines_df_C['Speaker'].unique().shape[0]) ## verification"
   ]
  },
  {
   "cell_type": "code",
   "execution_count": 53,
   "metadata": {},
   "outputs": [],
   "source": [
    "recurrent_characters_C = recurrent_characters.copy()\n",
    "recurrent_characters_C.drop(recurrent_characters.loc[recurrent_characters['Speaker'] == \"Mrs Cooper\"].index, axis = 0, inplace=True)\n",
    "recurrent_characters_C.drop(recurrent_characters.loc[recurrent_characters['Speaker'] == \"Mrs Wolowitz\"].index, axis = 0, inplace=True)\n",
    "recurrent_characters_C.reset_index(inplace=True)\n",
    "recurrent_characters_C.drop(columns=['index'], inplace=True)\n",
    "\n",
    "def adj_mat(line_df, char_df):\n",
    "    n = len(char_df)  # Number of characters\n",
    "    adjacency_matrix = np.zeros(shape=(n, n))  # Initialize the adjacency matrix\n",
    "\n",
    "    for episode in line_df['Episode'].unique():  # Loop over unique episodes\n",
    "        temp_df = line_df[line_df['Episode'] == episode]  # Filter rows by episode\n",
    "        for character in char_df['Speaker']:  # Loop over characters\n",
    "            for character2 in char_df['Speaker']:  # Nested loop for second character\n",
    "                if character in temp_df['Speaker'].unique() and character2 in temp_df['Speaker'].unique():\n",
    "                    index1 = char_df[char_df['Speaker'] == character].index[0]\n",
    "                    index2 = char_df[char_df['Speaker'] == character2].index[0]\n",
    "                    adjacency_matrix[index1, index2] += 1  # Increment adjacency matrix entry\n",
    "\n",
    "    return adjacency_matrix\n",
    "\n"
   ]
  },
  {
   "cell_type": "code",
   "execution_count": 54,
   "metadata": {},
   "outputs": [
    {
     "name": "stdout",
     "output_type": "stream",
     "text": [
      "[[154.   3. 148.   6.   3.  17. 154.   4. 154.   2. 153.   8. 154. 154.\n",
      "   52.  10.   7.]\n",
      " [  3.   4.   4.   0.   0.   0.   4.   0.   4.   0.   4.   0.   4.   4.\n",
      "    1.   1.   0.]\n",
      " [148.   4. 161.   6.   3.  17. 161.   5. 161.   1. 160.   9. 161. 161.\n",
      "   54.  11.   6.]\n",
      " [  6.   0.   6.   6.   0.   0.   6.   0.   6.   0.   6.   0.   6.   6.\n",
      "    3.   0.   0.]\n",
      " [  3.   0.   3.   0.   5.   0.   5.   0.   5.   1.   5.   0.   4.   5.\n",
      "    3.   1.   0.]\n",
      " [ 17.   0.  17.   0.   0.  17.  17.   0.  17.   0.  17.   0.  17.  17.\n",
      "    5.   2.   0.]\n",
      " [154.   4. 161.   6.   5.  17. 231.   8. 231.   7. 229.  12. 230. 231.\n",
      "   60.  12.   8.]\n",
      " [  4.   0.   5.   0.   0.   0.   8.   8.   8.   0.   8.   0.   8.   8.\n",
      "    1.   1.   0.]\n",
      " [154.   4. 161.   6.   5.  17. 231.   8. 231.   7. 229.  12. 230. 231.\n",
      "   60.  12.   8.]\n",
      " [  2.   0.   1.   0.   1.   0.   7.   0.   7.   7.   7.   0.   7.   7.\n",
      "    1.   1.   1.]\n",
      " [153.   4. 160.   6.   5.  17. 229.   8. 229.   7. 229.  11. 228. 229.\n",
      "   59.  12.   8.]\n",
      " [  8.   0.   9.   0.   0.   0.  12.   0.  12.   0.  11.  12.  12.  12.\n",
      "    2.   0.   1.]\n",
      " [154.   4. 161.   6.   4.  17. 230.   8. 230.   7. 228.  12. 230. 230.\n",
      "   60.  12.   8.]\n",
      " [154.   4. 161.   6.   5.  17. 231.   8. 231.   7. 229.  12. 230. 231.\n",
      "   60.  12.   8.]\n",
      " [ 52.   1.  54.   3.   3.   5.  60.   1.  60.   1.  59.   2.  60.  60.\n",
      "   60.   5.   3.]\n",
      " [ 10.   1.  11.   0.   1.   2.  12.   1.  12.   1.  12.   0.  12.  12.\n",
      "    5.  12.   0.]\n",
      " [  7.   0.   6.   0.   0.   0.   8.   0.   8.   1.   8.   1.   8.   8.\n",
      "    3.   0.   8.]]\n"
     ]
    }
   ],
   "source": [
    "familiarity_graph_mat = adj_mat(lines_df_C, recurrent_characters_C)\n",
    "print(familiarity_graph_mat)"
   ]
  },
  {
   "cell_type": "code",
   "execution_count": 55,
   "metadata": {},
   "outputs": [
    {
     "data": {
      "text/plain": [
       "<networkx.classes.graph.Graph at 0x27e81b47790>"
      ]
     },
     "execution_count": 55,
     "metadata": {},
     "output_type": "execute_result"
    }
   ],
   "source": [
    "Gfam = nx.from_numpy_array(familiarity_graph_mat)\n",
    "\n",
    "character_labels = {i: char for i, char in enumerate(recurrent_characters_C['Speaker'])}\n",
    "nx.relabel_nodes(Gfam, character_labels, copy=False) ##relabelling the nodes"
   ]
  },
  {
   "cell_type": "code",
   "execution_count": 80,
   "metadata": {},
   "outputs": [],
   "source": [
    "def adj_mat_gos(line_df, char_df):\n",
    "    n = len(char_df)  # Number of characters\n",
    "    adjacency_matrix = np.zeros(shape=(n, n))  # Initialize the adjacency matrix\n",
    "\n",
    "    for episode in line_df['Episode'].unique():  # Loop over unique episodes\n",
    "        temp_df_ep = line_df[line_df['Episode'] == episode]  # Filter rows by episode\n",
    "        for scene in temp_df_ep['Scene'].unique():  # Loop over unique scenes in the episode\n",
    "            temp_df_scene = temp_df_ep[temp_df_ep['Scene'] == scene]  # Filter by scene\n",
    "\n",
    "            # Get the characters present in the scene\n",
    "            characters_present = temp_df_scene['Speaker'].unique()\n",
    "\n",
    "            # Loop over characters' lines in the scene\n",
    "            for _, row in temp_df_scene.iterrows():\n",
    "                speaker = row['Speaker']\n",
    "                line = row['Line']\n",
    "\n",
    "                # Check for gossip about other characters not present in the scene\n",
    "                for character2 in char_df['Speaker']:\n",
    "                    if character2 != speaker and character2 not in characters_present:\n",
    "                        words = line.split()  # Tokenize the line into words\n",
    "                        if character2.lower() in words:  # Check if character2 is mentioned\n",
    "                            index1 = char_df[char_df['Speaker'] == speaker].index[0]\n",
    "                            index2 = char_df[char_df['Speaker'] == character2].index[0]\n",
    "                            adjacency_matrix[index1, index2] += 1\n",
    "    return adjacency_matrix\n",
    "\n",
    "\n",
    "Ggosmat = adj_mat_gos(lines_df_C, recurrent_characters_C)"
   ]
  },
  {
   "cell_type": "code",
   "execution_count": 81,
   "metadata": {},
   "outputs": [
    {
     "name": "stdout",
     "output_type": "stream",
     "text": [
      "[[  0.   1.  12.   4.   0.   0.  14.   5.  31.   0.  21.   7.   1.  59.\n",
      "    1.   2.   8.]\n",
      " [  1.   0.   0.   0.   0.   0.   0.   0.   1.   0.   0.   0.   0.   0.\n",
      "    0.   0.   0.]\n",
      " [  1.   0.   0.   1.   0.   4.  29.   0.  18.   0.   9.   4.   8.  22.\n",
      "    6.   0.   0.]\n",
      " [  0.   0.   0.   0.   0.   0.   0.   0.   0.   0.   0.   0.   0.   1.\n",
      "    0.   0.   0.]\n",
      " [  0.   0.   0.   0.   0.   0.   0.   0.   1.   0.   0.   0.   0.   0.\n",
      "    0.   0.   0.]\n",
      " [  0.   0.   0.   0.   0.   0.   0.   0.   1.   0.   0.   0.   1.   0.\n",
      "    0.   0.   0.]\n",
      " [ 11.   0.  50.   0.   0.  12.   0.   1.   6.   3.  29.   2.  23.  15.\n",
      "    9.   0.   1.]\n",
      " [  0.   0.   0.   0.   0.   0.   0.   0.   0.   0.   0.   0.   0.   0.\n",
      "    0.   0.   0.]\n",
      " [ 32.   3.  22.   2.   1.   3.  33.   8.   0.   2. 100.  10.  28.  52.\n",
      "   17.   3.   3.]\n",
      " [  0.   0.   0.   0.   0.   0.   0.   0.   0.   0.   1.   0.   0.   0.\n",
      "    0.   0.   0.]\n",
      " [ 49.   0.  30.   3.   0.   3.  28.   1. 134.   1.   0.  17.  25.  49.\n",
      "    5.   3.   6.]\n",
      " [  0.   0.   3.   0.   0.   0.   1.   0.   0.   0.   2.   0.   2.   0.\n",
      "    0.   0.   0.]\n",
      " [  9.   0.  15.   1.   0.  29.  19.   2.  12.   1.  25.   1.   0.  10.\n",
      "    5.   4.   0.]\n",
      " [100.   5.  17.   3.   1.   3.  34.  16. 126.   3.  68.   3.  22.   0.\n",
      "   13.  20.   6.]\n",
      " [  1.   0.   4.   0.   0.   0.   5.   0.   1.   0.   5.   0.   1.   2.\n",
      "    0.   1.   0.]\n",
      " [  0.   0.   0.   0.   0.   0.   0.   0.   0.   0.   0.   0.   0.   0.\n",
      "    0.   0.   0.]\n",
      " [  0.   0.   0.   0.   0.   0.   0.   0.   1.   0.   0.   0.   0.   0.\n",
      "    0.   0.   0.]]\n"
     ]
    }
   ],
   "source": [
    "print(Ggosmat)"
   ]
  },
  {
   "cell_type": "code",
   "execution_count": 85,
   "metadata": {},
   "outputs": [
    {
     "data": {
      "text/plain": [
       "<networkx.classes.digraph.DiGraph at 0x27e822f76d0>"
      ]
     },
     "execution_count": 85,
     "metadata": {},
     "output_type": "execute_result"
    }
   ],
   "source": [
    "Ggos = nx.from_numpy_array(Ggosmat, create_using=nx.DiGraph)\n",
    "character_labels = {i: char for i, char in enumerate(recurrent_characters_C['Speaker'])}\n",
    "nx.relabel_nodes(Ggos, character_labels, copy=False) ##relabelling the nodes"
   ]
  },
  {
   "cell_type": "markdown",
   "metadata": {},
   "source": [
    "Now, answer the following questions:\n",
    "\n",
    "**Q9**. (5 points) Sheldon claims that every character in the show is familiar with everyone else through at most one intermediary. Based on the familiarity graph, is this true? If not, at most how many intermediaries are needed?"
   ]
  },
  {
   "cell_type": "code",
   "execution_count": 51,
   "metadata": {},
   "outputs": [
    {
     "name": "stdout",
     "output_type": "stream",
     "text": [
      "2\n"
     ]
    }
   ],
   "source": [
    "print(nx.diameter(Gfam)) ## the very much not annoying protagonist is right (you could have changed it up for once)"
   ]
  },
  {
   "cell_type": "markdown",
   "metadata": {},
   "source": [
    "**Q10**. (5 points) Who is the character through whom the largest number of these indirect familiarities happen? Calculate an appropriate centrality metric on the familiarity graph to answer this question. You can use the package networkx for this section."
   ]
  },
  {
   "cell_type": "code",
   "execution_count": 64,
   "metadata": {},
   "outputs": [
    {
     "data": {
      "text/plain": [
       "{'Amy': 0.02777777777777778,\n",
       " 'Arthur': 0.0,\n",
       " 'Bernadette': 0.02777777777777778,\n",
       " 'Bert': 0.0,\n",
       " 'Beverley': 0.0,\n",
       " 'Emily': 0.0,\n",
       " 'Howard': 0.02777777777777778,\n",
       " 'Kripke': 0.0,\n",
       " 'Leonard': 0.02777777777777778,\n",
       " 'Leslie': 0.0018518518518518517,\n",
       " 'Penny': 0.02777777777777778,\n",
       " 'Priya': 0.0,\n",
       " 'Raj': 0.02777777777777778,\n",
       " 'Sheldon': 0.02777777777777778,\n",
       " 'Stuart': 0.02777777777777778,\n",
       " 'Wil': 0.008333333333333331,\n",
       " 'Zack': 0.0009259259259259259}"
      ]
     },
     "execution_count": 64,
     "metadata": {},
     "output_type": "execute_result"
    }
   ],
   "source": [
    "nx.betweenness_centrality(Gfam)"
   ]
  },
  {
   "cell_type": "markdown",
   "metadata": {},
   "source": [
    "**Q11**. (2.5 points) Another claim of Sheldon's is that every recurrent character in the show gossips about all the other recurrent characters. What property of the gossip graph would correspond to this? Does the gossip graph possess that property? If not, then is it the case that for every pair of recurrent characters, at least one gossips about the other? What property would this correspond to?"
   ]
  },
  {
   "cell_type": "code",
   "execution_count": 86,
   "metadata": {},
   "outputs": [
    {
     "data": {
      "text/plain": [
       "{'Amy': 0.8125,\n",
       " 'Arthur': 0.125,\n",
       " 'Bernadette': 0.625,\n",
       " 'Bert': 0.0625,\n",
       " 'Beverley': 0.0625,\n",
       " 'Emily': 0.125,\n",
       " 'Howard': 0.75,\n",
       " 'Kripke': 0.0,\n",
       " 'Leonard': 1.0,\n",
       " 'Leslie': 0.0625,\n",
       " 'Penny': 0.875,\n",
       " 'Priya': 0.25,\n",
       " 'Raj': 0.8125,\n",
       " 'Sheldon': 1.0,\n",
       " 'Stuart': 0.5,\n",
       " 'Wil': 0.0,\n",
       " 'Zack': 0.0625}"
      ]
     },
     "execution_count": 86,
     "metadata": {},
     "output_type": "execute_result"
    }
   ],
   "source": [
    "nx.out_degree_centrality(Ggos)"
   ]
  },
  {
   "cell_type": "code",
   "execution_count": 87,
   "metadata": {},
   "outputs": [
    {
     "data": {
      "text/plain": [
       "True"
      ]
     },
     "execution_count": 87,
     "metadata": {},
     "output_type": "execute_result"
    }
   ],
   "source": [
    "nx.is_weakly_connected(Ggos)"
   ]
  },
  {
   "cell_type": "markdown",
   "metadata": {},
   "source": [
    "**Q12**. (5 points) Use the gossip graph and the familiarity graph to figure out if for every pair of recurrent characters, one of them has gossiped about the other if and only if they know each other. Explain your method - the simpler, the better."
   ]
  },
  {
   "cell_type": "code",
   "execution_count": 95,
   "metadata": {},
   "outputs": [
    {
     "name": "stdout",
     "output_type": "stream",
     "text": [
      "1\n"
     ]
    }
   ],
   "source": [
    "#print(nx.shortest_path_length(Ggos, source='Wil', target='Kripke')) ## returns 0, disabled here\n",
    "print(nx.shortest_path_length(Gfam, source='Wil', target='Kripke')) ## returns 1\n",
    "## chosen by looking at the outdegree centrality of Ggos => they never gossip about each other yet know each other"
   ]
  },
  {
   "cell_type": "markdown",
   "metadata": {},
   "source": [
    "## Task D: The Detective's Hat (30 points)\n",
    "\n",
    "Sheldon claims that given a dialogue line, he can, with an accuracy of above 70%, say whether it's by himself or by someone else. Leonard contests this claim, since he believes that this claimed accuracy is too high. Leonard also suspects that it's easier for Sheldon to distinguish the lines that _aren't_ his, rather than those that _are_. We want you to put on the (proverbial) detective's hat and to investigate this claim.\n",
    "\n",
    "**Q13**. (7.5 points) Divide the set of all dialogue lines into two subsets: the training set, consisting of all the seasons except the last two, and the test set, consisting of the last two seasons. Each of your data points (which is one row of your matrix) is one **dialogue line**. Now, use the scikit-learn class **TfIdfVectorizer** to create TF-IDF representations for the data points in your training and test sets. Note that since you're going to train a machine learning model, everything used in the training needs to be independent of the test set. As a preprocessing step, remove stopwords and words that appear only once from your vocabulary. Use the simple tokenizer provided in `helpers/helper_functions.py` as an input to the TfidfVectorizer class, and use the words provided in `helpers/stopwords.txt` as your stopwords."
   ]
  },
  {
   "cell_type": "code",
   "execution_count": null,
   "metadata": {},
   "outputs": [
    {
     "data": {
      "text/plain": [
       "array(['09', '10'], dtype=object)"
      ]
     },
     "execution_count": 105,
     "metadata": {},
     "output_type": "execute_result"
    }
   ],
   "source": [
    "lines_df['Season'].unique()\n",
    "\n",
    "train = lines_df[~((lines_df['Season'] == '09')|(lines_df['Season'] == '10'))]\n",
    "test = lines_df[(lines_df['Season'] == '09')|(lines_df['Season'] == '10')]\n"
   ]
  },
  {
   "cell_type": "code",
   "execution_count": 107,
   "metadata": {},
   "outputs": [],
   "source": [
    "from sklearn.feature_extraction.text import TfidfVectorizer\n",
    "from collections import Counter"
   ]
  },
  {
   "cell_type": "code",
   "execution_count": null,
   "metadata": {},
   "outputs": [],
   "source": [
    "with open('stopwords.txt', 'r') as f:\n",
    "    stopwords = set(f.read().splitlines())\n",
    "    stopwords = list(stopwords)\n",
    "# 2. Tokenizer function from `helper_functions.py`\n",
    "def simple_tokeniser(text):\n",
    "    return text.split()\n",
    "\n",
    "# 3. Remove words that appear only once across the entire dataset\n",
    "def get_vocabulary(lines_df):\n",
    "    \"\"\"Remove words that appear only once.\"\"\"\n",
    "    all_tokens = [token for line in lines_df['Line'] for token in simple_tokeniser(line)]\n",
    "    token_counts = Counter(all_tokens)\n",
    "    vocabulary = {word for word, count in token_counts.items() if count > 1}\n",
    "    return vocabulary\n",
    "\n",
    "# Get vocabulary from training set only\n",
    "vocabulary = get_vocabulary(train)\n",
    "\n",
    "# 4. Initialize the TfidfVectorizer\n",
    "tfidf_vectorizer = TfidfVectorizer(\n",
    "    tokenizer=simple_tokeniser,  # Use the custom tokenizer\n",
    "    stop_words=stopwords,        # Use the custom stopwords\n",
    "    vocabulary=vocabulary        # Use the filtered vocabulary\n",
    ")\n",
    "\n",
    "# 5. Fit the vectorizer on training data and transform both train and test sets\n",
    "X_train_tfidf = tfidf_vectorizer.fit_transform(train['Line'])\n",
    "X_test_tfidf = tfidf_vectorizer.transform(test['Line'])\n",
    "\n"
   ]
  },
  {
   "cell_type": "markdown",
   "metadata": {},
   "source": [
    "**Q14**. (5 points) Find the set of all words in the training set that are only uttered by Sheldon. Is it possible for Sheldon to identify himself only based on these? Use the test set to assess this possibility, and explain your method."
   ]
  },
  {
   "cell_type": "code",
   "execution_count": null,
   "metadata": {},
   "outputs": [
    {
     "name": "stderr",
     "output_type": "stream",
     "text": [
      "C:\\Users\\Karl Abdelnour\\AppData\\Local\\Temp\\ipykernel_16192\\3910118884.py:16: SettingWithCopyWarning: \n",
      "A value is trying to be set on a copy of a slice from a DataFrame.\n",
      "Try using .loc[row_indexer,col_indexer] = value instead\n",
      "\n",
      "See the caveats in the documentation: https://pandas.pydata.org/pandas-docs/stable/user_guide/indexing.html#returning-a-view-versus-a-copy\n",
      "  train['Is_Sheldon'] = (train['Speaker'] == 'Sheldon').astype(int)\n",
      "C:\\Users\\Karl Abdelnour\\AppData\\Local\\Temp\\ipykernel_16192\\3910118884.py:17: SettingWithCopyWarning: \n",
      "A value is trying to be set on a copy of a slice from a DataFrame.\n",
      "Try using .loc[row_indexer,col_indexer] = value instead\n",
      "\n",
      "See the caveats in the documentation: https://pandas.pydata.org/pandas-docs/stable/user_guide/indexing.html#returning-a-view-versus-a-copy\n",
      "  test['Is_Sheldon'] = (test['Speaker'] == 'Sheldon').astype(int)\n"
     ]
    },
    {
     "name": "stdout",
     "output_type": "stream",
     "text": [
      "Accuracy: 78.69%\n",
      "              precision    recall  f1-score   support\n",
      "\n",
      " Not Sheldon       0.80      0.97      0.88      7932\n",
      "     Sheldon       0.56      0.14      0.22      2237\n",
      "\n",
      "    accuracy                           0.79     10169\n",
      "   macro avg       0.68      0.55      0.55     10169\n",
      "weighted avg       0.75      0.79      0.73     10169\n",
      "\n"
     ]
    },
    {
     "name": "stderr",
     "output_type": "stream",
     "text": [
      "c:\\Users\\Karl Abdelnour\\anaconda3\\envs\\ada_exam_2024\\lib\\site-packages\\sklearn\\linear_model\\_logistic.py:460: ConvergenceWarning: lbfgs failed to converge (status=1):\n",
      "STOP: TOTAL NO. of ITERATIONS REACHED LIMIT.\n",
      "\n",
      "Increase the number of iterations (max_iter) or scale the data as shown in:\n",
      "    https://scikit-learn.org/stable/modules/preprocessing.html\n",
      "Please also refer to the documentation for alternative solver options:\n",
      "    https://scikit-learn.org/stable/modules/linear_model.html#logistic-regression\n",
      "  n_iter_i = _check_optimize_result(\n"
     ]
    }
   ],
   "source": [
    "from sklearn.linear_model import LogisticRegression\n",
    "from sklearn.metrics import accuracy_score, classification_report\n",
    "\n",
    "word_df_2 = pd.concat(pd.Series(row['Line'].split(' ')) for _, row in lines_df.iterrows()).reset_index()\n",
    "word_df_2.columns = [\"Frequency\", \"Word\"]\n",
    "word_counts = word_df_2.groupby('Word').count()\n",
    "\n",
    "sheldon_words = lines_df[lines_df['Speaker'] == 'Sheldon']\n",
    "sheldon_word_df = pd.concat(pd.Series(row['Line'].split(' ')) for _, row in sheldon_words.iterrows()).reset_index()\n",
    "\n",
    "unique_sheldon = []\n",
    "for word in sheldon_word_df:\n",
    "    if word not in word_df['Word']:\n",
    "        unique_sheldon.append(word)\n",
    "###################################################\n",
    "\n",
    "#### define targets\n",
    "train['Is_Sheldon'] = (train['Speaker'] == 'Sheldon').astype(int)\n",
    "test['Is_Sheldon'] = (test['Speaker'] == 'Sheldon').astype(int)\n",
    "y_train = train['Is_Sheldon']\n",
    "y_test = test['Is_Sheldon']\n",
    "\n",
    "##### fit \n",
    "clf = LogisticRegression()\n",
    "clf.fit(X_train_tfidf, y_train)\n",
    "#### predict\n",
    "y_pred = clf.predict(X_test_tfidf)\n",
    "\n",
    "\n",
    "accuracy = accuracy_score(y_test, y_pred)\n",
    "print(f\"Accuracy: {accuracy:.2%}\")\n",
    "print(classification_report(y_test, y_pred, target_names=['Not Sheldon', 'Sheldon']))\n"
   ]
  },
  {
   "cell_type": "markdown",
   "metadata": {},
   "source": [
    "**Q15**. (17.5 points) Now, perform singular value decomposition (SVD) on the training TF-IDF matrix, and calculate a **25-dimensional approximation** for both the training and test TF-IDF matrices (you can do this using scikit-learn's **TruncatedSVD** class). Then, train a logistic regression classifier with 10-fold cross-validation (using the scikit-learn **LogisticRegressionCV** class) on the output of the SVD that given a dialogue line, tells you whether it's by Sheldon or by someone else.\n",
    "\n",
    "&nbsp;&nbsp;&nbsp;&nbsp;&nbsp;&nbsp;**i)** (7.5 points) Report precision, recall and F1-score for both classes (Sheldon and not-Sheldon), as well as accuracy, of your classifier on the training set and the test set. You need to implement the calculation of the evaluation measures (precision, etc.) yourself -- using the scikit-learn functions for them is not allowed.\n",
    "\n",
    "&nbsp;&nbsp;&nbsp;&nbsp;&nbsp;&nbsp;**ii)** (5 points) What difference do you observe between the model's scores on the training and test sets? What could you infer from the amount of difference you see? What about the difference between scores on the two classes? Given the performance of your classifier, is Leonard right that the accuracy Sheldon claims is unattainable? What about his suspicions about the lines that Sheldon can and cannot distinguish?\n",
    "    \n",
    "&nbsp;&nbsp;&nbsp;&nbsp;&nbsp;&nbsp;**iii)** (2.5 points) List 10 of the most extreme false positives and 10 of the most extreme false negatives, in terms of the probabilities predicted by the logistic regression model. What are common features of false positives? What about the false negatives?\n",
    "    \n",
    "&nbsp;&nbsp;&nbsp;&nbsp;&nbsp;&nbsp;**iv)** (2.5 points) What is the most important feature in the model? What are the 5 most important words in this feature? _Hint: Think of the definition of an SVD, and that you did an SVD on the TF-IDF matrix with dialogue lines as rows and words as columns. You have projected the original data points onto a 25-dimensional subspace -- you need to look at the unit vectors you used for the projection._"
   ]
  },
  {
   "cell_type": "code",
   "execution_count": 121,
   "metadata": {},
   "outputs": [
    {
     "name": "stdout",
     "output_type": "stream",
     "text": [
      "Test Accuracy: 0.7791\n",
      "Classification Report:\n",
      "              precision    recall  f1-score   support\n",
      "\n",
      "           0       0.78      1.00      0.88      7932\n",
      "           1       0.30      0.00      0.01      2237\n",
      "\n",
      "    accuracy                           0.78     10169\n",
      "   macro avg       0.54      0.50      0.44     10169\n",
      "weighted avg       0.68      0.78      0.68     10169\n",
      "\n"
     ]
    }
   ],
   "source": [
    "from sklearn.decomposition import TruncatedSVD\n",
    "from sklearn.linear_model import LogisticRegressionCV\n",
    "\n",
    "svd = TruncatedSVD(n_components=25, random_state=42)\n",
    "X_train_svd = svd.fit_transform(X_train_tfidf)\n",
    "X_test_svd = svd.transform(X_test_tfidf)\n",
    "\n",
    "# Step 4: Train logistic regression with 10-fold cross-validation\n",
    "logreg_cv = LogisticRegressionCV(cv=10, random_state=42, max_iter=1000)\n",
    "logreg_cv.fit(X_train_svd, y_train)\n",
    "\n",
    "# Step 5: Make predictions on the test set\n",
    "y_pred = logreg_cv.predict(X_test_svd)\n",
    "\n",
    "# Step 6: Evaluate the model\n",
    "accuracy = accuracy_score(y_test, y_pred)\n",
    "print(f\"Test Accuracy: {accuracy:.4f}\")\n",
    "print(\"Classification Report:\")\n",
    "print(classification_report(y_test, y_pred))\n"
   ]
  },
  {
   "cell_type": "code",
   "execution_count": 122,
   "metadata": {},
   "outputs": [
    {
     "name": "stdout",
     "output_type": "stream",
     "text": [
      "Training Accuracy: 0.7531\n",
      "Test Accuracy: 0.7791\n"
     ]
    }
   ],
   "source": [
    "train_accuracy = logreg_cv.score(X_train_svd, y_train)\n",
    "test_accuracy = logreg_cv.score(X_test_svd, y_test)\n",
    "print(f\"Training Accuracy: {train_accuracy:.4f}\")\n",
    "print(f\"Test Accuracy: {test_accuracy:.4f}\")"
   ]
  },
  {
   "cell_type": "markdown",
   "metadata": {},
   "source": [
    "No indication of either over or underfitting as both accuracies are approximately the same."
   ]
  },
  {
   "cell_type": "code",
   "execution_count": 123,
   "metadata": {},
   "outputs": [
    {
     "name": "stdout",
     "output_type": "stream",
     "text": [
      "Extreme False Positives:\n",
      "Speaker: Penny, Line: i m with leonard \n",
      "Speaker: Leonard, Line: uh  i m leonard  this is my friend…\n",
      "Speaker: Penny, Line: leonard \n",
      "Speaker: Leslie, Line: leonard \n",
      "Speaker: Penny, Line: leonard \n",
      "Speaker: Howard, Line: so what did you and leonard do \n",
      "Speaker: Penny, Line: leonard \n",
      "Speaker: Beverley, Line: hello  leonard \n",
      "Speaker: Howard, Line: leonard  wait \n",
      "Speaker: Amy, Line: it s penny s \n",
      "\n",
      "Extreme False Negatives:\n",
      "Speaker: Sheldon, Line: hey  we re both great at this \n",
      "Speaker: Sheldon, Line: hey \n",
      "Speaker: Sheldon, Line: hey  hey  she s mine  take a cold shower  grandpa \n",
      "Speaker: Sheldon, Line: hey  is everything smoothed out with amy \n",
      "Speaker: Sheldon, Line: that s great \n",
      "Speaker: Sheldon, Line: great \n",
      "Speaker: Sheldon, Line: hey  i thought you were sweet on me \n",
      "Speaker: Sheldon, Line: hey  if you want me to sleep you re gonna have to stop talking \n",
      "Speaker: Sheldon, Line: hey  how s life with your baby \n",
      "Speaker: Sheldon, Line: hey  leonard \n"
     ]
    }
   ],
   "source": [
    "import numpy as np\n",
    "\n",
    "# Get predicted probabilities for the test set\n",
    "y_probs = logreg_cv.predict_proba(X_test_svd)[:, 1]  # Probability of being Sheldon\n",
    "\n",
    "# Get predicted labels\n",
    "y_pred = logreg_cv.predict(X_test_svd)\n",
    "\n",
    "# Identify false positives and false negatives\n",
    "false_positives = np.where((y_pred == 1) & (y_test == 0))[0]\n",
    "false_negatives = np.where((y_pred == 0) & (y_test == 1))[0]\n",
    "\n",
    "# Sort by predicted probabilities\n",
    "extreme_false_positives = false_positives[np.argsort(-y_probs[false_positives])][:10]\n",
    "extreme_false_negatives = false_negatives[np.argsort(y_probs[false_negatives])][:10]\n",
    "\n",
    "# Display 10 most extreme false positives\n",
    "print(\"Extreme False Positives:\")\n",
    "for idx in extreme_false_positives:\n",
    "    print(f\"Speaker: {test.iloc[idx]['Speaker']}, Line: {test.iloc[idx]['Line']}\")\n",
    "\n",
    "print(\"\\nExtreme False Negatives:\")\n",
    "for idx in extreme_false_negatives:\n",
    "    print(f\"Speaker: {test.iloc[idx]['Speaker']}, Line: {test.iloc[idx]['Line']}\")\n"
   ]
  },
  {
   "cell_type": "code",
   "execution_count": 124,
   "metadata": {},
   "outputs": [
    {
     "name": "stdout",
     "output_type": "stream",
     "text": [
      "Most important feature index: 1\n",
      "Top 5 most important words in this feature: ['hey' 'know' 'well' 'really' 'right']\n"
     ]
    }
   ],
   "source": [
    "# Get the SVD components (unit vectors used for projection)\n",
    "svd_components = svd.components_  # Shape: (25, vocabulary_size)\n",
    "\n",
    "# Find the most important SVD feature (component with highest explained variance)\n",
    "most_important_feature_idx = np.argmax(svd.explained_variance_)\n",
    "most_important_feature = svd_components[most_important_feature_idx]\n",
    "\n",
    "# Get the indices of the 5 most important words in this feature\n",
    "top_5_word_indices = np.argsort(-np.abs(most_important_feature))[:5]\n",
    "\n",
    "# Retrieve the corresponding words from the vocabulary\n",
    "feature_words = np.array(tfidf_vectorizer.get_feature_names_out())[top_5_word_indices]\n",
    "\n",
    "print(\"Most important feature index:\", most_important_feature_idx)\n",
    "print(\"Top 5 most important words in this feature:\", feature_words)\n"
   ]
  },
  {
   "cell_type": "markdown",
   "metadata": {},
   "source": [
    "The words above are those that contribute the most in identifying Sheldon's lines."
   ]
  },
  {
   "cell_type": "markdown",
   "metadata": {},
   "source": [
    "## I should review the theory for this part of the class..."
   ]
  }
 ],
 "metadata": {
  "kernelspec": {
   "display_name": "ada_exam_2024",
   "language": "python",
   "name": "python3"
  },
  "language_info": {
   "codemirror_mode": {
    "name": "ipython",
    "version": 3
   },
   "file_extension": ".py",
   "mimetype": "text/x-python",
   "name": "python",
   "nbconvert_exporter": "python",
   "pygments_lexer": "ipython3",
   "version": "3.10.16"
  }
 },
 "nbformat": 4,
 "nbformat_minor": 2
}
