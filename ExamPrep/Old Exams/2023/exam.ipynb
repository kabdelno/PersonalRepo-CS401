{
 "cells": [
  {
   "cell_type": "markdown",
   "id": "e4fc29c0d30afb83",
   "metadata": {},
   "source": [
    "# ADA final exam (Fall 2023)\n",
    "\n",
    "This exam consists of 2 parts. Parts are independent from each other.\n",
    "\n",
    "## Dataset\n",
    "\n",
    "\n",
    "\"Friends\" is an American television sitcom that originally aired on NBC from September 22, 1994, to May 6, 2004. Created by David Crane and Marta Kauffman, the show gained immense popularity and has since become a classic in the world of television. The series is set in New York City and revolves around a group of six friends: Ross Geller (David Schwimmer), Rachel Green (Jennifer Aniston), Monica Geller (Courteney Cox), Chandler Bing (Matthew Perry), Joey Tribbiani (Matt LeBlanc), and Phoebe Buffay (Lisa Kudrow). The show explores their personal and professional lives as they navigate the ups and downs of relationships, careers, and the challenges of adulthood.\n",
    "\n",
    "In this exam, we will use a dataset containing all the conversations that occurred over 10 seasons of Friends. We refer to each row in the dataset as an 'utterance.\" The data format of the dataset is as follows\n",
    "\n",
    "- id: `<str>`, the index of the utterance in the format sAA_eBB_cCC_uDDD, where AA is the season number, BB is the episode number, CC is the scene/conversation number, and DDD is the number of the utterance in the scene (e.g. s01_e18_c05_u021).\n",
    "- speaker: `<str>`, the speaker who made the utterance, e.g. Monica Geller\n",
    "- conversation_id: `<str>`, the id of the first utterance in the conversation this utterance belongs. We assume conversations begin at the start of a new scene.\n",
    "- reply_to: `<str>`, the id of the utterance to which this utterance replies. None if the utterance is the first in a conversation.\n",
    "- text: `<str>`, the textual content of the utterance.\n"
   ]
  },
  {
   "cell_type": "code",
   "execution_count": 1,
   "id": "b039cc2f",
   "metadata": {},
   "outputs": [],
   "source": [
    "# First, let's import some required libraries!\n",
    "import statsmodels.formula.api as smf\n",
    "import pandas as pd\n",
    "from collections import Counter\n",
    "import networkx as nx\n",
    "import seaborn as sns\n",
    "import matplotlib.pyplot as plt\n",
    "import itertools\n",
    "import numpy as np"
   ]
  },
  {
   "cell_type": "markdown",
   "id": "77be188a",
   "metadata": {},
   "source": [
    "\n",
    "## Part 1: The one where you find the protagonist (60 pts)\n",
    "\n",
    "A big debate among Friends fans is: who is the show's main character? In this task, your goal is to provide a data-driven answer to this question.\n",
    "\n",
    "\n",
    "--- \n",
    "\n",
    "**1.1 —** Load the data from the jsonl file `exam1.jsonl` into a pandas dataframe. Then\n",
    " \n",
    " A. Calculate and display the number of distinct speakers in the dataframe.\n",
    " \n",
    " B. Calculate and display the number of conversations (see `conversation_id`).\n",
    " \n",
    " C. Remove all utterances from the dataframe where the `speaker` is \"TRANSCRIPT_NOTE\" or \"#ALL#\". Print the number of rows in the dataframe.\n",
    " \n",
    " D. Create additional columns corresponding to the season (`season`, e.g., season 1 should contain `s01`) and the episode (`episode`, e.g., episode 5 of season 4 should contain `s04_e05`) of each utterance. Print the season and the episode associated with utterance `s10_e18_c11_u019`.\n",
    " \n",
    " E. Create an additional column corresponding to the length of each utterance in terms of the number of characters (`length`). Print the length associated with utterance `s10_e18_c11_u019`.\n"
   ]
  },
  {
   "cell_type": "code",
   "execution_count": 2,
   "id": "d4daa420",
   "metadata": {},
   "outputs": [
    {
     "data": {
      "text/html": [
       "<div>\n",
       "<style scoped>\n",
       "    .dataframe tbody tr th:only-of-type {\n",
       "        vertical-align: middle;\n",
       "    }\n",
       "\n",
       "    .dataframe tbody tr th {\n",
       "        vertical-align: top;\n",
       "    }\n",
       "\n",
       "    .dataframe thead th {\n",
       "        text-align: right;\n",
       "    }\n",
       "</style>\n",
       "<table border=\"1\" class=\"dataframe\">\n",
       "  <thead>\n",
       "    <tr style=\"text-align: right;\">\n",
       "      <th></th>\n",
       "      <th>id</th>\n",
       "      <th>conversation_id</th>\n",
       "      <th>text</th>\n",
       "      <th>speaker</th>\n",
       "      <th>reply-to</th>\n",
       "    </tr>\n",
       "  </thead>\n",
       "  <tbody>\n",
       "    <tr>\n",
       "      <th>0</th>\n",
       "      <td>s01_e01_c01_u001</td>\n",
       "      <td>s01_e01_c01_u001</td>\n",
       "      <td>There's nothing to tell! He's just some guy I ...</td>\n",
       "      <td>Monica Geller</td>\n",
       "      <td>None</td>\n",
       "    </tr>\n",
       "    <tr>\n",
       "      <th>1</th>\n",
       "      <td>s01_e01_c01_u002</td>\n",
       "      <td>s01_e01_c01_u001</td>\n",
       "      <td>C'mon, you're going out with the guy! There's ...</td>\n",
       "      <td>Joey Tribbiani</td>\n",
       "      <td>s01_e01_c01_u001</td>\n",
       "    </tr>\n",
       "    <tr>\n",
       "      <th>2</th>\n",
       "      <td>s01_e01_c01_u003</td>\n",
       "      <td>s01_e01_c01_u001</td>\n",
       "      <td>All right Joey, be nice. So does he have a hum...</td>\n",
       "      <td>Chandler Bing</td>\n",
       "      <td>s01_e01_c01_u002</td>\n",
       "    </tr>\n",
       "    <tr>\n",
       "      <th>3</th>\n",
       "      <td>s01_e01_c01_u004</td>\n",
       "      <td>s01_e01_c01_u001</td>\n",
       "      <td>Wait, does he eat chalk?</td>\n",
       "      <td>Phoebe Buffay</td>\n",
       "      <td>s01_e01_c01_u003</td>\n",
       "    </tr>\n",
       "    <tr>\n",
       "      <th>4</th>\n",
       "      <td>s01_e01_c01_u005</td>\n",
       "      <td>s01_e01_c01_u001</td>\n",
       "      <td></td>\n",
       "      <td>TRANSCRIPT_NOTE</td>\n",
       "      <td>s01_e01_c01_u004</td>\n",
       "    </tr>\n",
       "  </tbody>\n",
       "</table>\n",
       "</div>"
      ],
      "text/plain": [
       "                 id   conversation_id  \\\n",
       "0  s01_e01_c01_u001  s01_e01_c01_u001   \n",
       "1  s01_e01_c01_u002  s01_e01_c01_u001   \n",
       "2  s01_e01_c01_u003  s01_e01_c01_u001   \n",
       "3  s01_e01_c01_u004  s01_e01_c01_u001   \n",
       "4  s01_e01_c01_u005  s01_e01_c01_u001   \n",
       "\n",
       "                                                text          speaker  \\\n",
       "0  There's nothing to tell! He's just some guy I ...    Monica Geller   \n",
       "1  C'mon, you're going out with the guy! There's ...   Joey Tribbiani   \n",
       "2  All right Joey, be nice. So does he have a hum...    Chandler Bing   \n",
       "3                           Wait, does he eat chalk?    Phoebe Buffay   \n",
       "4                                                     TRANSCRIPT_NOTE   \n",
       "\n",
       "           reply-to  \n",
       "0              None  \n",
       "1  s01_e01_c01_u001  \n",
       "2  s01_e01_c01_u002  \n",
       "3  s01_e01_c01_u003  \n",
       "4  s01_e01_c01_u004  "
      ]
     },
     "execution_count": 2,
     "metadata": {},
     "output_type": "execute_result"
    }
   ],
   "source": [
    "exam1_df = pd.read_json(\"exam1.jsonl\", lines = True)\n",
    "exam1_df.head()"
   ]
  },
  {
   "cell_type": "code",
   "execution_count": 3,
   "id": "24878823",
   "metadata": {},
   "outputs": [
    {
     "name": "stdout",
     "output_type": "stream",
     "text": [
      "There are 700 unique speakers.\n",
      "There are 3107 unique conversations.\n",
      "There are 60985 rows in the dataframe.\n",
      "s10 e18\n",
      "17\n"
     ]
    }
   ],
   "source": [
    "#1.1.A\n",
    "n_unique_speaker = exam1_df['speaker'].unique().shape[0] \n",
    "print(f\"There are {n_unique_speaker} unique speakers.\")\n",
    "\n",
    "#1.1.B\n",
    "n_unique_conv = exam1_df['conversation_id'].unique().shape[0] \n",
    "print(f\"There are {n_unique_conv} unique conversations.\")\n",
    "\n",
    "#1.1.C\n",
    "exam1_df = exam1_df[exam1_df['speaker'] != \"TRANSCRIPT_NOTE\"]\n",
    "exam1_df = exam1_df[exam1_df['speaker'] != \"#ALL#\"]\n",
    "n_rows = exam1_df.shape[0]\n",
    "print(f\"There are {n_rows} rows in the dataframe.\")\n",
    "\n",
    "#1.1.D \n",
    "exam1_df['season'] = exam1_df['id'].apply(lambda x: x[0:3])\n",
    "exam1_df['episode'] = exam1_df['id'].apply(lambda x: x[4:7])\n",
    "##exam1_df.head() for verification\n",
    "s10_e18_c11_u019 = exam1_df[exam1_df['id'] == 's10_e18_c11_u019'].reset_index()\n",
    "print(s10_e18_c11_u019.loc[0, 'season'], s10_e18_c11_u019.loc[0, 'episode'])\n",
    "\n",
    "#1.1.E\n",
    "exam1_df['length'] = exam1_df['text'].apply(lambda x: len(list(x)))\n",
    "s10_e18_c11_u019 = exam1_df[exam1_df['id'] == 's10_e18_c11_u019'].reset_index()\n",
    "print(s10_e18_c11_u019.loc[0, 'length'])"
   ]
  },
  {
   "cell_type": "code",
   "execution_count": 4,
   "id": "2c3ccc6f",
   "metadata": {},
   "outputs": [
    {
     "data": {
      "text/html": [
       "<div>\n",
       "<style scoped>\n",
       "    .dataframe tbody tr th:only-of-type {\n",
       "        vertical-align: middle;\n",
       "    }\n",
       "\n",
       "    .dataframe tbody tr th {\n",
       "        vertical-align: top;\n",
       "    }\n",
       "\n",
       "    .dataframe thead th {\n",
       "        text-align: right;\n",
       "    }\n",
       "</style>\n",
       "<table border=\"1\" class=\"dataframe\">\n",
       "  <thead>\n",
       "    <tr style=\"text-align: right;\">\n",
       "      <th></th>\n",
       "      <th>id</th>\n",
       "      <th>conversation_id</th>\n",
       "      <th>text</th>\n",
       "      <th>speaker</th>\n",
       "      <th>reply-to</th>\n",
       "      <th>season</th>\n",
       "      <th>episode</th>\n",
       "      <th>length</th>\n",
       "    </tr>\n",
       "  </thead>\n",
       "  <tbody>\n",
       "    <tr>\n",
       "      <th>0</th>\n",
       "      <td>s01_e01_c01_u001</td>\n",
       "      <td>s01_e01_c01_u001</td>\n",
       "      <td>There's nothing to tell! He's just some guy I ...</td>\n",
       "      <td>Monica Geller</td>\n",
       "      <td>None</td>\n",
       "      <td>s01</td>\n",
       "      <td>e01</td>\n",
       "      <td>56</td>\n",
       "    </tr>\n",
       "    <tr>\n",
       "      <th>1</th>\n",
       "      <td>s01_e01_c01_u002</td>\n",
       "      <td>s01_e01_c01_u001</td>\n",
       "      <td>C'mon, you're going out with the guy! There's ...</td>\n",
       "      <td>Joey Tribbiani</td>\n",
       "      <td>s01_e01_c01_u001</td>\n",
       "      <td>s01</td>\n",
       "      <td>e01</td>\n",
       "      <td>80</td>\n",
       "    </tr>\n",
       "    <tr>\n",
       "      <th>2</th>\n",
       "      <td>s01_e01_c01_u003</td>\n",
       "      <td>s01_e01_c01_u001</td>\n",
       "      <td>All right Joey, be nice. So does he have a hum...</td>\n",
       "      <td>Chandler Bing</td>\n",
       "      <td>s01_e01_c01_u002</td>\n",
       "      <td>s01</td>\n",
       "      <td>e01</td>\n",
       "      <td>72</td>\n",
       "    </tr>\n",
       "    <tr>\n",
       "      <th>3</th>\n",
       "      <td>s01_e01_c01_u004</td>\n",
       "      <td>s01_e01_c01_u001</td>\n",
       "      <td>Wait, does he eat chalk?</td>\n",
       "      <td>Phoebe Buffay</td>\n",
       "      <td>s01_e01_c01_u003</td>\n",
       "      <td>s01</td>\n",
       "      <td>e01</td>\n",
       "      <td>24</td>\n",
       "    </tr>\n",
       "    <tr>\n",
       "      <th>5</th>\n",
       "      <td>s01_e01_c01_u006</td>\n",
       "      <td>s01_e01_c01_u001</td>\n",
       "      <td>Just, 'cause, I don't want her to go through w...</td>\n",
       "      <td>Phoebe Buffay</td>\n",
       "      <td>s01_e01_c01_u005</td>\n",
       "      <td>s01</td>\n",
       "      <td>e01</td>\n",
       "      <td>79</td>\n",
       "    </tr>\n",
       "  </tbody>\n",
       "</table>\n",
       "</div>"
      ],
      "text/plain": [
       "                 id   conversation_id  \\\n",
       "0  s01_e01_c01_u001  s01_e01_c01_u001   \n",
       "1  s01_e01_c01_u002  s01_e01_c01_u001   \n",
       "2  s01_e01_c01_u003  s01_e01_c01_u001   \n",
       "3  s01_e01_c01_u004  s01_e01_c01_u001   \n",
       "5  s01_e01_c01_u006  s01_e01_c01_u001   \n",
       "\n",
       "                                                text         speaker  \\\n",
       "0  There's nothing to tell! He's just some guy I ...   Monica Geller   \n",
       "1  C'mon, you're going out with the guy! There's ...  Joey Tribbiani   \n",
       "2  All right Joey, be nice. So does he have a hum...   Chandler Bing   \n",
       "3                           Wait, does he eat chalk?   Phoebe Buffay   \n",
       "5  Just, 'cause, I don't want her to go through w...   Phoebe Buffay   \n",
       "\n",
       "           reply-to season episode  length  \n",
       "0              None    s01     e01      56  \n",
       "1  s01_e01_c01_u001    s01     e01      80  \n",
       "2  s01_e01_c01_u002    s01     e01      72  \n",
       "3  s01_e01_c01_u003    s01     e01      24  \n",
       "5  s01_e01_c01_u005    s01     e01      79  "
      ]
     },
     "execution_count": 4,
     "metadata": {},
     "output_type": "execute_result"
    }
   ],
   "source": [
    "exam1_df.head()"
   ]
  },
  {
   "cell_type": "markdown",
   "id": "60d3bdc7",
   "metadata": {},
   "source": [
    "**1.2** Next, you conduct some basic analyses:\n",
    "\n",
    " A. With `statsmodels`, fit a linear regression `length ~ C(season, Treatment(reference=\"s01\"))`, where length is an integer and season is a categorical variable. Print the regression summary.\n",
    " \n",
    " B. /**Discuss:/** Considering the regression summary:\n",
    "   - What does the intercept in this regression represent? \n",
    "   - What does the coefficient `C(season, Treatment(reference=\"s01\"))[T.s09]` represent? \n",
    "   - Does the average utterance in season 9 contain significantly more characters than in season 1 at the 0.05 significance level? Justify with the regression summary **only**. \n",
    "   - Does the average utterance in season 10 contain significantly more characters than in season 1 at the 0.05 significance level? Justify with the regression summary  **only** .\n",
    "\n",
    " C. Argue visually (i.e., with a plot) that there are 6 main characters in the show."
   ]
  },
  {
   "cell_type": "code",
   "execution_count": 5,
   "id": "bf0b3c34",
   "metadata": {},
   "outputs": [
    {
     "name": "stdout",
     "output_type": "stream",
     "text": [
      "                            OLS Regression Results                            \n",
      "==============================================================================\n",
      "Dep. Variable:                 length   R-squared:                       0.001\n",
      "Model:                            OLS   Adj. R-squared:                  0.001\n",
      "Method:                 Least Squares   F-statistic:                     8.058\n",
      "Date:                Mon, 13 Jan 2025   Prob (F-statistic):           4.96e-12\n",
      "Time:                        18:17:15   Log-Likelihood:            -3.2981e+05\n",
      "No. Observations:               60985   AIC:                         6.596e+05\n",
      "Df Residuals:                   60975   BIC:                         6.597e+05\n",
      "Df Model:                           9                                         \n",
      "Covariance Type:            nonrobust                                         \n",
      "================================================================================================================\n",
      "                                                   coef    std err          t      P>|t|      [0.025      0.975]\n",
      "----------------------------------------------------------------------------------------------------------------\n",
      "Intercept                                       51.0190      0.704     72.464      0.000      49.639      52.399\n",
      "C(season, Treatment(reference=\"s01\"))[T.s02]     2.2764      1.004      2.268      0.023       0.309       4.243\n",
      "C(season, Treatment(reference=\"s01\"))[T.s03]     1.1906      0.974      1.222      0.222      -0.718       3.100\n",
      "C(season, Treatment(reference=\"s01\"))[T.s04]     0.6674      0.980      0.681      0.496      -1.253       2.588\n",
      "C(season, Treatment(reference=\"s01\"))[T.s05]    -0.3185      0.984     -0.324      0.746      -2.247       1.610\n",
      "C(season, Treatment(reference=\"s01\"))[T.s06]     1.9612      0.974      2.013      0.044       0.052       3.871\n",
      "C(season, Treatment(reference=\"s01\"))[T.s07]     0.3712      0.979      0.379      0.705      -1.548       2.290\n",
      "C(season, Treatment(reference=\"s01\"))[T.s08]     1.1265      0.982      1.147      0.251      -0.799       3.052\n",
      "C(season, Treatment(reference=\"s01\"))[T.s09]     6.0889      0.979      6.222      0.000       4.171       8.007\n",
      "C(season, Treatment(reference=\"s01\"))[T.s10]    -0.8470      1.026     -0.825      0.409      -2.858       1.164\n",
      "==============================================================================\n",
      "Omnibus:                    39360.499   Durbin-Watson:                   1.966\n",
      "Prob(Omnibus):                  0.000   Jarque-Bera (JB):           721113.209\n",
      "Skew:                           2.832   Prob(JB):                         0.00\n",
      "Kurtosis:                      18.865   Cond. No.                         11.1\n",
      "==============================================================================\n",
      "\n",
      "Notes:\n",
      "[1] Standard Errors assume that the covariance matrix of the errors is correctly specified.\n"
     ]
    }
   ],
   "source": [
    "# 1.2.A\n",
    "mod = smf.ols(formula='length ~ C(season, Treatment(reference=\"s01\"))', data=exam1_df)\n",
    "res = mod.fit()\n",
    "print(res.summary())"
   ]
  },
  {
   "cell_type": "markdown",
   "id": "d081b4d3",
   "metadata": {},
   "source": [
    "#### 1.2.B\n",
    "The intercept in this regression represents the standard average length of an utterance in season 1. C(season, Treatment(reference=\"s01\"))[T.s09] represents the impact that the length of the utterances in season 9 on the overall model. In this case, it also represents the difference in aerage utterance length in characters between season 1 and 9 utterances. Season 9 does cntan singificantly more characters as the coefficient is positive and the pvalue is null. This is not the case for season 10 where the coefficient is not only negative but has a p-value of 0.681. "
   ]
  },
  {
   "cell_type": "code",
   "execution_count": 6,
   "id": "88328f59",
   "metadata": {},
   "outputs": [
    {
     "data": {
      "text/plain": [
       "Text(0.5, 1.0, 'Utterance number distribution amongst the characters of the show')"
      ]
     },
     "execution_count": 6,
     "metadata": {},
     "output_type": "execute_result"
    },
    {
     "data": {
      "image/png": "[encoded data removed]",
      "text/plain": [
       "<Figure size 900x500 with 1 Axes>"
      ]
     },
     "metadata": {},
     "output_type": "display_data"
    }
   ],
   "source": [
    "#1.2.C\n",
    "utterance_per_character = exam1_df.groupby('speaker')['id'].count().reset_index() ## main characters will speak the most frequently \n",
    "\n",
    "plt.figure(figsize = (9,5))\n",
    "sns.boxplot(utterance_per_character, x='id')\n",
    "plt.xlabel(\"Speaker\")\n",
    "plt.xscale(\"log\")\n",
    "plt.ylabel(\"utterance count\")\n",
    "plt.title(\"Utterance number distribution amongst the characters of the show\")"
   ]
  },
  {
   "cell_type": "markdown",
   "id": "eeb47cab",
   "metadata": {},
   "source": [
    "--- \n",
    "**1.3 —** Using `networkx` \n",
    "\n",
    "A. Create a `MultiDiGraph` (directed graph with self loops and parallel edges) where:\n",
    "- Each node $u$ is a character uniquely identified by the `speaker` field.\n",
    "- There is an edge between nodes $u$ and $v$ if $u$ replied to $v$. If an utterance (a row in the dataframe) is said in reply to nobody, then it will not correspond to an edge. Each edge should contain two attributes. Each edge should have two attributes: `season` and `episode`.\n",
    "\n",
    "B. Print the number of nodes and edges in your graph.\n",
    "\n",
    "C. **/Discuss:/** Instead of using multi-edges, what would be another way in which you could capture the number of replies associated with each node pair?\n"
   ]
  },
  {
   "cell_type": "markdown",
   "id": "42248696",
   "metadata": {},
   "source": [
    "One could have used weighed edges instead of a multi-directional graph. The more a characetr speaks to another, the higher the weight of the edge."
   ]
  },
  {
   "cell_type": "markdown",
   "id": "130a16f1",
   "metadata": {},
   "source": [
    "---\n",
    "With the graph ready, you set out to investigate who is the true protagonist of Friends.\n",
    "\n",
    "Ignore the graph you generated previously and instead use the graph provided in `exam2.graphml`. Note that this graph may be slightly different from what you generated, but treat it as the ground truth. We provide you with code to load the graph below.\n"
   ]
  },
  {
   "cell_type": "markdown",
   "id": "6ad04b50",
   "metadata": {},
   "source": [
    "---"
   ]
  },
  {
   "cell_type": "markdown",
   "id": "53ee10e7",
   "metadata": {},
   "source": [
    "**1.4 —** Using the provided MultiDiGraph $G$:\n",
    "\n",
    "A. Calculate the out-degree of each node (also known as out-degree centrality). Please do not use the `nx.out_degree_centrality` function here, as it normalizes the degree. (E.g., if a node has 5 outgoing edges, it should have out-degree 5 according to your code.)\n",
    "\n",
    "B. Calculate the PageRank centrality of each node in $G$. Use the default parameters.\n",
    "\n",
    "C. Print both centrality metrics calculated above for the six main characters of Friends.\n",
    "\n",
    "D. **/Discuss:/** According to the metrics, who is the most important character in Friends?"
   ]
  },
  {
   "cell_type": "code",
   "execution_count": 7,
   "id": "aa8407dd",
   "metadata": {},
   "outputs": [
    {
     "name": "stdout",
     "output_type": "stream",
     "text": [
      "[('Joey Tribbiani', 7395), ('Monica Geller', 7621), ('Chandler Bing', 7702), ('Phoebe Buffay', 6797), ('Ross Geller', 8234), ('Rachel Green', 8470), ('Waitress', 6), ('Paul the Wine Guy', 14), ('Priest On Tv', 0), ('Franny', 6), ('Customer', 12), ('Marsha', 4), ('Carol Willick', 183), ('Judy Geller', 154), ('Susan Bunch', 94), ('Barry Farber', 35), ('Robbie', 4), ('Bernice', 3), ('Dr. Oberman', 3), ('Paula', 6), ('Alan', 4), ('The Guys', 9), ('Lizzy', 10), ('Leslie', 17), ('Guys', 4), ('Kiki', 4), ('Joanne', 5), ('Receptionist', 30), ('Pizza Guy', 8), ('Both', 15), ('Kid', 7), ('Angela Delveccio', 10), ('Janice Litman Goralnik', 189), ('Woman', 89), ('Bob', 7), ('Aurora', 28), ('Director', 49), ('Jill Goodacre', 8), ('Mr. Heckles', 31), ('Paolo', 18), ('Shelley', 11), ('Aunt Lillian', 8), ('Nurse Sizemore', 12), ('Andrea', 2), ('Lowell', 7), ('Terry', 18), ('Guy', 54), ('Girl', 23), ('Max', 12), ('David', 116), ('Sandy', 29), ('Bobby Rush', 28), ('Dick Clark', 2), ('Jay Leno', 4), ('Nora Tyler Bing', 32), ('Coma Guy', 7), (\"Phoebe's Assistant\", 1), ('Roger', 24), ('Joey Tribbiani Sr.', 19), ('Ronni Rapalono', 17), ('Gloria Tribbiani', 8), ('Lorraine', 5), ('Kristin', 4), ('Fireman No. 2', 3), ('Fireman No. 1', 1), ('Fireman No. 3', 3), ('Mrs. Tedlock', 1), ('Celia', 5), ('Steve (drug addict)', 21), ('Ursula', 14), ('Teacher', 11), ('Helen', 2), ('Nina Bookbinder', 11), ('Mr. Douglas', 12), ('Frank Buffay Jr.', 166), ('Jamie', 7), ('Soothing Male Voice', 0), ('Dr. Mitchell', 7), ('Dr. Rosen', 10), (\"Phoebe's Friends\", 1), ('Aunt Iris', 5), ('Intercom', 3), ('Luisa Gianetti', 15), ('Woman No. 1', 5), ('Mindy Hunter', 27), ('Danielle', 5), ('Fake Monica', 18), ('Dr. Baldhara', 7), ('Announcement', 0), ('Casting Director No. 1', 1), ('Actor', 0), ('Casting Director No. 2', 2), ('Ethan', 22), ('Santos', 2), ('Gerston', 1), ('Petrie', 1), ('Dr. Franzblau', 14), ('Lydia', 19), ('Melanie', 5), ('Flight Attendant', 6), ('Man', 47), (\"Carl (Rachel's date)\", 4), ('Julie', 38), ('Paulo', 3), ('Annabelle', 7), ('Hombre Man', 9), ('Store Guy', 2), ('Mr. Treeger', 50), ('Buddy Boyles', 3), ('Alison', 1), ('Stranger', 6), ('Duncan', 20), ('Old Woman', 1), ('Jade', 17), ('Waiter', 46), ('Machine', 7), ('Steven Fisher', 6), ('Caroline', 6), ('Doctor', 16), ('Girl 1 On Bus', 1), ('Girl 2 On Bus', 1), ('Girl 1', 5), ('Girl 2', 2), ('Stephanie Schiffer', 13), ('Transit Authority Guy', 1), ('Together', 1), ('Michael', 13), ('Mr. Ratstatter', 16), ('Radio', 2), ('Gunther', 110), ('Gang', 6), ('Grandmother', 17), ('Russ', 22), ('Estelle Leonard', 33), ('Mrs. Wallace', 1), ('Sandra Green', 78), ('Mr. Adelman', 8), ('Minister', 20), ('Rob', 15), ('Erica Ford', 24), ('Dean Lipson', 5), ('Kids', 1), ('Janitor', 10), ('Tv Doctor', 0), ('Security Guard', 3), ('Trainer', 2), (\"Director's Assistant\", 6), ('Susie Moss', 34), ('Jean-Claude Van Damme', 12), ('Interviewer', 24), ('Gail', 2), ('Roy', 25), ('Chip Matthews', 17), ('Richard Burke', 262), ('Delivery Guy', 5), ('Friend', 3), (\"Joey's Co-Star\", 9), ('Tattoo Artist', 1), ('Producer', 3), ('Eddie Menuek', 60), ('Dr. Drake Ramoray', 27), ('Amber', 5), ('Tilly', 7), ('Dr. Horton', 2), ('Casting Guy', 4), ('Mover', 3), ('Ben Geller', 71), ('Ernie', 1), ('Big Bully', 22), ('Little Bully', 20), ('Mrs. Buffay', 7), ('Leonard Green', 84), (\"Girl's Voice\", 1), ('Scott Alexander', 4), ('Ryan', 31), ('Jeannie', 2), ('Wedding Planner', 1), ('Mr. Wineburg', 4), ('Mrs. Wineburg', 2), ('Best Man', 2), ('Jack Geller', 136), (\"Woman's Voice\", 1), ('Michelle Burke', 1), ('Sherman Whitfield', 5), ('Malcom', 12), ('Host', 0), ('Mike', 8), ('Jasmine', 8), ('Isabella Rosselini', 10), ('Eric (photographer)', 6), ('Friend No. 1', 4), ('Friend No. 2', 3), ('Her Friends', 1), ('Matress King', 2), ('Student', 8), ('Jester', 3), ('Margha', 9), ('Sarah Tuttle', 10), ('Leader', 5), ('Mr. Kaplan', 6), (\"Joey's Sisters\", 2), ('Cookie Tribbiani', 4), ('Sister 1', 0), (\"Joey's Grandmother\", 4), (\"Joey's Sister\", 6), ('Mary-Angela', 2), ('Mary-Theresa', 1), ('Mark Robinson', 46), ('Jeannine', 2), ('Julio (poet)', 13), ('Quartet', 5), ('The Bass Barber', 2), ('Bass Singer', 1), ('Clerk', 6), ('Robert Bobby', 20), (\"Richard's Date\", 6), ('Singer', 2), ('Ginger', 13), ('Lecturer', 0), ('Issac', 12), ('Chloe', 23), ('Mischa', 6), ('Sergei', 4), ('Sophie', 13), ('The Girls', 6), ('Alice Knight', 41), ('Peter Becker', 94), ('Secretary', 0), ('Employee', 1), ('Hypnosis Tape', 0), ('The Director', 41), ('Kate Miller', 57), ('Spokeswoman', 1), ('Joanna', 65), ('Lauren', 21), ('Anchorwoman', 1), ('Hold Voice', 2), ('Tommy', 19), ('Cailin', 4), ('Stage Manager', 3), ('Vince', 16), ('Jason', 12), ('Dr. Rhodes', 6), ('Dr. Johnson', 1), (\"Pete's Mom\", 0), ('Fireman', 1), ('Guru Saj', 12), ('Robin Williams', 1), ('Billy', 9), ('Robin', 7), ('Doug', 39), ('Hoshi', 3), ('Bonnie', 32), ('Phil', 2), ('Stevens', 3), ('Announcer', 6), ('Referee', 1), ('Tv Announcer', 3), ('Phoebe Abbott', 47), ('Ursula Buffay', 48), ('Tony', 2), ('Peter', 1), ('The Salesman', 18), ('Oven', 1), ('Gym Employee', 6), ('Rick Sanoven', 9), ('Bank Officer', 2), ('Ms. Lambert', 1), ('Mr. Simon', 1), ('Mrs. Potter', 2), ('Kathy', 77), ('Joshua Burgin', 91), (\"Amanda (Ross' date)\", 6), ('Cheryl', 13), ('Mrs. Burkart', 7), ('Casey', 1), ('Voice', 3), ('Nurse', 31), ('Timothy Burke', 26), ('Mr. Posner', 1), ('Mrs. Lynch', 8), ('Allesandro', 9), ('Drew', 4), ('A Waiter', 1), ('The Waiter', 15), ('The Woman From Poughkeepsie', 1), ('The Conductor', 0), ('Kitchen Worker', 2), ('Woman On Train', 4), ('Smart Kid', 1), ('Tour Guide', 5), ('Older Scientist', 1), ('Another Tour Guide', 1), ('Another Scientist', 2), ('Dr. Zane', 5), (\"Kathy's Co-Star\", 2), ('Stephen Waltham', 39), ('Emily Waltham', 147), ('The A.D', 7), ('The Cigarette Smoking Guy', 1), ('Charlton Heston', 8), ('The Cigarette Guy', 1), ('Devon', 4), ('Liam', 5), ('Ticket Counter Attendant', 4), ('Mrs. Chatracus', 1), ('The Doctor', 17), ('Ticket Agent', 21), ('Mrs. Burgin', 4), ('Mr. Burgin', 8), ('The Singing Man', 4), ('The Saleslady', 6), ('Sleep Clinic Worker', 2), ('Marjorie', 3), ('The Stripper', 10), ('Dressmaker', 1), ('The Vendor', 4), ('Fergie', 4), ('Housekeeper', 6), ('Andrea Waltham', 28), ('Felicity', 3), ('Drunk Man', 2), ('Passenger', 7), ('Gate Agent', 4), ('Air Hostess', 2), ('Dave', 4), ('Dr. Harad', 13), (\"Joey's Doctor\", 4), ('Male Nurse', 1), ('Dan', 6), ('Delivery Room Nurse', 1), ('Stage Director', 6), ('Pbs Volunteer', 2), ('Gary Collins', 2), ('Hotel Clerk', 2), ('Danny', 50), ('Health Inspector', 0), ('Larry', 16), ('Tom', 14), ('The Housekeeper', 1), ('The Paramedic', 1), ('The Teacher', 18), ('Cynthia', 2), ('Dr. Ledbetter', 16), ('A Female Student', 1), ('The Man', 5), (\"Danny's Sister\", 1), ('Krista', 9), ('Elizabeth Hornswoggle', 4), ('Kara', 3), ('Frank Buffay Sr.', 22), ('The Pastor', 1), ('The Casting Director', 27), ('Katie', 14), ('Steve Cera', 11), ('Party Guests', 0), ('Guest #1', 1), ('Guest #2', 1), ('Guest #3', 1), ('The Smoking Woman', 7), ('Cop', 13), ('Gary', 89), ('The Saleswoman', 3), (\"Gary's Radio\", 1), ('The Old Man', 1), ('The Little Girl', 1), ('Mr. Zelner', 45), ('The Hot Girl', 3), ('Jen', 4), ('Kim', 36), ('Nancy', 9), ('Kyle', 5), ('Raymond', 1), ('Delivery Girl', 0), ('Caitlin', 23), ('Grandma Tribbiani', 6), ('Answering Machine', 1), ('Woman No. 2', 4), ('Dr. Miller', 14), ('Stanley', 6), ('The Grip', 1), ('The Husband', 1), ('A Casino Boss', 1), ('A Tourist', 1), ('The Croupier', 2), ('The Flight Attendant', 2), ('Blackjack Dealer', 2), ('The Woman Dealer', 3), (\"Joey's Hand Twin\", 13), ('A Drunken Gambler', 1), ('Drunken Gambler', 2), ('The Lurker', 5), ('The Security Guard', 6), ('The Attendant', 1), ('Attendant', 0), ('Croupler', 1), ('Hitchhiker', 4), ('Stephanie', 1), ('Karin', 2), ('Meg', 2), ('Russell', 11), ('The Potential Roommate', 7), ('The Professor', 1), ('Casting Director #1', 2), ('Casting Director #2', 3), ('Casting Director #3', 1), ('A Crew Member', 1), ('Alex', 1), ('A Student', 1), ('Guy #1', 0), ('Guy #2', 3), ('The Porsche Owner', 6), ('Judge', 10), ('Passerby', 1), ('Janine Lecroix', 79), ('Ralph Lauren', 2), ('Hillary', 14), ('Tall Guy', 5), ('Patron', 3), ('Customers', 1), ('Jill Green', 65), ('A Male Customer', 1), ('The Fan', 7), ('The Vampire', 1), ('Buffay', 1), (\"Man's Voice\", 0), (\"Another Man's Voice\", 1), (\"Same Man's Voice\", 1), (\"Monica's Boyfriend\", 6), ('Guy All The Way In The Back', 1), ('Dr. Wesley', 2), ('Hope', 2), ('Dr. Roger', 6), ('Arthur', 2), ('Jack', 10), (\"Joey's Look-A-Like\", 1), (\"Carl (Joey's lookalike)\", 3), ('The Instructor', 6), (\"Janice's Voice\", 2), ('Elizabeth Stevens', 79), ('Burt', 2), ('Fireman #1', 5), ('Dana Keystone', 11), ('Fireman #2', 4), ('Mel', 1), ('Professor Feesen', 1), ('Sebastian', 8), ('Eldad', 4), ('Patrick', 3), ('The Producer', 5), ('Wayne', 10), ('C.H.E.E.S.E.', 4), ('Paul Stevens', 105), ('The Dry Cleaner', 13), ('The Museum Official', 4), ('Female Clerk', 2), ('Male Jeweler', 10), ('Female Jeweler', 1), ('Mr. Thompson', 10), ('Zoe', 0), ('Sarah', 18), ('Second Dorm Guy', 0), ('First Dorm Guy', 1), (\"Matire'D\", 2), ('Lisa', 1), ('Emil Alexander', 1), ('Mr. Bowmont', 6), ('Narrator', 0), ('Mac', 1), ('Hilda', 4), ('Tag Jones', 136), ('Nurse #2', 1), ('Nurse #1', 0), ('Dr. Stryker Remoray', 0), ('Melissa Warburton', 31), ('The Photographer', 1), ('The Cute Guy', 7), ('Whitney', 8), ('Julie Graff', 2), (\"Joey's Date\", 6), ('Erin', 24), ('Male Student', 1), ('Female Student', 0), ('The Waitress', 1), ('The Colonel', 0), ('The Librarian', 1), ('The Head Librarian', 2), ('The Knocker', 1), ('The Woman', 10), (\"Maitre D'\", 8), ('Male Guest', 0), ('Salesman', 3), ('The Wedding Guest', 2), ('The Second Guest', 1), ('Aunt Millie', 3), ('Smoke Detector', 1), ('A Disembodied Voice', 1), ('The Fireman', 5), ('Supervisor', 7), ('Earl', 27), ('The \"Hey Guy\" Guy', 1), ('Marge', 1), ('The Man In The Sportscar', 0), ('Jessica Lockhart', 4), ('Dina', 26), ('Cecilia', 47), ('The Writer', 1), ('Fredrick', 1), ('Lisa Kudrow', 1), ('Matthew Perry', 0), ('Kristen Leigh', 27), ('Megan Bailey', 15), ('A Woman', 0), ('Lewis', 9), ('Ned Morse', 10), ('Jake', 4), ('The Presenter', 0), ('Jessica Ashley', 4), ('Cassie Geller', 13), ('The Other Woman', 1), ('Waiter In Drag', 0), ('Helena', 14), ('Policeman', 22), ('The Chorus Line', 2), ('The Assistant Director', 3), ('Charles Bing', 4), ('The Rabbi', 3), ('Photographer', 3), ('Mona', 98), ('Dennis Phillips', 8), ('Little Girl', 6), ('Second Girl', 1), ('Bandleader', 0), ('Ashley', 1), ('Fat Girl', 1), ('Gert', 3), ('Front Desk Clerk', 2), ('Woman At The Wedding', 3), ('Man At The Wedding', 3), ('Anxious Wedding Guest', 4), ('Airline Employee', 4), ('Dr. Long', 35), ('Kristen', 4), ('Tim', 17), ('Mr. Franklin', 7), (\"Bob (Chandler's coworker)\", 9), ('Kash', 7), ('Witch', 1), ('Clown', 1), ('Cowgirl', 1), ('Ballerina', 3), ('Eric', 60), ('Boy In The Cape', 5), (\"Mrs. Verhoeven's Daughter\", 9), ('Brenda', 11), ('Stripper', 5), ('Hooker', 4), ('Stu', 5), ('Will Colbert', 48), ('Bobby Corso', 7), ('Trudie Styler', 12), ('Dr. Schiff', 8), ('Locksmith', 1), ('Man On Tv', 2), ('Woman On Tv', 3), ('Don', 11), ('Waiter No. 2', 2), ('Jim', 13), (\"Mona's Date\", 3), ('Parker', 29), ('Aunt Lisa', 5), ('Uncle Dan', 1), ('The Interviewer', 24), ('Janine', 2), ('Ray', 6), ('Cashier', 6), ('The Food Critic', 3), ('The Cooking Teacher', 17), ('Katie (saleswoman)', 7), ('Julie Coreger', 7), ('Marc Coreger', 5), ('Evil Bitch', 6), ('Sick Bastard', 2), ('Woman Giving Birth', 1), ('Cliff', 19), ('Sid Goralnik', 2), ('Ms. Mckenna', 6), ('Mike Hannigan', 315), ('Mary Ellen', 4), ('Dr. Gettleman', 2), ('Sally', 2), ('Boy', 1), ('Hayley', 10), (\"Hayley's Roommate\", 1), ('Ken', 5), ('Claudia', 3), ('Waiters', 2), ('Prospective Nanny', 4), ('Catherine', 3), ('Bitsy Hannigan', 16), ('Theodore', 8), ('Woman At Door', 2), ('Amy Green', 123), ('Jo Lynn', 0), ('Bill', 10), ('Kevin', 2), ('Wendy', 15), ('Others', 3), ('Gavin Mitchell', 62), ('Extra', 1), ('Another Extra', 1), ('Molly', 17), ('Heather', 1), ('Salon Girl', 2), ('Sonia', 4), ('Blonde Girl', 1), ('Michelle', 15), ('Her Friend', 1), ('Steve', 15), ('Waiter #2', 1), ('Intern', 5), ('Lennart', 33), ('Producer #1', 1), ('Lowell (mugger)', 7), ('Boss', 5), ('Handyman', 2), ('Strange Man', 1), ('Manny', 8), ('Kori', 7), ('Racel', 1), ('Message', 2), ('Second Message', 2), ('Olivia', 6), ('Chase Lassiter', 1), ('1st Customer', 0), ('Chandlers', 1), ('Charlie Wheeler', 184), ('Professor Spafford', 5), ('Jane', 0), ('Kyle Lowder', 1), ('Matthew Ashford', 2), ('Bitter Lady', 1), ('Dirk', 3), ('Bitter Woman', 1), ('Doctor Connelly', 5), ('Professor Sherman', 1), ('Shop Assistant', 0), ('Zack', 20), ('Jeanette', 1), ('Man With A Bow Tie', 2), ('Alexandra Steele', 0), ('Jarvis Oberblau', 1), ('Paleontologist', 1), ('Professore Clerk', 1), ('Precious', 11), ('Colleen', 9), ('Owen', 10), ('Assistant', 10), ('Amanda Buffamonteezi', 14), ('Glenda', 1), ('Emma', 1), ('Benjamin Hobart', 36), ('Dr. Li', 2), ('Dr. Biely', 2), ('Charity Guy', 17), ('Laura', 15), ('Agency Guy', 10), ('Erica', 65), ('Adoption Agency Guy', 1), ('Missy Goldberg', 10), ('Donny Osmond', 9), ('Gene', 27), ('Henrietta', 1), ('Adrienne', 2), (\"Mike's Mother\", 1), (\"Mike's Father\", 2), (\"Mike's Mom\", 2), (\"Mike's Dad\", 1), ('Tape', 1), ('Casting Assistant', 1), ('Mr. Campbell', 10), ('Realtor', 2), ('Mackenzie', 11), ('Rita', 3), ('Lady', 4), ('Jennifer Aniston', 0), ('Gate Attendant #1', 3), ('Passenger #1', 8), ('Air Stewardess', 7), ('Passenger #2', 3), ('Passenger #3', 1), ('Gate Attendant #2', 5)]\n",
      "Ross Geller's out degree is 8234 and page rank is 0.12561115738701217\n",
      "Rachel Green's out degree is 8470 and page rank is 0.12684259753919158\n",
      "Monica Geller's out degree is 7621 and page rank is 0.1134500759232524\n",
      "Chandler Bing's out degree is 7702 and page rank is 0.1145352324808736\n",
      "Joey Tribbiani's out degree is 7395 and page rank is 0.11283519639878972\n",
      "Phoebe Buffay's out degree is 6797 and page rank is 0.10206929426008514\n"
     ]
    }
   ],
   "source": [
    "G = nx.read_graphml(\"exam2.graphml\")\n",
    "\n",
    "#1.4.A\n",
    "out_degrees = G.out_degree()\n",
    "print(out_degrees)\n",
    "\n",
    "#1.4.B\n",
    "G_pr = nx.pagerank(G)\n",
    "#1.4.C\n",
    "main_6 = ['Ross Geller', 'Rachel Green', 'Monica Geller', 'Chandler Bing', 'Joey Tribbiani', 'Phoebe Buffay']\n",
    "for main in main_6:\n",
    "    print(f\"{main}'s out degree is {out_degrees[main]} and page rank is {G_pr[main]}\")"
   ]
  },
  {
   "cell_type": "markdown",
   "id": "ed38ff2f",
   "metadata": {},
   "source": [
    "#### 1.4.D\n",
    "According to the metrics above, the main character appears to be Rachel as she possesses the largest out degree and page rank out of any of the 6."
   ]
  },
  {
   "cell_type": "markdown",
   "id": "fe9f1601",
   "metadata": {},
   "source": [
    "---\n",
    "\n",
    "**1.5 —** **/True or false:/** Considering your answer in **1.4**, are the following statements true or false? Justify your answers. \n",
    "\n",
    "A. \"If we inverted all  edges in the graph such that an edge $(u,v)$ becomes an edge $(v,u)$, the PageRank centrality would remain unchanged.\"\n",
    "\n",
    "B. \"If we removed all outgoing edges from Rachel Green, her PageRank centrality would remain unchanged.\"\n",
    "\n",
    "C. \"If a new node was introduced in the graph, with 1,000 outgoing edges towards each other node, but no incoming edge, it would have the highest PageRank centrality.\"\n"
   ]
  },
  {
   "cell_type": "markdown",
   "id": "3424c532",
   "metadata": {},
   "source": [
    " - A: False, page rank is computed by counting the number of incoming edges that are then weighted by the number of outgoing edges of the node. Inverting them would change the results albeit slightly in this case due to the centrality of the 6 characters. \n",
    " - B: True, this would not impact the ability for one to navigate to her node.\n",
    " - C: False, its centrality would be 0 as there would be no way to access this new node. "
   ]
  },
  {
   "cell_type": "markdown",
   "id": "6e47355c",
   "metadata": {},
   "source": [
    "---\n",
    "\n",
    "**1.6 —** Next, you consider how these centrality metrics vary over the course of the seasons.\n",
    "\n",
    "A. Calculate the PageRank and out-degree centrality of the 6 main characters per episode, i.e., for each episode, create a graph containing only the utterances of that episode and calculate the PageRank centrality for this new graph. Print the PageRank and the out-degree of Rachel Green for the first episode of the first season.\n",
    "\n",
    "B. Considering the episode-level out-degree centrality of Phoebe Buffay in season 1 and in season 10, print the mean and the standard error of the mean.\n",
    "\n",
    "C. Create a single plot with 10 inches of width and 4 inches of height. The plot should contain two panels, containing the average PageRank centrality per season of Rachel Green and Ross Geller (Panel A), and the average out-degree per season of Rachel Green and Ross Geller (Panel B). Show 95% confidence intervals in your plot (calculated over the episodes in each season).\n",
    "\n",
    "D. **/Discuss:/** Does the plot support the hypothesis that Rachel was the show's protagonist in all 10 seasons? Explain why."
   ]
  },
  {
   "cell_type": "code",
   "execution_count": 8,
   "id": "d1589393",
   "metadata": {},
   "outputs": [
    {
     "name": "stderr",
     "output_type": "stream",
     "text": [
      "C:\\Users\\Karl Abdelnour\\AppData\\Local\\Temp\\ipykernel_24544\\1152344180.py:3: SettingWithCopyWarning: \n",
      "A value is trying to be set on a copy of a slice from a DataFrame.\n",
      "Try using .loc[row_indexer,col_indexer] = value instead\n",
      "\n",
      "See the caveats in the documentation: https://pandas.pydata.org/pandas-docs/stable/user_guide/indexing.html#returning-a-view-versus-a-copy\n",
      "  exam1_6['episode'] = exam1_6['season'].astype(str) + '-' + exam1_6['episode'].astype(str)\n"
     ]
    },
    {
     "data": {
      "text/plain": [
       "''"
      ]
     },
     "execution_count": 8,
     "metadata": {},
     "output_type": "execute_result"
    }
   ],
   "source": [
    "# Ensure proper data type and formatting for 'episode'\n",
    "exam1_6 = exam1_df[exam1_df['speaker'].isin(main_6)]\n",
    "exam1_6['episode'] = exam1_6['season'].astype(str) + '-' + exam1_6['episode'].astype(str)\n",
    "\n",
    "# Merge to get speaker pairs for edges\n",
    "exam1_6 = exam1_6.merge(exam1_6[[\"id\", \"speaker\"]], right_on=\"id\", left_on=\"reply-to\", how=\"left\")\n",
    "exam1_6 = exam1_6[~exam1_6['speaker_y'].isna()]\n",
    "\n",
    "# Create graph with edge attributes\n",
    "G6 = nx.from_pandas_edgelist(exam1_6, source='speaker_x', target='speaker_y',\n",
    "                             edge_attr=['episode'], create_using=nx.MultiDiGraph(), edge_key='id_x')\n",
    "\n",
    "# Retrieve edge attributes and prepare episode list and speakers\n",
    "edge_episode = nx.get_edge_attributes(G6, \"episode\") ## gets the episode of each edge\n",
    "episode_list = sorted(exam1_6['episode'].unique())\n",
    "speakers = set(exam1_6['speaker_x']).union(set(exam1_6['speaker_y']))\n",
    "\n",
    "# Initialize result list\n",
    "subgraphs_pr = []\n",
    "\n",
    "# Loop through each episode\n",
    "for episode in episode_list:\n",
    "    # Get edges relevant to the current episode\n",
    "    relevant_edges = [k for k, v in edge_episode.items() if v == episode] ## takes the key (idx) and checks to see if it is the correct episode\n",
    "    \n",
    "    if not relevant_edges:  # Skip if no edges for the episode\n",
    "        for speaker in speakers:\n",
    "            subgraphs_pr.append({\"speaker\": speaker, \"pagerank\": 0, \"outdegree\": 0, \"episode\": episode})\n",
    "        continue\n",
    "    \n",
    "    # Create subgraph for the current episode\n",
    "    subgraph = G6.edge_subgraph(relevant_edges).copy()\n",
    "    \n",
    "    # Compute PageRank and out-degree\n",
    "    pgr = nx.pagerank(subgraph) ## already a dict by default\n",
    "    ogr = dict(subgraph.out_degree()) ## returns tuples that must be converted into a dict\n",
    "    # Append results for characters with PageRank and out-degree\n",
    "    for k in subgraph.nodes:\n",
    "        subgraphs_pr.append({\"speaker\": k, \"pagerank\": pgr.get(k, 0), \"outdegree\": ogr.get(k, 0), \"episode\": episode})\n",
    "    \n",
    "    # Add missing characters with zero values\n",
    "    missing_chars = speakers - set(subgraph.nodes)\n",
    "    for k in missing_chars:\n",
    "        subgraphs_pr.append({\"speaker\": k, \"pagerank\": 0, \"outdegree\": 0, \"episode\": episode}) ## list of dictionaries\n",
    "\n",
    "df = pd.DataFrame(subgraphs_pr)\n",
    "df.head()\n",
    ";"
   ]
  },
  {
   "cell_type": "code",
   "execution_count": 9,
   "id": "6136183e",
   "metadata": {},
   "outputs": [],
   "source": [
    "### alternative to the above\n",
    "##edge_episode = nx.get_edge_attributes(G, \"episode\")\n",
    "##pisode_list = sorted(list(set(df.episode.values)))\n",
    "##speakers = set(list(df[\"speaker_x\"]) + list(df[\"speaker_y\"]))\n",
    "\n",
    "###subgraphs_pr = []\n",
    "##for episode in episode_list:\n",
    "#    relevant_edges = [k for k, v in edge_episode.items() if v == episode]\n",
    "    #subgraph = G.edge_subgraph(relevant_edges)\n",
    "    #pgr = list(nx.pagerank(subgraph).items())\n",
    "    #ogr  = {n: d for n, d in subgraph.out_degree()}\n",
    "    #other_chars = speakers - set(list(nx.pagerank(subgraph).keys()))"
   ]
  },
  {
   "cell_type": "code",
   "execution_count": 10,
   "id": "5983e353",
   "metadata": {},
   "outputs": [
    {
     "data": {
      "text/plain": [
       "0.18759937713282487"
      ]
     },
     "execution_count": 10,
     "metadata": {},
     "output_type": "execute_result"
    }
   ],
   "source": [
    "green0101 = df[(df['speaker'] == 'Rachel Green') & (df['episode']=='s01-e01')].reset_index()\n",
    "green0101.loc[0, 'pagerank'] ## create a df with only one row so obvious that green will be in the index 0"
   ]
  },
  {
   "cell_type": "code",
   "execution_count": 11,
   "id": "415199ad",
   "metadata": {},
   "outputs": [
    {
     "name": "stdout",
     "output_type": "stream",
     "text": [
      "        pagerank            outdegree          \n",
      "            mean       sem       mean       sem\n",
      "season                                         \n",
      "1       0.142339  0.008365  19.541667  1.859152\n",
      "10      0.148459  0.009616  28.611111  3.323652\n"
     ]
    }
   ],
   "source": [
    "df['season'] = df['episode'].apply(lambda x: int(x[1:3]))\n",
    "pheobe_0110 = df[(df['speaker'] == 'Phoebe Buffay')]\n",
    "pheobe_0110 = pheobe_0110[(pheobe_0110['season'] ==1)|((pheobe_0110['season']== 10)) ]\n",
    "pb = pheobe_0110.groupby('season')[['pagerank', 'outdegree']].agg([\"mean\", \"sem\"])\n",
    "print(pb)"
   ]
  },
  {
   "cell_type": "code",
   "execution_count": 12,
   "id": "2cf7467f",
   "metadata": {},
   "outputs": [
    {
     "data": {
      "text/plain": [
       "<ErrorbarContainer object of 3 artists>"
      ]
     },
     "execution_count": 12,
     "metadata": {},
     "output_type": "execute_result"
    },
    {
     "data": {
      "image/png": "[encoded data removed]",
      "text/plain": [
       "<Figure size 1000x400 with 2 Axes>"
      ]
     },
     "metadata": {},
     "output_type": "display_data"
    }
   ],
   "source": [
    "gen_df = df[(df['speaker'] == 'Rachel Green') | (df['speaker'] == 'Ross Geller')]\n",
    "\n",
    "pr = gen_df.groupby(['speaker', 'season'])['pagerank'].agg([\"mean\", \"sem\"]).reset_index()\n",
    "pr_rg1 = pr[pr['speaker'] == 'Ross Geller']\n",
    "pr_rg2 = pr[pr['speaker'] == 'Rachel Green']\n",
    "\n",
    "oc = gen_df.groupby(['speaker', 'season'])['outdegree'].agg([\"mean\", \"sem\"]).reset_index()\n",
    "\n",
    "fig, axs = plt.subplots(1, 2, figsize=(10,4), sharey=\"col\", sharex=True)\n",
    "axs = axs.T.flatten()\n",
    "## manually adding error bars is weird here because the sem is not directly recgonised for some reason\n",
    "sns.lineplot(x=\"season\", y=\"mean\", hue=\"speaker\", errorbar=('ci', 95), data=pr, \n",
    "             ax=axs[0],\n",
    "            marker=\".\", )\n",
    "axs[0].errorbar(\n",
    "    x=pr['season'], y=pr['mean'], \n",
    "    yerr=pr['sem'], fmt='none', c='gray', alpha=0.5\n",
    ") ## don't know why this bug is here mais bon\n",
    "sns.lineplot(x=\"season\", y=\"mean\", hue=\"speaker\",  data=oc, \n",
    "             ax=axs[1],\n",
    "            marker=\".\")\n",
    "axs[1].errorbar(\n",
    "    x=oc['season'], y=oc['mean'], \n",
    "    yerr=oc['sem'], fmt='none', c='gray', alpha=0.5\n",
    ") ## don't know why this bug is here mais bon\n"
   ]
  },
  {
   "cell_type": "markdown",
   "id": "94b0e5b3",
   "metadata": {},
   "source": [
    "---\n",
    "\n",
    "**1.7 —** **/True or false:/** Considering your answer in **1.6** are the following statements true or false? Justify your answer. \n",
    "\n",
    "\n",
    "A. \"In season 7, Rachel Green's episode-level PageRank and out-degree centrality are higher than Ross Geller's. This difference is statistically significant at the 0.05 significance level.\"\n",
    "\n",
    "B. \"Phoebe Buffay's out-degree grew between season 1 and season 10; this implies that other characters spoke less than her in season 10.\"\n",
    "\n",
    "C. \"Phoebe Buffay's PageRank was higher in season 10 than in season 1. This difference is statistically significant at the 0.05 significance level and suggests that the character gained importance over the course of the show.\"\n"
   ]
  },
  {
   "cell_type": "markdown",
   "id": "2f012f0f",
   "metadata": {},
   "source": [
    "A is true because their error bars do not overlap\n",
    "B is false because while it may be true, it is not necessarily true\n",
    "C true now"
   ]
  },
  {
   "cell_type": "markdown",
   "id": "84866967",
   "metadata": {},
   "source": [
    "## Part 2: The one about text similarity (40 pts)\n",
    "\n",
    "Next, you investigate how unique characters are by analyzing what they said throughout the 10 seasons."
   ]
  },
  {
   "cell_type": "markdown",
   "id": "176a69b8",
   "metadata": {},
   "source": [
    "**2.1 —** Load the dataframe `exam3.jsonl`. This dataframe is similar to `exam1.jsonl`, except:\n",
    "\n",
    "- It has an additional column called `tokens`, containing a sentence list. Each sentence is another list composed of tokens, e.g.,\n",
    "`[['There', \"'s\", 'nothing', 'to', 'tell', '!'], ['He', \"'s\", 'just', 'some', 'guy', 'I', 'work', 'with', '!']]`.\n",
    "- It has an additional column called `episode` containing a unique episode identifier.\n",
    "- It only contains utterances by Phoebe, Rachel, Ross, Joey, Monica, or Chandler (the main characters).\n",
    " \n",
    "Given this dataframe, you will create an episode-level word-frequency matrix for Chandler Bing, one of the main characters.\n",
    "\n",
    "A. Create a list $L$ containing all distinct tokens uttered by Chandler Bing throughout the 10 seasons, sorted in ascending order. Print the 10 first and last elements of the list. \n",
    "\n",
    "B. Create a matrix $X$ with $m$ rows and $n$ columns, where: $n$ is the number of tokens in the list $L$ that you just created, and $m$ is the number of episodes (236). Each position $X_{i,j}$ in this matrix should contain the number of times the character uttered the word $j$ in episode $i$. Print how many times Chandler uttered the token `joey` in the first episode of the first season, as well as the shape of the matrix $X$.\n",
    "\n",
    "C. Transform the matrix $X$ into a TF-IDF matrix $T$, combining the following formula (as seen in class):\n",
    "\n",
    "$$\\text{TF}(i,j) = \\text{number of times the $j$-th word occurs in the $i$-th episode}$$\n",
    "\n",
    "$$\\text{IDF}(j) =  \\log \\frac{\\text{number of episodes}}{\\text{number of episodes in which the $j$-th word occurs}}$$\n",
    "\n",
    "Print the value in the TF-IDF matrix corresponding to Chandler's utterance of the token `joey` in the first episode of the first season.\n",
    "\n",
    "D. **/Discuss:/** Some of the tokens (e.g., `joey`) reference other characters. How may these tokens help a classifier predict which character uttered a sentence?"
   ]
  },
  {
   "cell_type": "code",
   "execution_count": 64,
   "id": "0f6acb1d",
   "metadata": {},
   "outputs": [
    {
     "name": "stdout",
     "output_type": "stream",
     "text": [
      "First 10 tokens ['!', '!!', '!!!', '!!!!', '!!!!!', '!!!!!!!', '!..', '!...', '!?', '\"']\n",
      " Last 10 tokens ['yummy', 'yup', 'zack', 'zero', 'zip', 'zone', 'zoo', 'zorps', '{', '}']\n"
     ]
    },
    {
     "data": {
      "text/html": [
       "<div>\n",
       "<style scoped>\n",
       "    .dataframe tbody tr th:only-of-type {\n",
       "        vertical-align: middle;\n",
       "    }\n",
       "\n",
       "    .dataframe tbody tr th {\n",
       "        vertical-align: top;\n",
       "    }\n",
       "\n",
       "    .dataframe thead th {\n",
       "        text-align: right;\n",
       "    }\n",
       "</style>\n",
       "<table border=\"1\" class=\"dataframe\">\n",
       "  <thead>\n",
       "    <tr style=\"text-align: right;\">\n",
       "      <th></th>\n",
       "      <th>id</th>\n",
       "      <th>conversation_id</th>\n",
       "      <th>text</th>\n",
       "      <th>speaker</th>\n",
       "      <th>reply-to</th>\n",
       "      <th>tokens</th>\n",
       "      <th>episode</th>\n",
       "      <th>tokens_flat</th>\n",
       "    </tr>\n",
       "  </thead>\n",
       "  <tbody>\n",
       "    <tr>\n",
       "      <th>2</th>\n",
       "      <td>s01_e01_c01_u003</td>\n",
       "      <td>s01_e01_c01_u001</td>\n",
       "      <td>All right Joey, be nice. So does he have a hum...</td>\n",
       "      <td>Chandler Bing</td>\n",
       "      <td>s01_e01_c01_u002</td>\n",
       "      <td>[[all, right, joey, ,, be, nice, .], [so, does...</td>\n",
       "      <td>s01_e01</td>\n",
       "      <td>[all, right, joey, ,, be, nice, ., so, does, h...</td>\n",
       "    </tr>\n",
       "    <tr>\n",
       "      <th>6</th>\n",
       "      <td>s01_e01_c01_u008</td>\n",
       "      <td>s01_e01_c01_u001</td>\n",
       "      <td>Sounds like a date to me.</td>\n",
       "      <td>Chandler Bing</td>\n",
       "      <td>s01_e01_c01_u007</td>\n",
       "      <td>[[sounds, like, a, date, to, me, .]]</td>\n",
       "      <td>s01_e01</td>\n",
       "      <td>[sounds, like, a, date, to, me, .]</td>\n",
       "    </tr>\n",
       "    <tr>\n",
       "      <th>7</th>\n",
       "      <td>s01_e01_c01_u010</td>\n",
       "      <td>s01_e01_c01_u001</td>\n",
       "      <td>Alright, so I'm back in high school, I'm stand...</td>\n",
       "      <td>Chandler Bing</td>\n",
       "      <td>s01_e01_c01_u009</td>\n",
       "      <td>[[alright, ,, so, i, 'm, back, in, high, schoo...</td>\n",
       "      <td>s01_e01</td>\n",
       "      <td>[alright, ,, so, i, 'm, back, in, high, school...</td>\n",
       "    </tr>\n",
       "    <tr>\n",
       "      <th>8</th>\n",
       "      <td>s01_e01_c01_u012</td>\n",
       "      <td>s01_e01_c01_u001</td>\n",
       "      <td>Then I look down, and I realize there's a phon...</td>\n",
       "      <td>Chandler Bing</td>\n",
       "      <td>s01_e01_c01_u011</td>\n",
       "      <td>[[then, i, look, down, ,, and, i, realize, the...</td>\n",
       "      <td>s01_e01</td>\n",
       "      <td>[then, i, look, down, ,, and, i, realize, ther...</td>\n",
       "    </tr>\n",
       "    <tr>\n",
       "      <th>10</th>\n",
       "      <td>s01_e01_c01_u014</td>\n",
       "      <td>s01_e01_c01_u001</td>\n",
       "      <td>That's right.</td>\n",
       "      <td>Chandler Bing</td>\n",
       "      <td>s01_e01_c01_u013</td>\n",
       "      <td>[[that, 's, right, .]]</td>\n",
       "      <td>s01_e01</td>\n",
       "      <td>[that, 's, right, .]</td>\n",
       "    </tr>\n",
       "  </tbody>\n",
       "</table>\n",
       "</div>"
      ],
      "text/plain": [
       "                  id   conversation_id  \\\n",
       "2   s01_e01_c01_u003  s01_e01_c01_u001   \n",
       "6   s01_e01_c01_u008  s01_e01_c01_u001   \n",
       "7   s01_e01_c01_u010  s01_e01_c01_u001   \n",
       "8   s01_e01_c01_u012  s01_e01_c01_u001   \n",
       "10  s01_e01_c01_u014  s01_e01_c01_u001   \n",
       "\n",
       "                                                 text        speaker  \\\n",
       "2   All right Joey, be nice. So does he have a hum...  Chandler Bing   \n",
       "6                           Sounds like a date to me.  Chandler Bing   \n",
       "7   Alright, so I'm back in high school, I'm stand...  Chandler Bing   \n",
       "8   Then I look down, and I realize there's a phon...  Chandler Bing   \n",
       "10                                      That's right.  Chandler Bing   \n",
       "\n",
       "            reply-to                                             tokens  \\\n",
       "2   s01_e01_c01_u002  [[all, right, joey, ,, be, nice, .], [so, does...   \n",
       "6   s01_e01_c01_u007               [[sounds, like, a, date, to, me, .]]   \n",
       "7   s01_e01_c01_u009  [[alright, ,, so, i, 'm, back, in, high, schoo...   \n",
       "8   s01_e01_c01_u011  [[then, i, look, down, ,, and, i, realize, the...   \n",
       "10  s01_e01_c01_u013                             [[that, 's, right, .]]   \n",
       "\n",
       "    episode                                        tokens_flat  \n",
       "2   s01_e01  [all, right, joey, ,, be, nice, ., so, does, h...  \n",
       "6   s01_e01                 [sounds, like, a, date, to, me, .]  \n",
       "7   s01_e01  [alright, ,, so, i, 'm, back, in, high, school...  \n",
       "8   s01_e01  [then, i, look, down, ,, and, i, realize, ther...  \n",
       "10  s01_e01                               [that, 's, right, .]  "
      ]
     },
     "execution_count": 64,
     "metadata": {},
     "output_type": "execute_result"
    }
   ],
   "source": [
    "###### correction, much more efficient\n",
    "\n",
    "# A. Create a list L containing all distinct tokens \n",
    "df = pd.read_json(\"exam3.jsonl\", lines=True) ## loading the data\n",
    "df[\"tokens_flat\"] = df[\"tokens\"].apply(lambda xss: [x for xs in xss for x in xs])\n",
    "# xs in lambda function => x is a list \n",
    "# xss => x is a list of list \n",
    "### => function splits the list of list into a flattenend list of tokens in the form of strings\n",
    "### i.e. for every string in a list of strings in a list of list of strings x is in the list of strings\n",
    "\n",
    "# Chandler only\n",
    "dfc = df.loc[df[\"speaker\"] == \"Chandler Bing\"] ## self-explanatory\n",
    "\n",
    "# Creates token index\n",
    "token_index = [x for xs in dfc[\"tokens_flat\"] for x in xs]  # Flattens the list of lists into a single list of individual tokens (strings)\n",
    "token_index = sorted(list(set(token_index)))  # Removes duplicates and sorts the tokens alphabetically\n",
    "\n",
    "# major clarification would have been needed on their end: they wanted them in alphabetical order \n",
    "# while I tried to count them like an idiot\n",
    "\n",
    "\n",
    "print(\"First 10 tokens\", token_index[:10])\n",
    "print(\" Last 10 tokens\", token_index[-10:])\n",
    "dfc.head()"
   ]
  },
  {
   "cell_type": "code",
   "execution_count": null,
   "id": "ee15061a",
   "metadata": {},
   "outputs": [],
   "source": [
    "# B. Create a matrix $X$ with $m$ rows and $n$ columns.\n",
    "\n",
    "# Creates episode index\n",
    "episode_index = [x for x in  dfc[\"episode\"]]\n",
    "episode_index = sorted(list(set(episode_index))) ## similarly returns a list with all of the episodes sorted\n",
    "print(episode_index)\n",
    "\n",
    "# Creates matrix\n",
    "m, n = len(token_index), len(episode_index) ## je te jure qu'ils se sont trompés ici mais bon ce n'est pas particulièrement deep\n",
    "X = np.zeros((m,n))\n",
    "\n",
    "# Populates matrix\n",
    "for tokens, episode in zip(dfc[\"tokens_flat\"].values, dfc[\"episode\"].values): ## tokens returns the list previously defined\n",
    "    for token in tokens: ## iterates over every individual element of the list \n",
    "        X[token_index.index(token), episode_index.index(episode)] += 1\n",
    "## .values is not always manatory, it returns the values of each of the elements in the form of a numpy array\n",
    "\n",
    "## je m'étais fortement compliqué la vie\n",
    "\n",
    "print(\" How many times Chandler uttered the token joey in the first episode of the first season?\",\n",
    "      X[token_index.index(\"joey\"), episode_index.index(\"s01_e01\")])\n",
    "\n",
    "print(\"X shape\", X.shape)\n",
    "# C. TF-IDF\n",
    "\n",
    "# TF\n",
    "TF = X\n",
    "# IDF\n",
    "IDF = np.log(X.shape[1]/np.count_nonzero(X, axis=1))\n",
    "# TF-IDF\n",
    "TF_IDF = TF * IDF[:, None]\n",
    "\n",
    "print(\"joey on TF-IDF\", TF_IDF[token_index.index(\"joey\"), episode_index.index(\"s01_e01\")])"
   ]
  },
  {
   "cell_type": "code",
   "execution_count": 13,
   "id": "2e951338",
   "metadata": {},
   "outputs": [
    {
     "data": {
      "text/html": [
       "<div>\n",
       "<style scoped>\n",
       "    .dataframe tbody tr th:only-of-type {\n",
       "        vertical-align: middle;\n",
       "    }\n",
       "\n",
       "    .dataframe tbody tr th {\n",
       "        vertical-align: top;\n",
       "    }\n",
       "\n",
       "    .dataframe thead th {\n",
       "        text-align: right;\n",
       "    }\n",
       "</style>\n",
       "<table border=\"1\" class=\"dataframe\">\n",
       "  <thead>\n",
       "    <tr style=\"text-align: right;\">\n",
       "      <th></th>\n",
       "      <th>id</th>\n",
       "      <th>conversation_id</th>\n",
       "      <th>text</th>\n",
       "      <th>speaker</th>\n",
       "      <th>reply-to</th>\n",
       "      <th>tokens</th>\n",
       "      <th>episode</th>\n",
       "    </tr>\n",
       "  </thead>\n",
       "  <tbody>\n",
       "    <tr>\n",
       "      <th>0</th>\n",
       "      <td>s01_e01_c01_u001</td>\n",
       "      <td>s01_e01_c01_u001</td>\n",
       "      <td>There's nothing to tell! He's just some guy I ...</td>\n",
       "      <td>Monica Geller</td>\n",
       "      <td>None</td>\n",
       "      <td>[[there, 's, nothing, to, tell, !], [he, 's, j...</td>\n",
       "      <td>s01_e01</td>\n",
       "    </tr>\n",
       "    <tr>\n",
       "      <th>1</th>\n",
       "      <td>s01_e01_c01_u002</td>\n",
       "      <td>s01_e01_c01_u001</td>\n",
       "      <td>C'mon, you're going out with the guy! There's ...</td>\n",
       "      <td>Joey Tribbiani</td>\n",
       "      <td>s01_e01_c01_u001</td>\n",
       "      <td>[[c'mon, ,, you, 're, going, out, with, the, g...</td>\n",
       "      <td>s01_e01</td>\n",
       "    </tr>\n",
       "    <tr>\n",
       "      <th>2</th>\n",
       "      <td>s01_e01_c01_u003</td>\n",
       "      <td>s01_e01_c01_u001</td>\n",
       "      <td>All right Joey, be nice. So does he have a hum...</td>\n",
       "      <td>Chandler Bing</td>\n",
       "      <td>s01_e01_c01_u002</td>\n",
       "      <td>[[all, right, joey, ,, be, nice, .], [so, does...</td>\n",
       "      <td>s01_e01</td>\n",
       "    </tr>\n",
       "    <tr>\n",
       "      <th>3</th>\n",
       "      <td>s01_e01_c01_u004</td>\n",
       "      <td>s01_e01_c01_u001</td>\n",
       "      <td>Wait, does he eat chalk?</td>\n",
       "      <td>Phoebe Buffay</td>\n",
       "      <td>s01_e01_c01_u003</td>\n",
       "      <td>[[wait, ,, does, he, eat, chalk, ?]]</td>\n",
       "      <td>s01_e01</td>\n",
       "    </tr>\n",
       "    <tr>\n",
       "      <th>4</th>\n",
       "      <td>s01_e01_c01_u006</td>\n",
       "      <td>s01_e01_c01_u001</td>\n",
       "      <td>Just, 'cause, I don't want her to go through w...</td>\n",
       "      <td>Phoebe Buffay</td>\n",
       "      <td>s01_e01_c01_u005</td>\n",
       "      <td>[[just, ,, ', cause, ,, i, do, n't, want, her,...</td>\n",
       "      <td>s01_e01</td>\n",
       "    </tr>\n",
       "  </tbody>\n",
       "</table>\n",
       "</div>"
      ],
      "text/plain": [
       "                 id   conversation_id  \\\n",
       "0  s01_e01_c01_u001  s01_e01_c01_u001   \n",
       "1  s01_e01_c01_u002  s01_e01_c01_u001   \n",
       "2  s01_e01_c01_u003  s01_e01_c01_u001   \n",
       "3  s01_e01_c01_u004  s01_e01_c01_u001   \n",
       "4  s01_e01_c01_u006  s01_e01_c01_u001   \n",
       "\n",
       "                                                text         speaker  \\\n",
       "0  There's nothing to tell! He's just some guy I ...   Monica Geller   \n",
       "1  C'mon, you're going out with the guy! There's ...  Joey Tribbiani   \n",
       "2  All right Joey, be nice. So does he have a hum...   Chandler Bing   \n",
       "3                           Wait, does he eat chalk?   Phoebe Buffay   \n",
       "4  Just, 'cause, I don't want her to go through w...   Phoebe Buffay   \n",
       "\n",
       "           reply-to                                             tokens  \\\n",
       "0              None  [[there, 's, nothing, to, tell, !], [he, 's, j...   \n",
       "1  s01_e01_c01_u001  [[c'mon, ,, you, 're, going, out, with, the, g...   \n",
       "2  s01_e01_c01_u002  [[all, right, joey, ,, be, nice, .], [so, does...   \n",
       "3  s01_e01_c01_u003               [[wait, ,, does, he, eat, chalk, ?]]   \n",
       "4  s01_e01_c01_u005  [[just, ,, ', cause, ,, i, do, n't, want, her,...   \n",
       "\n",
       "   episode  \n",
       "0  s01_e01  \n",
       "1  s01_e01  \n",
       "2  s01_e01  \n",
       "3  s01_e01  \n",
       "4  s01_e01  "
      ]
     },
     "execution_count": 13,
     "metadata": {},
     "output_type": "execute_result"
    }
   ],
   "source": [
    "### my work\n",
    "\n",
    "## The dataframe is loaded\n",
    "exam3_df = pd.read_json(\"exam3.jsonl\", lines = True)\n",
    "exam3_df.head()"
   ]
  },
  {
   "cell_type": "code",
   "execution_count": 27,
   "id": "02509e9f",
   "metadata": {},
   "outputs": [
    {
     "name": "stderr",
     "output_type": "stream",
     "text": [
      "C:\\Users\\Karl Abdelnour\\AppData\\Local\\Temp\\ipykernel_24544\\1262452083.py:4: SettingWithCopyWarning: \n",
      "A value is trying to be set on a copy of a slice from a DataFrame.\n",
      "Try using .loc[row_indexer,col_indexer] = value instead\n",
      "\n",
      "See the caveats in the documentation: https://pandas.pydata.org/pandas-docs/stable/user_guide/indexing.html#returning-a-view-versus-a-copy\n",
      "  bingdf['tokens_sep'] = bingdf['tokens'].apply(lambda x: ' '.join([str(s) for s in x]));\n",
      "C:\\Users\\Karl Abdelnour\\AppData\\Local\\Temp\\ipykernel_24544\\1262452083.py:5: SettingWithCopyWarning: \n",
      "A value is trying to be set on a copy of a slice from a DataFrame.\n",
      "Try using .loc[row_indexer,col_indexer] = value instead\n",
      "\n",
      "See the caveats in the documentation: https://pandas.pydata.org/pandas-docs/stable/user_guide/indexing.html#returning-a-view-versus-a-copy\n",
      "  bingdf['tokens_sep'] = bingdf['tokens_sep'].apply(lambda x: x.replace('[', ''))\n",
      "C:\\Users\\Karl Abdelnour\\AppData\\Local\\Temp\\ipykernel_24544\\1262452083.py:6: SettingWithCopyWarning: \n",
      "A value is trying to be set on a copy of a slice from a DataFrame.\n",
      "Try using .loc[row_indexer,col_indexer] = value instead\n",
      "\n",
      "See the caveats in the documentation: https://pandas.pydata.org/pandas-docs/stable/user_guide/indexing.html#returning-a-view-versus-a-copy\n",
      "  bingdf['tokens_sep'] = bingdf['tokens_sep'].apply(lambda x: x.replace(']', ''))\n",
      "C:\\Users\\Karl Abdelnour\\AppData\\Local\\Temp\\ipykernel_24544\\1262452083.py:7: SettingWithCopyWarning: \n",
      "A value is trying to be set on a copy of a slice from a DataFrame.\n",
      "Try using .loc[row_indexer,col_indexer] = value instead\n",
      "\n",
      "See the caveats in the documentation: https://pandas.pydata.org/pandas-docs/stable/user_guide/indexing.html#returning-a-view-versus-a-copy\n",
      "  bingdf['tokens_sep'] = bingdf['tokens_sep'].apply(lambda x: x.replace(',', ''))\n",
      "C:\\Users\\Karl Abdelnour\\AppData\\Local\\Temp\\ipykernel_24544\\1262452083.py:8: SettingWithCopyWarning: \n",
      "A value is trying to be set on a copy of a slice from a DataFrame.\n",
      "Try using .loc[row_indexer,col_indexer] = value instead\n",
      "\n",
      "See the caveats in the documentation: https://pandas.pydata.org/pandas-docs/stable/user_guide/indexing.html#returning-a-view-versus-a-copy\n",
      "  bingdf['tokens_sep'] = bingdf['tokens_sep'].apply(lambda x: x.replace(\"'\", ''))\n",
      "C:\\Users\\Karl Abdelnour\\AppData\\Local\\Temp\\ipykernel_24544\\1262452083.py:9: SettingWithCopyWarning: \n",
      "A value is trying to be set on a copy of a slice from a DataFrame.\n",
      "Try using .loc[row_indexer,col_indexer] = value instead\n",
      "\n",
      "See the caveats in the documentation: https://pandas.pydata.org/pandas-docs/stable/user_guide/indexing.html#returning-a-view-versus-a-copy\n",
      "  bingdf['tokens_sep'] = bingdf['tokens_sep'].apply(lambda x: x.replace('\"', ''))\n",
      "C:\\Users\\Karl Abdelnour\\AppData\\Local\\Temp\\ipykernel_24544\\1262452083.py:13: FutureWarning: The behavior of array concatenation with empty entries is deprecated. In a future version, this will no longer exclude empty items when determining the result dtype. To retain the old behavior, exclude the empty entries before the concat operation.\n",
      "  token_counts = pd.concat([token_counts, word_counts], axis=0)\n"
     ]
    },
    {
     "data": {
      "text/plain": [
       "''"
      ]
     },
     "execution_count": 27,
     "metadata": {},
     "output_type": "execute_result"
    }
   ],
   "source": [
    "#2.1.A\n",
    "bingdf = exam3_df[exam3_df['speaker'] == 'Chandler Bing']\n",
    "\n",
    "bingdf['tokens_sep'] = bingdf['tokens'].apply(lambda x: ' '.join([str(s) for s in x]));\n",
    "bingdf['tokens_sep'] = bingdf['tokens_sep'].apply(lambda x: x.replace('[', ''))\n",
    "bingdf['tokens_sep'] = bingdf['tokens_sep'].apply(lambda x: x.replace(']', ''))\n",
    "bingdf['tokens_sep'] = bingdf['tokens_sep'].apply(lambda x: x.replace(',', ''))\n",
    "bingdf['tokens_sep'] = bingdf['tokens_sep'].apply(lambda x: x.replace(\"'\", ''))\n",
    "bingdf['tokens_sep'] = bingdf['tokens_sep'].apply(lambda x: x.replace('\"', ''))\n",
    "token_counts=pd.Series()\n",
    "for _, row in bingdf.iterrows():\n",
    "    word_counts = pd.Series(row['tokens_sep'].split()).value_counts()\n",
    "    token_counts = pd.concat([token_counts, word_counts], axis=0)\n",
    ";"
   ]
  },
  {
   "cell_type": "code",
   "execution_count": 28,
   "id": "f8894d0f",
   "metadata": {},
   "outputs": [],
   "source": [
    "token_counts_df = pd.DataFrame(token_counts).reset_index()\n",
    "#token_counts_df['index'] = token_counts_df['index'].apply(lambda x: x.replace('[', ''))\n",
    "#token_counts_df['index'] = token_counts_df['index'].apply(lambda x: x.replace(']', ''))\n",
    "#token_counts_df['index'] = token_counts_df['index'].apply(lambda x: x.replace(',', ''))\n",
    "token_counts_df.columns=['token', 'count']\n",
    "token_counts_df = token_counts_df.groupby('token')['count'].sum().reset_index()\n",
    "token_counts_df.columns=['token', 'count']"
   ]
  },
  {
   "cell_type": "code",
   "execution_count": 29,
   "id": "cf5a28ea",
   "metadata": {},
   "outputs": [
    {
     "name": "stderr",
     "output_type": "stream",
     "text": [
      "C:\\Users\\Karl Abdelnour\\AppData\\Local\\Temp\\ipykernel_24544\\2339996115.py:10: SettingWithCopyWarning: \n",
      "A value is trying to be set on a copy of a slice from a DataFrame.\n",
      "Try using .loc[row_indexer,col_indexer] = value instead\n",
      "\n",
      "See the caveats in the documentation: https://pandas.pydata.org/pandas-docs/stable/user_guide/indexing.html#returning-a-view-versus-a-copy\n",
      "  bingdf['ep_n'] = bingdf['episode'].apply(lambda x: episode_dict[x])\n"
     ]
    }
   ],
   "source": [
    "#2.1.B\n",
    "m = 236\n",
    "n = token_counts_df.shape[0]\n",
    "X = np.zeros((m, n))\n",
    "\n",
    "numbered_ep = bingdf['episode'].unique()\n",
    "episode_dict = {key: [] for key in numbered_ep}\n",
    "for i in range(len(numbered_ep)):\n",
    "    episode_dict[numbered_ep[i]] = i+1\n",
    "bingdf['ep_n'] = bingdf['episode'].apply(lambda x: episode_dict[x])"
   ]
  },
  {
   "cell_type": "code",
   "execution_count": 30,
   "id": "44053ce0",
   "metadata": {},
   "outputs": [
    {
     "data": {
      "text/html": [
       "<div>\n",
       "<style scoped>\n",
       "    .dataframe tbody tr th:only-of-type {\n",
       "        vertical-align: middle;\n",
       "    }\n",
       "\n",
       "    .dataframe tbody tr th {\n",
       "        vertical-align: top;\n",
       "    }\n",
       "\n",
       "    .dataframe thead th {\n",
       "        text-align: right;\n",
       "    }\n",
       "</style>\n",
       "<table border=\"1\" class=\"dataframe\">\n",
       "  <thead>\n",
       "    <tr style=\"text-align: right;\">\n",
       "      <th></th>\n",
       "      <th>token</th>\n",
       "      <th>count</th>\n",
       "    </tr>\n",
       "  </thead>\n",
       "  <tbody>\n",
       "    <tr>\n",
       "      <th>1</th>\n",
       "      <td>!</td>\n",
       "      <td>3161</td>\n",
       "    </tr>\n",
       "    <tr>\n",
       "      <th>2</th>\n",
       "      <td>!!</td>\n",
       "      <td>172</td>\n",
       "    </tr>\n",
       "    <tr>\n",
       "      <th>3</th>\n",
       "      <td>!!!</td>\n",
       "      <td>30</td>\n",
       "    </tr>\n",
       "    <tr>\n",
       "      <th>4</th>\n",
       "      <td>!!!!</td>\n",
       "      <td>5</td>\n",
       "    </tr>\n",
       "    <tr>\n",
       "      <th>5</th>\n",
       "      <td>!!!!!</td>\n",
       "      <td>1</td>\n",
       "    </tr>\n",
       "  </tbody>\n",
       "</table>\n",
       "</div>"
      ],
      "text/plain": [
       "   token  count\n",
       "1      !   3161\n",
       "2     !!    172\n",
       "3    !!!     30\n",
       "4   !!!!      5\n",
       "5  !!!!!      1"
      ]
     },
     "execution_count": 30,
     "metadata": {},
     "output_type": "execute_result"
    }
   ],
   "source": [
    "token_counts_df.index = pd.RangeIndex(start= 1, stop =len(token_counts_df)+1)\n",
    "token_counts_df.head()"
   ]
  },
  {
   "cell_type": "code",
   "execution_count": 53,
   "id": "e3a0af48",
   "metadata": {},
   "outputs": [
    {
     "data": {
      "text/html": [
       "<div>\n",
       "<style scoped>\n",
       "    .dataframe tbody tr th:only-of-type {\n",
       "        vertical-align: middle;\n",
       "    }\n",
       "\n",
       "    .dataframe tbody tr th {\n",
       "        vertical-align: top;\n",
       "    }\n",
       "\n",
       "    .dataframe thead th {\n",
       "        text-align: right;\n",
       "    }\n",
       "</style>\n",
       "<table border=\"1\" class=\"dataframe\">\n",
       "  <thead>\n",
       "    <tr style=\"text-align: right;\">\n",
       "      <th></th>\n",
       "      <th>ep_n</th>\n",
       "      <th>tokens</th>\n",
       "    </tr>\n",
       "  </thead>\n",
       "  <tbody>\n",
       "    <tr>\n",
       "      <th>0</th>\n",
       "      <td>1</td>\n",
       "      <td>all right joey  be nice . so does he have a hu...</td>\n",
       "    </tr>\n",
       "    <tr>\n",
       "      <th>1</th>\n",
       "      <td>2</td>\n",
       "      <td>yeah  i think for us  kissing is pretty much l...</td>\n",
       "    </tr>\n",
       "    <tr>\n",
       "      <th>2</th>\n",
       "      <td>3</td>\n",
       "      <td>or  you re such a nice guy  means  i m gon na ...</td>\n",
       "    </tr>\n",
       "    <tr>\n",
       "      <th>3</th>\n",
       "      <td>4</td>\n",
       "      <td>uh  if i were omnipotent for a day  i d .. mak...</td>\n",
       "    </tr>\n",
       "    <tr>\n",
       "      <th>4</th>\n",
       "      <td>5</td>\n",
       "      <td>we can ? all right  i m tryin  that .so  satur...</td>\n",
       "    </tr>\n",
       "  </tbody>\n",
       "</table>\n",
       "</div>"
      ],
      "text/plain": [
       "   ep_n                                             tokens\n",
       "0     1  all right joey  be nice . so does he have a hu...\n",
       "1     2  yeah  i think for us  kissing is pretty much l...\n",
       "2     3  or  you re such a nice guy  means  i m gon na ...\n",
       "3     4  uh  if i were omnipotent for a day  i d .. mak...\n",
       "4     5  we can ? all right  i m tryin  that .so  satur..."
      ]
     },
     "execution_count": 53,
     "metadata": {},
     "output_type": "execute_result"
    }
   ],
   "source": [
    "bingdf_ep = bingdf.groupby('ep_n')['tokens_sep'].sum().reset_index()\n",
    "bingdf_ep.columns=['ep_n', 'tokens']\n",
    "bingdf_ep['tokens'].astype(str)\n",
    "bingdf_ep.head()"
   ]
  },
  {
   "cell_type": "code",
   "execution_count": null,
   "id": "00734bc0",
   "metadata": {},
   "outputs": [],
   "source": [
    "for index, row in token_counts_df.iterrows():\n",
    "    for index2, row2 in bingdf_ep.iterrows():\n",
    "        strings = row2['tokens'].split()\n",
    "        if row['token'] in strings:\n",
    "            X[index2, index] +=1"
   ]
  },
  {
   "cell_type": "code",
   "execution_count": 50,
   "id": "d5d62bf4",
   "metadata": {},
   "outputs": [],
   "source": [
    "for tokens, episode in zip(bingdf_ep[\"tokens\"], bingdf_ep[\"ep_n\"]):\n",
    "    for token in tokens:\n",
    "        if token in token_counts_df['token']:  # Check if token exists in the index\n",
    "            X[episode, token_counts_df.index.get_loc(token)] += 1"
   ]
  },
  {
   "cell_type": "code",
   "execution_count": 51,
   "id": "a3402b2d",
   "metadata": {},
   "outputs": [
    {
     "name": "stdout",
     "output_type": "stream",
     "text": [
      "[[0. 0. 0. ... 0. 0. 0.]\n",
      " [0. 0. 0. ... 0. 0. 0.]\n",
      " [0. 0. 0. ... 0. 0. 0.]\n",
      " ...\n",
      " [0. 0. 0. ... 0. 0. 0.]\n",
      " [0. 0. 0. ... 0. 0. 0.]\n",
      " [0. 0. 0. ... 0. 0. 0.]]\n"
     ]
    }
   ],
   "source": [
    "print(X)"
   ]
  },
  {
   "cell_type": "code",
   "execution_count": 52,
   "id": "ca895de6",
   "metadata": {},
   "outputs": [
    {
     "name": "stdout",
     "output_type": "stream",
     "text": [
      "0.0\n",
      "(236, 6051)\n"
     ]
    }
   ],
   "source": [
    "joey = token_counts_df[token_counts_df['token'] == \"'joey'\"].index\n",
    "print(X[1, 2903])\n",
    "print(X.shape)"
   ]
  },
  {
   "cell_type": "markdown",
   "id": "9b691ae5",
   "metadata": {},
   "source": [
    "---\n",
    "For the remainder of the task, you will use the TF-IDF matrix that we compute below. Note:\n",
    "- This matrix was calculated in a slightly different way: it considers only the 1000 tokens with the highest term frequency.\n",
    "- We provide three useful variables below (`X`, `y`, and `df_tfidf`). \n",
    "    - `X` is a matrix containing the TF-IDF values for the top 1000 tokens, where each row corresponds to a character in an episode. \n",
    "    - `y` indicates which character is responsible for the utterance. Each character has a corresponding number, e.g., 2 for Monica Geller; see dictionary below. \n",
    "    - `df_tfidf` is a dataframe combining `X` with other episode and utterance-level metadata."
   ]
  },
  {
   "cell_type": "code",
   "execution_count": 22,
   "id": "6e0aebac",
   "metadata": {},
   "outputs": [
    {
     "name": "stdout",
     "output_type": "stream",
     "text": [
      "X shape (51312, 1000)\n",
      "y shape (51312,)\n"
     ]
    },
    {
     "data": {
      "text/html": [
       "<div>\n",
       "<style scoped>\n",
       "    .dataframe tbody tr th:only-of-type {\n",
       "        vertical-align: middle;\n",
       "    }\n",
       "\n",
       "    .dataframe tbody tr th {\n",
       "        vertical-align: top;\n",
       "    }\n",
       "\n",
       "    .dataframe thead th {\n",
       "        text-align: right;\n",
       "    }\n",
       "</style>\n",
       "<table border=\"1\" class=\"dataframe\">\n",
       "  <thead>\n",
       "    <tr style=\"text-align: right;\">\n",
       "      <th></th>\n",
       "      <th>speaker</th>\n",
       "      <th>episode</th>\n",
       "      <th>0</th>\n",
       "      <th>1</th>\n",
       "      <th>2</th>\n",
       "      <th>3</th>\n",
       "      <th>4</th>\n",
       "      <th>5</th>\n",
       "      <th>6</th>\n",
       "      <th>7</th>\n",
       "      <th>...</th>\n",
       "      <th>990</th>\n",
       "      <th>991</th>\n",
       "      <th>992</th>\n",
       "      <th>993</th>\n",
       "      <th>994</th>\n",
       "      <th>995</th>\n",
       "      <th>996</th>\n",
       "      <th>997</th>\n",
       "      <th>998</th>\n",
       "      <th>999</th>\n",
       "    </tr>\n",
       "  </thead>\n",
       "  <tbody>\n",
       "    <tr>\n",
       "      <th>0</th>\n",
       "      <td>Monica Geller</td>\n",
       "      <td>s01_e01</td>\n",
       "      <td>0.0</td>\n",
       "      <td>0.0</td>\n",
       "      <td>0.0</td>\n",
       "      <td>0.0</td>\n",
       "      <td>0.0</td>\n",
       "      <td>0.0</td>\n",
       "      <td>0.0</td>\n",
       "      <td>0.0</td>\n",
       "      <td>...</td>\n",
       "      <td>0.0</td>\n",
       "      <td>0.0</td>\n",
       "      <td>0.0</td>\n",
       "      <td>0.0</td>\n",
       "      <td>0.0</td>\n",
       "      <td>0.0</td>\n",
       "      <td>0.0</td>\n",
       "      <td>0.0</td>\n",
       "      <td>0.0</td>\n",
       "      <td>0.0</td>\n",
       "    </tr>\n",
       "    <tr>\n",
       "      <th>1</th>\n",
       "      <td>Joey Tribbiani</td>\n",
       "      <td>s01_e01</td>\n",
       "      <td>0.0</td>\n",
       "      <td>0.0</td>\n",
       "      <td>0.0</td>\n",
       "      <td>0.0</td>\n",
       "      <td>0.0</td>\n",
       "      <td>0.0</td>\n",
       "      <td>0.0</td>\n",
       "      <td>0.0</td>\n",
       "      <td>...</td>\n",
       "      <td>0.0</td>\n",
       "      <td>0.0</td>\n",
       "      <td>0.0</td>\n",
       "      <td>0.0</td>\n",
       "      <td>0.0</td>\n",
       "      <td>0.0</td>\n",
       "      <td>0.0</td>\n",
       "      <td>0.0</td>\n",
       "      <td>0.0</td>\n",
       "      <td>0.0</td>\n",
       "    </tr>\n",
       "    <tr>\n",
       "      <th>2</th>\n",
       "      <td>Chandler Bing</td>\n",
       "      <td>s01_e01</td>\n",
       "      <td>0.0</td>\n",
       "      <td>0.0</td>\n",
       "      <td>0.0</td>\n",
       "      <td>0.0</td>\n",
       "      <td>0.0</td>\n",
       "      <td>0.0</td>\n",
       "      <td>0.0</td>\n",
       "      <td>0.0</td>\n",
       "      <td>...</td>\n",
       "      <td>0.0</td>\n",
       "      <td>0.0</td>\n",
       "      <td>0.0</td>\n",
       "      <td>0.0</td>\n",
       "      <td>0.0</td>\n",
       "      <td>0.0</td>\n",
       "      <td>0.0</td>\n",
       "      <td>0.0</td>\n",
       "      <td>0.0</td>\n",
       "      <td>0.0</td>\n",
       "    </tr>\n",
       "  </tbody>\n",
       "</table>\n",
       "<p>3 rows × 1002 columns</p>\n",
       "</div>"
      ],
      "text/plain": [
       "          speaker  episode    0    1    2    3    4    5    6    7  ...  990  \\\n",
       "0   Monica Geller  s01_e01  0.0  0.0  0.0  0.0  0.0  0.0  0.0  0.0  ...  0.0   \n",
       "1  Joey Tribbiani  s01_e01  0.0  0.0  0.0  0.0  0.0  0.0  0.0  0.0  ...  0.0   \n",
       "2   Chandler Bing  s01_e01  0.0  0.0  0.0  0.0  0.0  0.0  0.0  0.0  ...  0.0   \n",
       "\n",
       "   991  992  993  994  995  996  997  998  999  \n",
       "0  0.0  0.0  0.0  0.0  0.0  0.0  0.0  0.0  0.0  \n",
       "1  0.0  0.0  0.0  0.0  0.0  0.0  0.0  0.0  0.0  \n",
       "2  0.0  0.0  0.0  0.0  0.0  0.0  0.0  0.0  0.0  \n",
       "\n",
       "[3 rows x 1002 columns]"
      ]
     },
     "execution_count": 22,
     "metadata": {},
     "output_type": "execute_result"
    }
   ],
   "source": [
    "from sklearn.feature_extraction.text import TfidfVectorizer\n",
    "df_tfidf = pd.read_json(\"exam3.jsonl\", lines=True)[[\"speaker\", \"episode\", \"text\"]]\n",
    "\n",
    "vectorizer = TfidfVectorizer(max_features=1000, stop_words=\"english\")\n",
    "X = vectorizer.fit_transform(df_tfidf.text).toarray()\n",
    "print(\"X shape\", X.shape)\n",
    "\n",
    "\n",
    "map_char_to_int = {\n",
    "'Chandler Bing': 0,\n",
    "'Joey Tribbiani': 1,\n",
    "'Monica Geller': 2,\n",
    "'Phoebe Buffay': 3,\n",
    "'Rachel Green': 4,\n",
    "'Ross Geller': 5\n",
    "}\n",
    "\n",
    "\n",
    "y = df_tfidf.speaker.apply(lambda x: map_char_to_int[x]).values\n",
    "print(\"y shape\", y.shape)\n",
    "\n",
    "df_tfidf = pd.concat([df_tfidf[[\"speaker\", \"episode\"]],  pd.DataFrame(X)], axis=1)\n",
    "\n",
    "df_tfidf.head(3)"
   ]
  },
  {
   "cell_type": "markdown",
   "id": "15f01045",
   "metadata": {},
   "source": [
    "--- "
   ]
  },
  {
   "cell_type": "markdown",
   "id": "76d6b6f1",
   "metadata": {},
   "source": [
    "**2.2 —** To compare characters, carry out a classification task. Train a decision tree classifier to predict which main character uttered a sentence..\n",
    "\n",
    "A. Split the dataset into training and test sets using sklearn `sklearn.model_selection.train_test_split` using parameters `test_size=0.3` and `random_state=42`, and using the default values for all other parameters.\n",
    "\n",
    "B. Train a decision tree classifier (`sklearn.tree.DecisionTreeClassifier`) using `random_state=42`, leaving all other parameters as their default.\n",
    "\n",
    "C. Compute the accuracy of your classifier and of a random baseline, i.e., a classifier that predicts a character uniformly at random. **/Discuss:/** Compare the two accuracies.\n",
    "\n",
    "\n",
    "D. Compute the confusion matrix of your classifier using `sklearn.metrics.confusion_matrix`. Normalize the confusion matrix such that all cells sum to 1.\n",
    "\n",
    "E. Plot an appropriate graphical representation of the confusion matrix.\n",
    "\n",
    "F. **/Discuss:/** Analyzing the confusion matrix, discuss:\n",
    "   - Which character is most distinct in the way they talk?\n",
    "   - Which two characters are the most similar in the way they talk?\n",
    "   - Which two characters are the least similar in the way they talk?\n"
   ]
  },
  {
   "cell_type": "code",
   "execution_count": 23,
   "id": "8a54b18f",
   "metadata": {},
   "outputs": [],
   "source": [
    "from sklearn.tree import DecisionTreeClassifier\n",
    "from sklearn.model_selection import train_test_split\n",
    "from sklearn.metrics import silhouette_score, accuracy_score, recall_score, precision_score, f1_score, confusion_matrix"
   ]
  },
  {
   "cell_type": "code",
   "execution_count": 24,
   "id": "f5e4937e",
   "metadata": {},
   "outputs": [],
   "source": [
    "# 2.2.A\n",
    "#X_train, X_test, y_train, y_test = train_test_split(X, y, test_size=0.3, random_state=42)\n",
    "#DT1 = DecisionTreeClassifier(random_state=42)\n",
    "#DT1.fit(X_train, y_train) \n",
    "\n",
    "#y_pred = DT1.predict(y_test)\n",
    "#DT1_accuracy = accuracy_score(y_test, y_pred) ## is the accuracy what they mean by evaluate? or just fit it?\n",
    "#DT1_depth = DT1.get_depth()"
   ]
  },
  {
   "cell_type": "code",
   "execution_count": 25,
   "id": "8291858d",
   "metadata": {},
   "outputs": [],
   "source": [
    "## if DT1_accuracy>1/6 (i.e. random because there are 6 friends => good)"
   ]
  },
  {
   "cell_type": "code",
   "execution_count": null,
   "id": "43045f7a",
   "metadata": {},
   "outputs": [],
   "source": [
    "df_confusion = pd.DataFrame(confusion_matrix(y_test, y_pred))\n",
    "map_int_to_char = {v: k for k, v in map_char_to_int.items()}\n",
    "df_confusion.index = [map_int_to_char[x] for x in df_confusion.index]\n",
    "df_confusion.index.name = \"True\"\n",
    "df_confusion.columns =  [map_int_to_char[x] for x in df_confusion.columns]\n",
    "df_confusion.T.index.name = \"Predicted\"\n",
    "df_confusion = df_confusion / df_confusion.sum(axis=0).sum()\n",
    "display(df_confusion)\n",
    "\n",
    "# E.  Plot an appropriate graphical representation of the confusion matrix.\n",
    "sns.heatmap(df_confusion, annot=True, fmt=\".3f\")\n",
    "\n",
    "## employ these for this task \n",
    "## do not run as it will return an error"
   ]
  },
  {
   "cell_type": "markdown",
   "id": "1a158a88",
   "metadata": {},
   "source": [
    "---\n",
    "\n",
    "**2.3 —** **/Discuss:/** Last, you discuss the results obtained in **2.2** with a friend, who asks you some thought-provoking questions.\n",
    "\n",
    "A. Your friend proposes that you should create a measure of similarity between two characters in a given episode in a more direct way than what you've done in **2.2**.  Propose (but do not implement) said similarity metric.\n",
    "\n",
    "B. Your friend also suggests that your analysis might not truly capture how two characters differ. According to her, if people are in the same conversation, they might speak similarly simply because they are in the same social context. Propose (but do not implement) a way of creating a dataset where this confounder does not exist.\n",
    "\n",
    "C. Last, your friend complains about how you present your (normalized) confusion matrix. According to her, from reading the cells alone, it is unclear if the fraction of occurrences is higher or lower than what a random classifier would yield. Propose (but do not implement) a way of modifying the confusion matrix to address her concern.\n"
   ]
  },
  {
   "cell_type": "code",
   "execution_count": null,
   "id": "9d4253a5",
   "metadata": {},
   "outputs": [],
   "source": [
    "####"
   ]
  },
  {
   "cell_type": "markdown",
   "id": "25c65d90",
   "metadata": {},
   "source": [
    "---"
   ]
  }
 ],
 "metadata": {
  "kernelspec": {
   "display_name": "ada_exam_2024",
   "language": "python",
   "name": "python3"
  },
  "language_info": {
   "codemirror_mode": {
    "name": "ipython",
    "version": 3
   },
   "file_extension": ".py",
   "mimetype": "text/x-python",
   "name": "python",
   "nbconvert_exporter": "python",
   "pygments_lexer": "ipython3",
   "version": "3.10.16"
  }
 },
 "nbformat": 4,
 "nbformat_minor": 5
}
