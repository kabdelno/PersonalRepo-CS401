{
 "cells": [
  {
   "cell_type": "markdown",
   "id": "09e9a536",
   "metadata": {},
   "source": [
    "## ADA final exam (Fall 2022)\n",
    "\n",
    "This exam consists of 3 tasks. Tasks 2 and 3 are independent of each other (although conceptually related).\n"
   ]
  },
  {
   "cell_type": "markdown",
   "id": "68507ec4",
   "metadata": {},
   "source": [
    "## Dataset\n",
    "\n",
    "For a Wikipedia editor to become an administrator, a so-called “request for adminship” ([RfA](https://en.wikipedia.org/wiki/Wikipedia:Requests_for_adminship)) must be submitted by either the candidate or another community member. Subsequently, any Wikipedia member may cast a supporting or opposing vote. Here we provide a simplified version of the Wikipedia RfA dataset, containing all votes from 2003 through 2012.\n",
    "\n",
    "###  Data format\n",
    "\n",
    "|        |   SRC |   TGT |   VOT |   RES |   YEA | DAT                 | TXT                                                                                                                                                                                               |\n",
    "|-------:|------:|------:|------:|------:|------:|:--------------------|:--------------------------------------------------------------------------------------------------------------------------------------------------------------------------------------------------|\n",
    "|  39054 |  3444 | 10170 |     1 |     1 |  2009 | 2009-07-01 17:50:00 | '''Support''' - Best of luck. &nbsp;                                                                                                                                                              |\n",
    "| 159680 |   722 |  9634 |    -1 |    -1 |  2006 | 2006-12-15 07:28:00 | '''Oppose''' Not even 2000 edits.                                                                                                                                                                 |\n",
    "| 173438 |  4194 |  5524 |     1 |     1 |  2005 | 2005-03-18 19:22:00 | Ohhh, you're Carrp!  In that case, '''Support'''.                                                                                                                                                 |\n",
    "|  60627 |  4855 |  9436 |     1 |     1 |  2008 | 2008-12-18 23:26:00 | '''Support''' via thoughtful answer to my question that demonstrates this editor has clue.                                                 |\n",
    "| 194809 |  7687 |   908 |     1 |     1 |  2004 | 2004-09-25 05:21:00 | Nicholas is very good in English. Also, he got '''exceptional''' patience to explain petty obvious facts in talk page to convince ignorants. Let the world be benefitted more out of his work. -- |\n",
    "\n",
    "\n",
    "- SRC: the user name of the source of the vote, i.e., of the user who cast the vote.\n",
    "- TGT: the user name of the target of the vote, i.e., of the user running for election.\n",
    "- VOT: the source's vote on the target (-1 = oppose; 1 = support).\n",
    "- RES: the outcome of the election (-1 = target was rejected as admin; 1 = target was accepted). **(We will not use this  column in this exam.)**\n",
    "- YEA: the year of the RfA.\n",
    "- DAT: the date and time of this vote. **(We will not use this column in this exam.)**\n",
    "- TXT: the comment written by the source. **(We will not use this column in this exam.)**\n",
    "\n",
    "---\n"
   ]
  },
  {
   "cell_type": "markdown",
   "id": "4a4a661c",
   "metadata": {},
   "source": [
    "## Structural balance theory\n",
    "\n",
    "**Structural balance theory** affirms that social networks tend to be organized so as to avoid conflictual situations, e.g., if a great friend of yours hates someone, you will likely not befriend that person.\n",
    "\n",
    "The theory can be operationalized by looking at _triangles_ in an undirected _signed graph_ capturing person-to-person relationships, where a _signed graph_ is a  graph in which each edge is associated with a positive or negative sign, and a _triangle_ is a set of three edges ($\\langle u,v \\rangle$, $\\langle v,w\\rangle$, $\\langle u,w\\rangle$) that fully connect three distinct nodes ($u, v, w$).\n",
    "\n",
    "\n",
    "\n",
    "_Triangles_ in an undirected signed graph can be in 4 _configurations_:\n",
    "all positive edges ($\\{+,+,+\\}$); \n",
    "all negative edges ($\\{-,-,-\\}$); \n",
    "two positive edges and one negative edge ($\\{+,+,-\\}$);\n",
    "one positive edge and two negative edges ($\\{+,-,-\\}$).\n",
    "\n",
    "Structural balance theory posits that social networks tend to favor triangle configurations with an even number of negative signs (i.e., $\\{+,+,+\\}$ and $\\{+,-,-\\}$), which can be understood as being “balanced” by avoiding conflictual situations. Intuitively, $\\{+,+,+\\}$ could be tagged as “The friend of my friend is my friend”, and $\\{+,-,-\\}$ as “The enemy of my enemy is my friend”, “The friend of my enemy is my enemy”, or “The enemy of my friend is my enemy”. On the contrary, triangle configurations with an odd number of negative signs (i.e., $\\{+,+,-\\}$ and $\\{-,-,-\\}$) are unstable (“unbalanced”) according to structural balance theory and will thus occur less frequently in social networks. For instance, me being friends with two mutual enemies ($\\{+,+,-\\}$) would lead to tension that could be resolved if the two enemies became friends or if I took sides and ended my friendship with one of the two. Similarly, two among three mutual enemies ($\\{-,-,-\\}$) would have the incentive to form an alliance to “gang up” against the third.\n",
    "\n",
    "Some social scientists have argued that three mutual enemies ($\\{-,-,-\\}$) is not necessarily a triangle configuration that social networks tend to avoid. This gives rise to **weak structural balance theory**, which only posits that social networks tend to avoid the “unbalanced” triangle configuration $\\{+,+,-\\}$.\n",
    "\n",
    "In a nutshell,\n",
    "- structural balance theory\n",
    "  - considers $\\{+,+,+\\}$, $\\{+,-,-\\}$ as balanced,\n",
    "  - and $\\{+,+,-\\}$, $\\{-,-,-\\}$ as unbalanced;\n",
    "- weak structural balance theory\n",
    "  - considers $\\{+,+,+\\}$, $\\{+,-,-\\}$, $\\{-,-,-\\}$ as balanced,\n",
    "  - and $\\{+,+,-\\}$ as unbalanced.\n",
    "\n"
   ]
  },
  {
   "cell_type": "markdown",
   "id": "d5f337c9",
   "metadata": {},
   "source": [
    "### Task 1: Preliminaries\n",
    "\n",
    "As a good data scientist, you first load the data and explore it.\n",
    "\n",
    "**1.1**\n",
    "Load the csv file `wiki-RfA.csv.gz` in a pandas dataframe. Calculate the number of distinct RfAs and the average number of votes per RfA.\n",
    "- **Hint:** Throughout this question, assume that each RfA is uniquely determined by the column `TGT` and each vote is uniquely determined by the combination of `SRC` and `TGT`."
   ]
  },
  {
   "cell_type": "code",
   "execution_count": 2,
   "id": "ff2e92a5",
   "metadata": {},
   "outputs": [
    {
     "data": {
      "text/html": [
       "<div>\n",
       "<style scoped>\n",
       "    .dataframe tbody tr th:only-of-type {\n",
       "        vertical-align: middle;\n",
       "    }\n",
       "\n",
       "    .dataframe tbody tr th {\n",
       "        vertical-align: top;\n",
       "    }\n",
       "\n",
       "    .dataframe thead th {\n",
       "        text-align: right;\n",
       "    }\n",
       "</style>\n",
       "<table border=\"1\" class=\"dataframe\">\n",
       "  <thead>\n",
       "    <tr style=\"text-align: right;\">\n",
       "      <th></th>\n",
       "      <th>SRC</th>\n",
       "      <th>TGT</th>\n",
       "      <th>VOT</th>\n",
       "      <th>RES</th>\n",
       "      <th>YEA</th>\n",
       "      <th>DAT</th>\n",
       "      <th>TXT</th>\n",
       "    </tr>\n",
       "  </thead>\n",
       "  <tbody>\n",
       "    <tr>\n",
       "      <th>0</th>\n",
       "      <td>5943</td>\n",
       "      <td>9966</td>\n",
       "      <td>-1</td>\n",
       "      <td>-1</td>\n",
       "      <td>2012</td>\n",
       "      <td>2012-12-30 22:27:00</td>\n",
       "      <td>—</td>\n",
       "    </tr>\n",
       "    <tr>\n",
       "      <th>1</th>\n",
       "      <td>9153</td>\n",
       "      <td>9966</td>\n",
       "      <td>-1</td>\n",
       "      <td>-1</td>\n",
       "      <td>2012</td>\n",
       "      <td>2012-12-30 22:25:00</td>\n",
       "      <td>'''Oppose'''. This joke really isn't funny, no...</td>\n",
       "    </tr>\n",
       "    <tr>\n",
       "      <th>2</th>\n",
       "      <td>4189</td>\n",
       "      <td>9966</td>\n",
       "      <td>-1</td>\n",
       "      <td>-1</td>\n",
       "      <td>2012</td>\n",
       "      <td>2012-12-30 22:17:00</td>\n",
       "      <td>'''Oppose''' as per nomination and answers. --...</td>\n",
       "    </tr>\n",
       "    <tr>\n",
       "      <th>3</th>\n",
       "      <td>3750</td>\n",
       "      <td>9966</td>\n",
       "      <td>-1</td>\n",
       "      <td>-1</td>\n",
       "      <td>2012</td>\n",
       "      <td>2012-12-30 22:14:00</td>\n",
       "      <td>'''Oppose''' and '''speeedy close''' this as [...</td>\n",
       "    </tr>\n",
       "    <tr>\n",
       "      <th>4</th>\n",
       "      <td>4225</td>\n",
       "      <td>9966</td>\n",
       "      <td>-1</td>\n",
       "      <td>-1</td>\n",
       "      <td>2012</td>\n",
       "      <td>2012-12-30 22:08:00</td>\n",
       "      <td>'''Oppose''' per nomination and answers. I am ...</td>\n",
       "    </tr>\n",
       "  </tbody>\n",
       "</table>\n",
       "</div>"
      ],
      "text/plain": [
       "    SRC   TGT  VOT  RES   YEA                  DAT  \\\n",
       "0  5943  9966   -1   -1  2012  2012-12-30 22:27:00   \n",
       "1  9153  9966   -1   -1  2012  2012-12-30 22:25:00   \n",
       "2  4189  9966   -1   -1  2012  2012-12-30 22:17:00   \n",
       "3  3750  9966   -1   -1  2012  2012-12-30 22:14:00   \n",
       "4  4225  9966   -1   -1  2012  2012-12-30 22:08:00   \n",
       "\n",
       "                                                 TXT  \n",
       "0                                                  —  \n",
       "1  '''Oppose'''. This joke really isn't funny, no...  \n",
       "2  '''Oppose''' as per nomination and answers. --...  \n",
       "3  '''Oppose''' and '''speeedy close''' this as [...  \n",
       "4  '''Oppose''' per nomination and answers. I am ...  "
      ]
     },
     "execution_count": 2,
     "metadata": {},
     "output_type": "execute_result"
    }
   ],
   "source": [
    "import pandas as pd\n",
    "\n",
    "wiki_rfa_df = pd.read_csv(\"wiki-Rfa.csv.gz\", sep=',', compression='gzip')\n",
    "wiki_rfa_df.head()"
   ]
  },
  {
   "cell_type": "code",
   "execution_count": 3,
   "id": "397b01cd",
   "metadata": {},
   "outputs": [
    {
     "name": "stdout",
     "output_type": "stream",
     "text": [
      "The number of distinct Rfa's is 3439.\n",
      "The average number of votes per rfa is 48.561500436173304.\n"
     ]
    }
   ],
   "source": [
    "## number of rfa's, computed assuming that each tgt is an individual RFA (i.e. each person ran in the election once)\n",
    "rfa_number = wiki_rfa_df['TGT'].unique().shape[0]\n",
    "print(f\"The number of distinct Rfa's is {rfa_number}.\")\n",
    "\n",
    "votes_per_rfa = wiki_rfa_df.groupby('TGT')['SRC'].count().mean()\n",
    "print(f\"The average number of votes per rfa is {votes_per_rfa}.\")"
   ]
  },
  {
   "cell_type": "markdown",
   "id": "813b5a32",
   "metadata": {},
   "source": [
    "**1.2** \n",
    "In a single figure with three subfigures (one per item), show the following time series:\n",
    "- the number of RfAs per year;\n",
    "- the overall fraction of positive votes per year; and \n",
    "- the average number of votes per RfA per year.\n",
    "\n",
    "For each of the above three quantities, print the value for the year 2008."
   ]
  },
  {
   "cell_type": "code",
   "execution_count": 4,
   "id": "5c3b6a09",
   "metadata": {},
   "outputs": [],
   "source": [
    "import matplotlib.pyplot as plt"
   ]
  },
  {
   "cell_type": "code",
   "execution_count": 5,
   "id": "b1732d7e",
   "metadata": {},
   "outputs": [
    {
     "data": {
      "text/plain": [
       "Text(0, 0.5, 'Mean number of votes per RFA')"
      ]
     },
     "execution_count": 5,
     "metadata": {},
     "output_type": "execute_result"
    },
    {
     "data": {
      "image/png": "[encoded data removed]",
      "text/plain": [
       "<Figure size 1500x1200 with 3 Axes>"
      ]
     },
     "metadata": {},
     "output_type": "display_data"
    }
   ],
   "source": [
    "rfa_per_year = wiki_rfa_df.groupby('YEA')['TGT'].count().reset_index()\n",
    "\n",
    "pos_year = wiki_rfa_df.loc[wiki_rfa_df['VOT'] == 1]\n",
    "frac_pos_year = pos_year.groupby('YEA')['VOT'].count()/wiki_rfa_df.groupby('YEA')['VOT'].count()\n",
    "frac_pos_year = frac_pos_year.to_frame().reset_index()\n",
    "\n",
    "\n",
    "mean_vot_year = wiki_rfa_df.groupby(['YEA', 'TGT'])['VOT'].count().reset_index() ## gets individual votes and counts them per RFA\n",
    "mean_vot_year = mean_vot_year.groupby(['YEA'])['VOT'].mean().reset_index() ## returns the mean\n",
    "\n",
    "plt.figure(figsize=(15, 12))\n",
    "plt.subplot(3,3,1)\n",
    "plt.bar(rfa_per_year.YEA, rfa_per_year.TGT)\n",
    "plt.xlabel(\"Year\")\n",
    "plt.ylabel(\"RFA's per year\")\n",
    "plt.subplot(3,3,2)\n",
    "plt.bar(frac_pos_year.YEA, frac_pos_year.VOT)\n",
    "plt.xlabel(\"Year\")\n",
    "plt.ylabel(\"Fraction of positive votes per year\")\n",
    "plt.subplot(3,3,3)\n",
    "plt.bar(mean_vot_year.YEA, mean_vot_year.VOT)\n",
    "plt.xlabel(\"Year\")\n",
    "plt.ylabel(\"Mean number of votes per RFA\")"
   ]
  },
  {
   "cell_type": "code",
   "execution_count": 6,
   "id": "5b5db1ca",
   "metadata": {},
   "outputs": [
    {
     "name": "stdout",
     "output_type": "stream",
     "text": [
      "The number of RFA's in 2008 is 26833\n",
      "The fraction of positive votes in 2008 is 0.7612268475384787\n",
      "The mean number of votes per RFA in 2008 is 51.60192307692308\n"
     ]
    }
   ],
   "source": [
    "print(f\"The number of RFA's in 2008 is {rfa_per_year.loc[5, 'TGT']}\")\n",
    "print(f\"The fraction of positive votes in 2008 is {frac_pos_year.loc[5, 'VOT']}\")\n",
    "print(f\"The mean number of votes per RFA in 2008 is {mean_vot_year.loc[5, 'VOT']}\")"
   ]
  },
  {
   "cell_type": "markdown",
   "id": "366d38d9",
   "metadata": {},
   "source": [
    "**1.3** \n",
    "**/Discuss:/** Describe the temporal patterns observed in the plots you did in **T1.2**."
   ]
  },
  {
   "cell_type": "markdown",
   "id": "e77900f8",
   "metadata": {},
   "source": [
    "**A1.3** \n",
    "The number of RFA4s per year decreases sharply year on year after 2006 as does the fraction of positive votes. However, the mean number of votes increases sharply as a whole from 2003 to 2012."
   ]
  },
  {
   "cell_type": "markdown",
   "id": "81126c89",
   "metadata": {},
   "source": [
    "**1.4** \n",
    "Create an undirected graph ([`nx.Graph`](https://networkx.org/documentation/stable/reference/classes/graph.html)) where every node corresponds to a Wikipedia user (source or target of an RfA) and where there exists an edge between two users if at least one of them has voted on the other. Each edge should have attributes corresponding to columns of the dataframe, namely:\n",
    "- `VOT`, which equals `1` if the vote was positive, and `-1` otherwise.\n",
    "- `YEA`, an integer that represents the year of the RfA.\n",
    "\n",
    "**The code to load the graph has been provided to you!** After running it, print the number of nodes and edges in your graph.\n",
    "\n",
    "---\n",
    "\n",
    "**Observation:** Note that we have at most one edge per pair of nodes in the graph, even though two votes may be associated with the pair  — e.g., if A voted in B's RfA in time $t_1$ and B voted in A's RfA in time $t_2$ ($t_1 < t_2$). In these cases, the code provided associates the metadata of the oldest vote ($t_1$ in the example) to the edge between A and B."
   ]
  },
  {
   "cell_type": "code",
   "execution_count": 7,
   "id": "e57d4776",
   "metadata": {},
   "outputs": [],
   "source": [
    "# Provided code! Do not change!\n",
    "import networkx as nx\n",
    "import pandas as pd\n",
    "G = nx.from_pandas_edgelist(pd.read_csv(\"./wiki-RfA.csv.gz\"), \n",
    "                            'SRC', 'TGT', ['VOT', 'RES', 'YEA', 'DAT'], create_using=nx.Graph)"
   ]
  },
  {
   "cell_type": "code",
   "execution_count": 8,
   "id": "f21ec7a6",
   "metadata": {},
   "outputs": [
    {
     "name": "stdout",
     "output_type": "stream",
     "text": [
      "The graph has 10831 nodes and 161147 edges.\n"
     ]
    }
   ],
   "source": [
    "n_nodes = nx.number_of_nodes(G)\n",
    "n_edges = nx.number_of_edges(G)\n",
    "\n",
    "print(f\"The graph has {n_nodes} nodes and {n_edges} edges.\")"
   ]
  },
  {
   "cell_type": "markdown",
   "id": "37cbd1b8",
   "metadata": {},
   "source": [
    "**1.5** \n",
    "Plot the **complementary** cumulative distribution of the degree centrality of the undirected graph. Use a logarithmic (base 10) x-axis and a linear y-axis."
   ]
  },
  {
   "cell_type": "code",
   "execution_count": 10,
   "id": "a076c28a",
   "metadata": {},
   "outputs": [],
   "source": [
    "import seaborn as sns\n",
    "import numpy as np"
   ]
  },
  {
   "cell_type": "code",
   "execution_count": 11,
   "id": "c1edfd6a",
   "metadata": {},
   "outputs": [
    {
     "data": {
      "text/plain": [
       "Text(0.5, 0, 'Degree centrality')"
      ]
     },
     "execution_count": 11,
     "metadata": {},
     "output_type": "execute_result"
    },
    {
     "data": {
      "image/png": "[encoded data removed]",
      "text/plain": [
       "<Figure size 640x480 with 1 Axes>"
      ]
     },
     "metadata": {},
     "output_type": "display_data"
    }
   ],
   "source": [
    "degree_centrality = G.degree()\n",
    "\n",
    "sns.ecdfplot(list(dict(G.degree()).values()), complementary=True)\n",
    "plt.xscale(\"log\")\n",
    "plt.axvline(10)\n",
    "plt.axhline(0.4)\n",
    "plt.title(\"Complementary CDF\")\n",
    "plt.xlabel(\"Degree centrality\")"
   ]
  },
  {
   "cell_type": "markdown",
   "id": "935be3bf",
   "metadata": {},
   "source": [
    "\n",
    "**1.6**\n",
    "**/Discuss:/** Why is the following statement false? Justify your answer. **\"From the graph obtained in task 1.5, one can conclude that around 40% of the users voted at least 11 times.\"**\n"
   ]
  },
  {
   "cell_type": "markdown",
   "id": "3316f395",
   "metadata": {},
   "source": [
    "**A1.6**\n",
    "No because the graph above also takes into account the presence of in and out votes => they have participated in an election one way or another 11 times."
   ]
  },
  {
   "cell_type": "markdown",
   "id": "9d1d5f4a",
   "metadata": {},
   "source": [
    "**1.7**\n",
    "What fraction of users voted at least 11 times? Use the data to measure the fraction."
   ]
  },
  {
   "cell_type": "code",
   "execution_count": 12,
   "id": "a167a11b",
   "metadata": {},
   "outputs": [
    {
     "name": "stdout",
     "output_type": "stream",
     "text": [
      "0.2287510841283608\n"
     ]
    }
   ],
   "source": [
    "n_votes = wiki_rfa_df.groupby('SRC')['VOT'].value_counts().reset_index()\n",
    "frac_11 = n_votes[n_votes['count'] >= 11].shape[0]/n_votes.shape[0]\n",
    "print(frac_11)"
   ]
  },
  {
   "cell_type": "markdown",
   "id": "35b05b29",
   "metadata": {},
   "source": [
    "### Task 2: Triangles\n",
    "\n",
    "Next, you set out to investigate the social balance theory by looking at the RfA graph.\n",
    "\n",
    "**2.1**\n",
    "Considering _only_ the RfAs of 2004 (i.e., where `YEA == 2004`), generate all triangles in the undirected graph.\n",
    "Print the number of triangles found.\n",
    "- **Hint:** Note that you can generate a graph with only a subset of nodes and edges via ` G.edge_subgraph`.\n",
    "-  **Hint:** The function `nx.enumerate_all_cliques` generates all cliques in an undirected graph. First, all cliques of size 1 are generated, then all cliques of size 2, etc. Triangles are cliques of size 3.\n"
   ]
  },
  {
   "cell_type": "code",
   "execution_count": 31,
   "id": "b39a403e",
   "metadata": {},
   "outputs": [
    {
     "name": "stdout",
     "output_type": "stream",
     "text": [
      "There are 8448 triangles in the graph.\n"
     ]
    }
   ],
   "source": [
    "e2004 = [(u,v) for u,v,e in G.edges(data=True) if e['YEA'] == 2004]\n",
    "\n",
    "G2004 = G.edge_subgraph(e2004)\n",
    "triangles = nx.enumerate_all_cliques(G2004)\n",
    "def enumerate_all_cliques_size_k(G, k):\n",
    "    i = 0\n",
    "    for clique in nx.enumerate_all_cliques(G):\n",
    "        if len(clique) == k:\n",
    "            i += 1\n",
    "        elif len(clique) > k:\n",
    "            return i\n",
    "    return i\n",
    "n_triangles = enumerate_all_cliques_size_k(G2004, 3)\n",
    "print(f\"There are {n_triangles} triangles in the graph.\")"
   ]
  },
  {
   "cell_type": "markdown",
   "id": "9b8ac389",
   "metadata": {},
   "source": [
    "**2.2 ** **/True or false:/** Is the following statement true or false? Justify your answer. **\"The node with the highest clustering coefficient in an undirected graph is the node that belongs to the largest number of triangles.\"**"
   ]
  },
  {
   "cell_type": "markdown",
   "id": "f961eef7",
   "metadata": {},
   "source": [
    "**A2.2**\n",
    "Clustering coefficient returns the likelihood that two nodes connected to a specific node are also connected to each other - hence forming a triangle. => definition for a graph\n",
    "\n",
    "For a node we only know that the  The local clustering coefficient for a node is the proportion of links between the vertices within its neighborhood divided by the number of links that could possibly exist between them. It does not tell us anything about the number of trianglles"
   ]
  },
  {
   "cell_type": "markdown",
   "id": "e2f5b22c",
   "metadata": {},
   "source": [
    "**2.3** Considering the set of triangles previously calculated, estimate the fraction of triangles of configurations\n",
    " $\\{+,+,+\\}$,  $\\{-,-,-\\}$,  $\\{+,+,-\\}$, and $\\{+,-,-\\}$. What fraction of triangles are \"balanced\" according to structural balance theory?"
   ]
  },
  {
   "cell_type": "code",
   "execution_count": 63,
   "id": "f858e94c",
   "metadata": {},
   "outputs": [
    {
     "name": "stdout",
     "output_type": "stream",
     "text": [
      "6696\n",
      "1178\n",
      "530\n",
      "44\n",
      "There are 0.8553503787878788% balanced groups in the graph\n"
     ]
    }
   ],
   "source": [
    "import itertools\n",
    "\n",
    "pos3=0\n",
    "pos2=0\n",
    "pos1=0\n",
    "pos0=0\n",
    "\n",
    "triangles = [clique for clique in nx.enumerate_all_cliques(G2004) if len(clique) == 3]  # Get all triangles\n",
    "\n",
    "for triangle in triangles:\n",
    "    plus = 0\n",
    "    # Generate edges by pairing nodes in the triangle\n",
    "    triangle_edges = [(u, v) for u, v in itertools.combinations(triangle, 2) if G2004.has_edge(u, v)]\n",
    "    \n",
    "    for u, v in triangle_edges:\n",
    "        edge_data = G2004.get_edge_data(u, v)\n",
    "        if edge_data and edge_data.get('VOT') == 1:            \n",
    "            plus += 1\n",
    "    \n",
    "    # Increment appropriate counter based on the number of edges with VOT = 1\n",
    "    if plus == 3:\n",
    "        pos3 += 1\n",
    "    elif plus == 2:\n",
    "        pos2 += 1\n",
    "    elif plus == 1:\n",
    "        pos1 += 1\n",
    "    else:\n",
    "        pos0 += 1\n",
    "\n",
    "balanced = pos3+pos1\n",
    "print(f\"There are {balanced/n_triangles}% balanced groups in the graph\")\n",
    "\n",
    "##subgraph is probably easier than all of this shit... voir correction"
   ]
  },
  {
   "cell_type": "markdown",
   "id": "97e6f9f0",
   "metadata": {},
   "source": [
    "**2.4** To observe how triangle configurations would be distributed under a random null model, do the following:\n",
    "- Create a new column `VOT_RND` in the dataframe, where RfA votes (i.e., edge signs in the graph) are shuffled, i.e., permuted randomly.  For shuffling, use `numpy.random`, without replacement and with the seed 32 (see code provided below).\n",
    "- Create a new edge attribute with the values of `VOT_RND` in the graph you created in task **1.4**. You can do this easily using the  [`set_edge_attributes`](https://networkx.org/documentation/stable/reference/generated/networkx.classes.function.set_edge_attributes.html) function.\n",
    "- Considering the shuffled edge signs,  compute the fraction of triangles in each configuration ($\\{+,+,+\\}$,  $\\{-,-,-\\}$,  $\\{+,+,-\\}$, $\\{+,-,-\\}$). Moreover, compute the fraction of triangles that are \"balanced\" according to structural balance theory. (Reminder: consider only the RfAs of 2004.)\n"
   ]
  },
  {
   "cell_type": "code",
   "execution_count": 64,
   "id": "8b4cba61",
   "metadata": {},
   "outputs": [],
   "source": [
    "# PROVIDED STUB FOR 2.4\n",
    "import numpy as np\n",
    "np.random.seed(32)\n",
    "wiki_rfa_2004_df = wiki_rfa_df[wiki_rfa_df.YEA == 2004].copy(deep=True)\n",
    "wiki_rfa_2004_df[\"VOT_RND\"] = np.random.choice(wiki_rfa_2004_df[\"VOT\"].values, size=len(wiki_rfa_2004_df), replace=False)"
   ]
  },
  {
   "cell_type": "code",
   "execution_count": 65,
   "id": "7fce1c1e",
   "metadata": {},
   "outputs": [
    {
     "data": {
      "text/html": [
       "<div>\n",
       "<style scoped>\n",
       "    .dataframe tbody tr th:only-of-type {\n",
       "        vertical-align: middle;\n",
       "    }\n",
       "\n",
       "    .dataframe tbody tr th {\n",
       "        vertical-align: top;\n",
       "    }\n",
       "\n",
       "    .dataframe thead th {\n",
       "        text-align: right;\n",
       "    }\n",
       "</style>\n",
       "<table border=\"1\" class=\"dataframe\">\n",
       "  <thead>\n",
       "    <tr style=\"text-align: right;\">\n",
       "      <th></th>\n",
       "      <th>SRC</th>\n",
       "      <th>TGT</th>\n",
       "      <th>VOT</th>\n",
       "      <th>RES</th>\n",
       "      <th>YEA</th>\n",
       "      <th>DAT</th>\n",
       "      <th>TXT</th>\n",
       "      <th>VOT_RND</th>\n",
       "    </tr>\n",
       "  </thead>\n",
       "  <tbody>\n",
       "    <tr>\n",
       "      <th>156954</th>\n",
       "      <td>6578</td>\n",
       "      <td>4575</td>\n",
       "      <td>-1</td>\n",
       "      <td>-1</td>\n",
       "      <td>2004</td>\n",
       "      <td>2005-09-15 07:54:00</td>\n",
       "      <td>'''Oppose''' as above.  Too few WP space edits...</td>\n",
       "      <td>1</td>\n",
       "    </tr>\n",
       "    <tr>\n",
       "      <th>156961</th>\n",
       "      <td>636</td>\n",
       "      <td>4575</td>\n",
       "      <td>1</td>\n",
       "      <td>-1</td>\n",
       "      <td>2004</td>\n",
       "      <td>2005-09-15 04:04:00</td>\n",
       "      <td>'''Support'''.</td>\n",
       "      <td>1</td>\n",
       "    </tr>\n",
       "    <tr>\n",
       "      <th>156970</th>\n",
       "      <td>6413</td>\n",
       "      <td>4575</td>\n",
       "      <td>1</td>\n",
       "      <td>-1</td>\n",
       "      <td>2004</td>\n",
       "      <td>2005-09-15 01:08:00</td>\n",
       "      <td>'''Support''' due to the quality of his contri...</td>\n",
       "      <td>1</td>\n",
       "    </tr>\n",
       "    <tr>\n",
       "      <th>156981</th>\n",
       "      <td>1299</td>\n",
       "      <td>4575</td>\n",
       "      <td>-1</td>\n",
       "      <td>-1</td>\n",
       "      <td>2004</td>\n",
       "      <td>2005-09-14 19:32:00</td>\n",
       "      <td>'''Oppose''' as per [[User:Splash|Splash]], [[...</td>\n",
       "      <td>1</td>\n",
       "    </tr>\n",
       "    <tr>\n",
       "      <th>157001</th>\n",
       "      <td>2591</td>\n",
       "      <td>4575</td>\n",
       "      <td>1</td>\n",
       "      <td>-1</td>\n",
       "      <td>2004</td>\n",
       "      <td>2005-09-14 04:09:00</td>\n",
       "      <td>'''Support''' due to his high volume of qualit...</td>\n",
       "      <td>1</td>\n",
       "    </tr>\n",
       "  </tbody>\n",
       "</table>\n",
       "</div>"
      ],
      "text/plain": [
       "         SRC   TGT  VOT  RES   YEA                  DAT  \\\n",
       "156954  6578  4575   -1   -1  2004  2005-09-15 07:54:00   \n",
       "156961   636  4575    1   -1  2004  2005-09-15 04:04:00   \n",
       "156970  6413  4575    1   -1  2004  2005-09-15 01:08:00   \n",
       "156981  1299  4575   -1   -1  2004  2005-09-14 19:32:00   \n",
       "157001  2591  4575    1   -1  2004  2005-09-14 04:09:00   \n",
       "\n",
       "                                                      TXT  VOT_RND  \n",
       "156954  '''Oppose''' as above.  Too few WP space edits...        1  \n",
       "156961                                     '''Support'''.        1  \n",
       "156970  '''Support''' due to the quality of his contri...        1  \n",
       "156981  '''Oppose''' as per [[User:Splash|Splash]], [[...        1  \n",
       "157001  '''Support''' due to his high volume of qualit...        1  "
      ]
     },
     "execution_count": 65,
     "metadata": {},
     "output_type": "execute_result"
    }
   ],
   "source": [
    "wiki_rfa_2004_df.head()"
   ]
  },
  {
   "cell_type": "code",
   "execution_count": 66,
   "id": "49cf240b",
   "metadata": {},
   "outputs": [],
   "source": [
    "edge_attr_dict = {(row['SRC'], row['TGT']): row['VOT_RND'] for _, row in wiki_rfa_2004_df.iterrows()}\n",
    "nx.set_edge_attributes(G2004, edge_attr_dict, 'VOT_RND') ## à revoir par la suite"
   ]
  },
  {
   "cell_type": "code",
   "execution_count": 67,
   "id": "255132d4",
   "metadata": {},
   "outputs": [
    {
     "name": "stdout",
     "output_type": "stream",
     "text": [
      "0.8740467404674047\n",
      "0.1259532595325953\n",
      "0.6816008144083112\n",
      "0.09822111370026887\n",
      "68.16008144083112% of the triangles are balanced according to sturcural balance theory\n"
     ]
    }
   ],
   "source": [
    "r_pos_e04 = [(u,v) for u,v,e in G2004.edges(data=True) if e['VOT_RND'] == 1] ## filtering for positive edges (= votes)\n",
    "\n",
    "r_n_pos_e04 = len(r_pos_e04) ## number of positive edges \n",
    "r_n_neg_e04 = nx.number_of_edges(G2004) - r_n_pos_e04 ## number of negative edges\n",
    "\n",
    "r_p_p_e04 = r_n_pos_e04/nx.number_of_edges(G2004) ## probability of positive edge\n",
    "print(r_p_p_e04)\n",
    "r_p_n_e04 = r_n_neg_e04/nx.number_of_edges(G2004) ## probability of negative edge\n",
    "print(r_p_n_e04)\n",
    "\n",
    "r_p_balanced = np.power(r_p_p_e04, 3) + r_p_p_e04*np.power(r_p_n_e04, 2) \n",
    "print(r_p_balanced)\n",
    "## balanced probability give by probability of three pos and probability of 1 pos and 2neg\n",
    "r_p_unbalanced = np.power(r_p_n_e04, 3) + r_p_n_e04*np.power(r_p_p_e04, 2)\n",
    "print(r_p_unbalanced) \n",
    "\n",
    "frac_bal_triangles = r_p_balanced*n_triangles/n_triangles\n",
    "print(f\"{frac_bal_triangles*100}% of the triangles are balanced according to sturcural balance theory\")"
   ]
  },
  {
   "cell_type": "markdown",
   "id": "f055a145",
   "metadata": {},
   "source": [
    "**2.5** **/Discuss:/** Do the results of tasks **2.3** and **2.4** suggest that structural balance theory is correct? What kind of subsequent analysis would make you trust that the results are not obtained simply by chance? (No need to actually perform that subsequent analysis here.) Justify your answer."
   ]
  },
  {
   "cell_type": "markdown",
   "id": "dcd070a6",
   "metadata": {},
   "source": [
    "**A2.5** \n",
    "The results are similar to the ones we computed previously. These suggest that structural balance theory is correct. A correlation or independence analysis could be performed afterwards to ensure that these results were not obtained by chance."
   ]
  },
  {
   "cell_type": "markdown",
   "id": "d5252ffb",
   "metadata": {},
   "source": [
    "### Interlude: Additional data\n",
    "\n",
    "In the data provided in the file `wiki-RfA.csv.gz` (with which you’ve worked up to now), each column corresponds to a vote from a user $u$ to a user $v$ at a time $t$. \n",
    "\n",
    "In **Task 2**, we did not consider the temporal aspect of this network. For the next task, you are provided with a complimentary dataset (`data/wiki-RfA_extra.csv.gz`) containing, for each vote (uniquely determined by `SRC` and `TGT`), a variety of features. **Importantly, these features were calculated considering only data that was already available at the time when the respective vote was cast.** The features are described as follows.\n",
    "\n",
    "- `PP`, `NN`, `PN` — Each vote (signed edge) is part of zero or more triangles, and we computed the number of triangles in which the two remaining edges were both positive (`PP`), both negative (`NN`) and of different signs (i.e., one positive and one negative, `PN`). This considers only the votes the target (denoted by `TGT`) has received before the current vote. \n",
    "\n",
    "- `P`, `N` — The number of positive (`P`) and negative (`N`) votes that the target `TGT` received before the current vote.\n",
    "\n",
    "- `TXT_PROCESSED` — The text in the original dataset, processed so 1) it is entirely lower-case, 2) it does not contain non-alphanumeric characters, and 3) it does not contain words starting with “supp” or “opp” (since words such as \"support\" and \"oppose\"  are obvious give-away signals of the vote).\n",
    "\n",
    "### Interlude: Predicting edge signs with structural balance theory\n",
    "\n",
    "We can use structural balance theory to predict edge signs. \n",
    "\n",
    "Consider an edge whose sign we do not know, as well as the fractions `PP`, `NN`, and `PN` associated with the edge, as defined above. \n",
    "\n",
    "According to structural balance theory, if `PP` + `NN` $\\geq$ `PN`, the vote is predicted to be positive, as this will create more balanced triangles in the graph. Otherwise, it is predicted to be negative. \n",
    "\n",
    "According to the weak structural balance theory, if `PP` $\\geq$ `PN`, the vote is predicted to be positive, as this will create more balanced triangles in the graph. Otherwise, it is predicted to be negative. \n",
    "\n",
    "Note that in both cases we use “$\\geq$” rather than “<”, i.e., when both sides of the equation are equal, we break ties in favor of positive edges. We do so because there are more positive edges in the graph."
   ]
  },
  {
   "cell_type": "markdown",
   "id": "e2f20eed",
   "metadata": {},
   "source": [
    "### Task 3: Predict it!\n",
    "\n",
    "In the final part of the exam, you will leverage your machine learning and regression skills.\n",
    "\n",
    "**3.1** Merge the new dataset with the original dataframe from task **1** using the columns `SRC` and `TGT`. You may drop the old `TXT` column if you want to. \n"
   ]
  },
  {
   "cell_type": "code",
   "execution_count": 77,
   "id": "a2272113",
   "metadata": {},
   "outputs": [
    {
     "data": {
      "text/html": [
       "<div>\n",
       "<style scoped>\n",
       "    .dataframe tbody tr th:only-of-type {\n",
       "        vertical-align: middle;\n",
       "    }\n",
       "\n",
       "    .dataframe tbody tr th {\n",
       "        vertical-align: top;\n",
       "    }\n",
       "\n",
       "    .dataframe thead th {\n",
       "        text-align: right;\n",
       "    }\n",
       "</style>\n",
       "<table border=\"1\" class=\"dataframe\">\n",
       "  <thead>\n",
       "    <tr style=\"text-align: right;\">\n",
       "      <th></th>\n",
       "      <th>SRC</th>\n",
       "      <th>TGT</th>\n",
       "      <th>VOT</th>\n",
       "      <th>RES</th>\n",
       "      <th>YEA</th>\n",
       "      <th>DAT</th>\n",
       "      <th>PP</th>\n",
       "      <th>NN</th>\n",
       "      <th>PN</th>\n",
       "      <th>N</th>\n",
       "      <th>P</th>\n",
       "      <th>TXT_PROCESSED</th>\n",
       "    </tr>\n",
       "  </thead>\n",
       "  <tbody>\n",
       "    <tr>\n",
       "      <th>0</th>\n",
       "      <td>5943</td>\n",
       "      <td>9966</td>\n",
       "      <td>-1</td>\n",
       "      <td>-1</td>\n",
       "      <td>2012</td>\n",
       "      <td>2012-12-30 22:27:00</td>\n",
       "      <td>2</td>\n",
       "      <td>0</td>\n",
       "      <td>4</td>\n",
       "      <td>12</td>\n",
       "      <td>0</td>\n",
       "      <td></td>\n",
       "    </tr>\n",
       "    <tr>\n",
       "      <th>1</th>\n",
       "      <td>9153</td>\n",
       "      <td>9966</td>\n",
       "      <td>-1</td>\n",
       "      <td>-1</td>\n",
       "      <td>2012</td>\n",
       "      <td>2012-12-30 22:25:00</td>\n",
       "      <td>2</td>\n",
       "      <td>1</td>\n",
       "      <td>3</td>\n",
       "      <td>11</td>\n",
       "      <td>0</td>\n",
       "      <td>this joke really isn t funny not even if you ...</td>\n",
       "    </tr>\n",
       "    <tr>\n",
       "      <th>2</th>\n",
       "      <td>4189</td>\n",
       "      <td>9966</td>\n",
       "      <td>-1</td>\n",
       "      <td>-1</td>\n",
       "      <td>2012</td>\n",
       "      <td>2012-12-30 22:17:00</td>\n",
       "      <td>0</td>\n",
       "      <td>0</td>\n",
       "      <td>2</td>\n",
       "      <td>10</td>\n",
       "      <td>0</td>\n",
       "      <td>as per nomination and answers</td>\n",
       "    </tr>\n",
       "    <tr>\n",
       "      <th>3</th>\n",
       "      <td>3750</td>\n",
       "      <td>9966</td>\n",
       "      <td>-1</td>\n",
       "      <td>-1</td>\n",
       "      <td>2012</td>\n",
       "      <td>2012-12-30 22:14:00</td>\n",
       "      <td>0</td>\n",
       "      <td>0</td>\n",
       "      <td>0</td>\n",
       "      <td>9</td>\n",
       "      <td>0</td>\n",
       "      <td>and speeedy close this as wp snow as it s cle...</td>\n",
       "    </tr>\n",
       "    <tr>\n",
       "      <th>4</th>\n",
       "      <td>4225</td>\n",
       "      <td>9966</td>\n",
       "      <td>-1</td>\n",
       "      <td>-1</td>\n",
       "      <td>2012</td>\n",
       "      <td>2012-12-30 22:08:00</td>\n",
       "      <td>0</td>\n",
       "      <td>0</td>\n",
       "      <td>1</td>\n",
       "      <td>8</td>\n",
       "      <td>0</td>\n",
       "      <td>per nomination and answers i am particularly ...</td>\n",
       "    </tr>\n",
       "  </tbody>\n",
       "</table>\n",
       "</div>"
      ],
      "text/plain": [
       "    SRC   TGT  VOT  RES   YEA                  DAT  PP  NN  PN   N  P  \\\n",
       "0  5943  9966   -1   -1  2012  2012-12-30 22:27:00   2   0   4  12  0   \n",
       "1  9153  9966   -1   -1  2012  2012-12-30 22:25:00   2   1   3  11  0   \n",
       "2  4189  9966   -1   -1  2012  2012-12-30 22:17:00   0   0   2  10  0   \n",
       "3  3750  9966   -1   -1  2012  2012-12-30 22:14:00   0   0   0   9  0   \n",
       "4  4225  9966   -1   -1  2012  2012-12-30 22:08:00   0   0   1   8  0   \n",
       "\n",
       "                                       TXT_PROCESSED  \n",
       "0                                                     \n",
       "1   this joke really isn t funny not even if you ...  \n",
       "2                     as per nomination and answers   \n",
       "3   and speeedy close this as wp snow as it s cle...  \n",
       "4   per nomination and answers i am particularly ...  "
      ]
     },
     "execution_count": 77,
     "metadata": {},
     "output_type": "execute_result"
    }
   ],
   "source": [
    "wiki_rfa_extra_df = pd.read_csv(\"wiki-Rfa_extra.csv.gz\", sep=',', compression='gzip')\n",
    "wiki_rfa_merged_df = pd.merge(wiki_rfa_df, wiki_rfa_extra_df, on=['SRC', 'TGT', 'YEA'], how='inner')\n",
    "wiki_rfa_merged_df.drop(['TXT'], axis=1, inplace=True)\n",
    "wiki_rfa_merged_df.head()"
   ]
  },
  {
   "cell_type": "markdown",
   "id": "c5d42a2d",
   "metadata": {},
   "source": [
    "**3.2**  Create the following two rule-based classifiers, and for each, estimate its area under the ROC curve (a.k.a. “AUC/ROC”) on the entire dataset:\n",
    "\n",
    "- **A)** a classifier inspired by structural balance theory. The classifier should predict a positive vote if  `PP` + `NN` $\\geq$ `PN`, and a negative vote otherwise.\n",
    "- **B)** a classifier inspired by weak structural balance theory. The classifier should predict a positive vote if `PP`  $\\geq$ `PN` and a negative vote otherwise."
   ]
  },
  {
   "cell_type": "code",
   "execution_count": 78,
   "id": "cc4ad1d7",
   "metadata": {},
   "outputs": [
    {
     "name": "stdout",
     "output_type": "stream",
     "text": [
      "Index(['SRC', 'TGT', 'VOT', 'RES', 'YEA', 'DAT', 'PP', 'NN', 'PN', 'N', 'P',\n",
      "       'TXT_PROCESSED'],\n",
      "      dtype='object')\n"
     ]
    }
   ],
   "source": [
    "print(wiki_rfa_merged_df.columns)"
   ]
  },
  {
   "cell_type": "code",
   "execution_count": 80,
   "id": "5ffdfb5b",
   "metadata": {},
   "outputs": [],
   "source": [
    "from sklearn.metrics import roc_auc_score"
   ]
  },
  {
   "cell_type": "code",
   "execution_count": null,
   "id": "6a46b2ff",
   "metadata": {},
   "outputs": [
    {
     "name": "stdout",
     "output_type": "stream",
     "text": [
      "0.525390127858417 0.528036104766419\n"
     ]
    }
   ],
   "source": [
    "## good option if lambda function does not work I guess\n",
    "wiki_rfa_merged_df['sbt_pred'] = (wiki_rfa_merged_df['PP'] + wiki_rfa_merged_df['NN'] >=  wiki_rfa_merged_df['PN']).astype(int)\n",
    "wiki_rfa_merged_df['wsbt_pred'] =(wiki_rfa_merged_df['PP']  >=  wiki_rfa_merged_df['PN']).astype(int)\n",
    "\n",
    "sbt_roc_auc = roc_auc_score(wiki_rfa_merged_df['VOT'], wiki_rfa_merged_df['sbt_pred'])\n",
    "wsbt_roc_auc = roc_auc_score(wiki_rfa_merged_df['VOT'], wiki_rfa_merged_df['wsbt_pred'])\n",
    "\n",
    "print(sbt_roc_auc, wsbt_roc_auc)"
   ]
  },
  {
   "cell_type": "markdown",
   "id": "0161ec09",
   "metadata": {},
   "source": [
    "**3.3** To determine if the differences in the classifiers from task **3.2** occur solely due to chance, follow the following bootstrap procedure, using 200 iterations:\n",
    "\n",
    "- **A)** Randomly sample the entire dataset (i.e., votes from the dataframe constructed in task **3.1**) with replacement;\n",
    "- **B)** Compute the difference of the AUC/ROC for the two classifiers on the entire dataset.\n",
    "\n",
    "Then use the distribution of AUC/ROC differences (one difference per bootstrap iteration) to estimate the 95% confidence interval for the AUC/ROC difference."
   ]
  },
  {
   "cell_type": "code",
   "execution_count": 91,
   "id": "61838bd0",
   "metadata": {},
   "outputs": [
    {
     "name": "stdout",
     "output_type": "stream",
     "text": [
      "[-0.00307082 -0.00225711]\n"
     ]
    }
   ],
   "source": [
    "iterations = 200\n",
    "BS = []\n",
    "for i in range(iterations):\n",
    "    sample = wiki_rfa_merged_df.sample(replace=True, frac=1)\n",
    "\n",
    "    sbt_roc_auc = roc_auc_score(sample['VOT'], sample['sbt_pred'])\n",
    "    wsbt_roc_auc = roc_auc_score(sample['VOT'], sample['wsbt_pred'])\n",
    "\n",
    "    BS.append(sbt_roc_auc - wsbt_roc_auc)\n",
    "\n",
    "print(np.quantile(np.array(BS),q=[0.025, 0.975] ))"
   ]
  },
  {
   "cell_type": "markdown",
   "id": "4d0e1569",
   "metadata": {},
   "source": [
    "**3.4 /Discuss:**/ According to the results in tasks **3.2** and **3.3**, which theory better predicts actual edge signs, structural balance theory or the weak structural balance theory? \n"
   ]
  },
  {
   "cell_type": "markdown",
   "id": "94b39801",
   "metadata": {},
   "source": [
    "**A3.4** \n",
    "Negative => wsbt greater than sbt, confidence interval above does not overlap with that computed in 3.2"
   ]
  },
  {
   "cell_type": "markdown",
   "id": "28d37dc1",
   "metadata": {},
   "source": [
    "**3.5** How accurately can we predict the vote with more sophisticated features and algorithms?\n",
    "\n",
    "- Create a TF-IDF representation of the text of each vote  using `sklearn`'s vectorizer ([`sklearn.feature_extraction.text.TfidfVectorizer`](https://scikit-learn.org/stable/modules/generated/sklearn.feature_extraction.text.TfidfVectorizer.html)) with the parameters `max_features=150` and `stop_words='english'`.\n",
    "- Split the  dataset into training and test sets using sklearn [`sklearn.model_selection.train_test_split`](https://scikit-learn.org/stable/modules/generated/sklearn.model_selection.train_test_split.html) using parameters `test_size=0.1` and  `random_state=42`.\n",
    "\n",
    "- Then, train two logistic regression models ([`sklearn.linear_model.SGDClassifier`](https://scikit-learn.org/stable/modules/generated/sklearn.linear_model.SGDClassifier.html)) using parameters `loss='log_loss'` and `max_iter=2000` considering:\n",
    "\n",
    "    - **1)** the TF-IDF feature vector\n",
    "\n",
    "    - **2)** the TF-IDF feature vector and the features `PP`, `NN`, `PN`, `P`, and `N` related to the graph.\n",
    "\n",
    "- Last, report the AUC/ROC of each model in the test set."
   ]
  },
  {
   "cell_type": "code",
   "execution_count": 123,
   "id": "764a00f3",
   "metadata": {},
   "outputs": [],
   "source": [
    "from sklearn.feature_extraction.text import CountVectorizer, TfidfVectorizer\n",
    "from sklearn.model_selection import train_test_split\n",
    "from sklearn.linear_model import SGDClassifier"
   ]
  },
  {
   "cell_type": "code",
   "execution_count": 130,
   "id": "73d95303",
   "metadata": {},
   "outputs": [
    {
     "name": "stdout",
     "output_type": "stream",
     "text": [
      "0.5959780715343829\n",
      "0.6767570062906326\n"
     ]
    }
   ],
   "source": [
    "wiki_rfa_merged_df['TXT_PROCESSED'].fillna(\"\", inplace=True) ## nan values were located\n",
    "y =  (wiki_rfa_merged_df.VOT == 1).values.astype(int)\n",
    "X_train, X_test, y_train, y_test = train_test_split(wiki_rfa_merged_df['TXT_PROCESSED'].values, y, test_size = 0.1, random_state=42)\n",
    "\n",
    "vectorizer = TfidfVectorizer(max_features=150, stop_words=\"english\")\n",
    "\n",
    "X_train = vectorizer.fit_transform(X_train).toarray()\n",
    "X_test = vectorizer.fit_transform(X_test).toarray()\n",
    "clf = SGDClassifier().fit(X_train, y_train)\n",
    "y_pred = clf.predict(X_test)\n",
    "print(roc_auc_score(y_test, y_pred))\n",
    "\n",
    "X_train2, X_test2, _, _ = train_test_split(wiki_rfa_merged_df[[\"PP\", \"NN\", \"PN\", \"N\", \"P\"]].values, y, test_size = 0.1, random_state=42)\n",
    "X_train = np.hstack((X_train, X_train2))\n",
    "X_test = np.hstack((X_test, X_test2))\n",
    "clf = SGDClassifier().fit(X_train, y_train)\n",
    "y_pred = clf.predict(X_test)\n",
    "print(roc_auc_score(y_test, y_pred))"
   ]
  },
  {
   "cell_type": "markdown",
   "id": "898cbdd1",
   "metadata": {},
   "source": [
    "**3.6** **/Discuss:**/  According to the results in task **3.5**, does information from the graph help in the task of predicting the vote even when using the text?  What kind of subsequent analysis would make you trust that the results are not obtained simply by chance? (No need to actually perform that subsequent analysis here.) "
   ]
  },
  {
   "cell_type": "markdown",
   "id": "6b6767ad",
   "metadata": {},
   "source": [
    "**A3.6** Yes"
   ]
  },
  {
   "cell_type": "markdown",
   "id": "7f51071d",
   "metadata": {},
   "source": [
    "**3.7** Putting on your observational studies hat, run two logistic regressions using `statsmodels`.\n",
    "- In the first regression, the vote is the outcome, and `PP`, `NN` and `PN` are the predictors.\n",
    "- In the second regression, the vote is the outcome, and `PP`, `NN`, `PN`, and `N` are the predictors."
   ]
  },
  {
   "cell_type": "code",
   "execution_count": 104,
   "id": "9f8df411",
   "metadata": {},
   "outputs": [
    {
     "name": "stdout",
     "output_type": "stream",
     "text": [
      "Optimization terminated successfully.\n",
      "         Current function value: 0.514594\n",
      "         Iterations 7\n",
      "Optimization terminated successfully.\n",
      "         Current function value: 0.487994\n",
      "         Iterations 7\n",
      "                           Logit Regression Results                           \n",
      "==============================================================================\n",
      "Dep. Variable:                   VOT2   No. Observations:               167003\n",
      "Model:                          Logit   Df Residuals:                   166999\n",
      "Method:                           MLE   Df Model:                            3\n",
      "Date:                Mon, 13 Jan 2025   Pseudo R-squ.:                 0.01804\n",
      "Time:                        00:21:31   Log-Likelihood:                -85939.\n",
      "converged:                       True   LL-Null:                       -87517.\n",
      "Covariance Type:            nonrobust   LLR p-value:                     0.000\n",
      "==============================================================================\n",
      "                 coef    std err          z      P>|z|      [0.025      0.975]\n",
      "------------------------------------------------------------------------------\n",
      "Intercept      1.2781      0.006    206.255      0.000       1.266       1.290\n",
      "PP             0.2493      0.007     34.272      0.000       0.235       0.264\n",
      "PN            -0.5509      0.014    -40.304      0.000      -0.578      -0.524\n",
      "NN            -0.6765      0.040    -16.946      0.000      -0.755      -0.598\n",
      "==============================================================================\n"
     ]
    }
   ],
   "source": [
    "import statsmodels.formula.api as smf\n",
    "\n",
    "wiki_rfa_merged_df[\"VOT2\"] = (wiki_rfa_merged_df['VOT'] == 1).values.astype(int)\n",
    "\n",
    "mod1 = smf.logit(formula='VOT2 ~ PP + PN + NN', data=wiki_rfa_merged_df)\n",
    "res1 = mod1.fit()\n",
    "\n",
    "mod2 = smf.logit(formula='VOT2 ~ PP + PN + NN + N', data=wiki_rfa_merged_df)\n",
    "res2 = mod2.fit()\n",
    "\n",
    "print(res1.summary())\n"
   ]
  },
  {
   "cell_type": "code",
   "execution_count": 96,
   "id": "7002232a",
   "metadata": {},
   "outputs": [
    {
     "name": "stdout",
     "output_type": "stream",
     "text": [
      "                           Logit Regression Results                           \n",
      "==============================================================================\n",
      "Dep. Variable:                   VOT2   No. Observations:               167003\n",
      "Model:                          Logit   Df Residuals:                   166998\n",
      "Method:                           MLE   Df Model:                            4\n",
      "Date:                Mon, 13 Jan 2025   Pseudo R-squ.:                 0.06880\n",
      "Time:                        00:16:37   Log-Likelihood:                -81496.\n",
      "converged:                       True   LL-Null:                       -87517.\n",
      "Covariance Type:            nonrobust   LLR p-value:                     0.000\n",
      "==============================================================================\n",
      "                 coef    std err          z      P>|z|      [0.025      0.975]\n",
      "------------------------------------------------------------------------------\n",
      "Intercept      1.6227      0.008    212.945      0.000       1.608       1.638\n",
      "PP             0.2535      0.008     33.344      0.000       0.239       0.268\n",
      "PN            -0.4561      0.014    -33.013      0.000      -0.483      -0.429\n",
      "NN            -0.5466      0.040    -13.631      0.000      -0.625      -0.468\n",
      "N             -0.0438      0.000    -89.263      0.000      -0.045      -0.043\n",
      "==============================================================================\n"
     ]
    }
   ],
   "source": [
    "print(res2.summary())"
   ]
  },
  {
   "cell_type": "markdown",
   "id": "db15d090",
   "metadata": {},
   "source": [
    "**3.8** **/Discuss:**/   Explain what the coefficient associated with `PP` means in the first regression. Is it in accordance with structural balance theory?"
   ]
  },
  {
   "cell_type": "markdown",
   "id": "48845787",
   "metadata": {},
   "source": [
    "**A3.8** *YOUR ANSWER HERE*"
   ]
  },
  {
   "cell_type": "markdown",
   "id": "49752dbb",
   "metadata": {},
   "source": [
    "**3.9** **/Discuss:**/   Compare the coefficients associated with `PN` and `NN` in the first vs. the second regression. Present a reason that may explain this difference."
   ]
  },
  {
   "cell_type": "markdown",
   "id": "8ab7612b",
   "metadata": {},
   "source": [
    "**A3.9**  *YOUR ANSWER HERE*"
   ]
  },
  {
   "cell_type": "markdown",
   "id": "207c9147",
   "metadata": {},
   "source": [
    "---"
   ]
  }
 ],
 "metadata": {
  "kernelspec": {
   "display_name": "ada_exam_2024",
   "language": "python",
   "name": "python3"
  },
  "language_info": {
   "codemirror_mode": {
    "name": "ipython",
    "version": 3
   },
   "file_extension": ".py",
   "mimetype": "text/x-python",
   "name": "python",
   "nbconvert_exporter": "python",
   "pygments_lexer": "ipython3",
   "version": "3.10.16"
  }
 },
 "nbformat": 4,
 "nbformat_minor": 5
}
